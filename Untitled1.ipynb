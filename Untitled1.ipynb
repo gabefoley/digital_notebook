{
 "cells": [
  {
   "cell_type": "code",
   "execution_count": 18,
   "metadata": {},
   "outputs": [
    {
     "name": "stdout",
     "output_type": "stream",
     "text": [
      "\u001b[1;31;47mAGC\u001b[1;32;47mBright Green\n",
      "\u001b[1;32;47m Bright Green\n",
      "\u001b[1;33;47m Bright Green\n",
      "\u001b[1;34;47m Bright Green\n",
      "\u001b[1;35;47m Bright Green\n",
      "\u001b[1;36;47m Bright Green\n"
     ]
    }
   ],
   "source": [
    "print(\"\\033[1;31;47mAGC\"\"\\033[1;32;47mBright Green\")\n",
    "print(\"\\033[1;32;47m Bright Green\")\n",
    "print(\"\\033[1;33;47m Bright Green\")\n",
    "print(\"\\033[1;34;47m Bright Green\")\n",
    "print(\"\\033[1;35;47m Bright Green\")\n",
    "print(\"\\033[1;36;47m Bright Green\")\n",
    "\n"
   ]
  },
  {
   "cell_type": "code",
   "execution_count": null,
   "metadata": {
    "collapsed": true
   },
   "outputs": [],
   "source": []
  }
 ],
 "metadata": {
  "kernelspec": {
   "display_name": "Python 3",
   "language": "python",
   "name": "python3"
  },
  "language_info": {
   "codemirror_mode": {
    "name": "ipython",
    "version": 3
   },
   "file_extension": ".py",
   "mimetype": "text/x-python",
   "name": "python",
   "nbconvert_exporter": "python",
   "pygments_lexer": "ipython3",
   "version": "3.6.3"
  }
 },
 "nbformat": 4,
 "nbformat_minor": 2
}
