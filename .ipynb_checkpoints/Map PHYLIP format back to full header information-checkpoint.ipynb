{
 "cells": [
  {
   "cell_type": "code",
   "execution_count": 5,
   "metadata": {
    "collapsed": true
   },
   "outputs": [],
   "source": [
    "from fasta import *"
   ]
  },
  {
   "cell_type": "code",
   "execution_count": 11,
   "metadata": {},
   "outputs": [
    {
     "name": "stdout",
     "output_type": "stream",
     "text": [
      "\n"
     ]
    }
   ],
   "source": [
    "# Load in the alignment file and PHYLIP labelled tree\n",
    "\n",
    "original_headers = SeqIO.parse(\"files/phylip_tree/2U1_BLAST_filtered_records_X_removed_C_2_Phylip_amended.aln\", \"fasta\")\n",
    "with open(\"files/phylip_tree/2U1_BLAST_filtered_records_X_removed_C_2.phylip_phyml_tree.txt\", \"a+\") as phylip_tree:\n",
    "    print (phylip_tree.read())\n"
   ]
  },
  {
   "cell_type": "code",
   "execution_count": null,
   "metadata": {
    "collapsed": true
   },
   "outputs": [],
   "source": []
  }
 ],
 "metadata": {
  "kernelspec": {
   "display_name": "Python 3",
   "language": "python",
   "name": "python3"
  },
  "language_info": {
   "codemirror_mode": {
    "name": "ipython",
    "version": 3
   },
   "file_extension": ".py",
   "mimetype": "text/x-python",
   "name": "python",
   "nbconvert_exporter": "python",
   "pygments_lexer": "ipython3",
   "version": "3.6.3"
  }
 },
 "nbformat": 4,
 "nbformat_minor": 2
}
