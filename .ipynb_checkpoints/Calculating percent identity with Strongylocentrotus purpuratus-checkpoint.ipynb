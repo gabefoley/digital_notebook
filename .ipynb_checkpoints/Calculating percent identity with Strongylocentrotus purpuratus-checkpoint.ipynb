{
 "cells": [
  {
   "cell_type": "code",
   "execution_count": null,
   "metadata": {
    "collapsed": true
   },
   "outputs": [],
   "source": [
    "from fasta import *\n",
    "import alignment"
   ]
  },
  {
   "cell_type": "code",
   "execution_count": null,
   "metadata": {
    "collapsed": true
   },
   "outputs": [],
   "source": [
    "# full_records = SeqIO.to_dict(SeqIO.parse(\"files/multiple_hits/collated_sequences_without_strongylocentrotus_purpuratus.fasta\", \"fasta\"))\n",
    "# full_records = SeqIO.to_dict(SeqIO.parse(\"files/multiple_hits/Strongylocentrotus_purpuratus_sequences.fasta\", \"fasta\"))\n",
    "full_records = SeqIO.to_dict(SeqIO.parse(\"files/candidates/2U1_BLAST_unique.fasta\", \"fasta\"))\n",
    "\n",
    "strongylocentrotus_purpuratus = SeqIO.to_dict(SeqIO.parse(\"files/multiple_hits/strongylocentrotus_purpuratus_candidate.fasta\", \"fasta\"))"
   ]
  },
  {
   "cell_type": "code",
   "execution_count": null,
   "metadata": {},
   "outputs": [],
   "source": [
    "for record in full_records.values():\n",
    "    print (\".\")\n",
    "    seq_list = [record, strongylocentrotus_purpuratus[\"XP_786956.3\"] ]\n",
    "    with open (\"files/multiple_hits/tmp/seqs\", \"w\") as file:\n",
    "        SeqIO.write(seq_list, file, \"fasta\")\n",
    "    clustal_align = alignment.align_with_clustal_omega(\"files/multiple_hits/tmp/seqs\")\n",
    "    align_seq = []\n",
    "    for seq in clustal_align:\n",
    "        align_seq.append(seq)\n",
    "    pct_identity = alignment.getPercentIdentity(align_seq[0], align_seq[1])\n",
    "    \n",
    "    if (pct_identity > 40):\n",
    "        print (\"Percent identity is %s \" % (pct_identity))\n",
    "        print (align_seq[0].description)\n",
    "        print (align_seq[1].description)\n",
    "        print ()\n"
   ]
  },
  {
   "cell_type": "code",
   "execution_count": null,
   "metadata": {
    "collapsed": true
   },
   "outputs": [],
   "source": []
  }
 ],
 "metadata": {
  "kernelspec": {
   "display_name": "Python 3",
   "language": "python",
   "name": "python3"
  },
  "language_info": {
   "codemirror_mode": {
    "name": "ipython",
    "version": 3
   },
   "file_extension": ".py",
   "mimetype": "text/x-python",
   "name": "python",
   "nbconvert_exporter": "python",
   "pygments_lexer": "ipython3",
   "version": "3.6.3"
  }
 },
 "nbformat": 4,
 "nbformat_minor": 2
}
