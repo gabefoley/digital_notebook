{
 "cells": [
  {
   "cell_type": "code",
   "execution_count": 1,
   "metadata": {},
   "outputs": [],
   "source": [
    "from fasta import *\n",
    "from checkGenome import *"
   ]
  },
  {
   "cell_type": "code",
   "execution_count": 2,
   "metadata": {
    "collapsed": true
   },
   "outputs": [],
   "source": [
    "# Load the 2U1 files\n",
    "full_record = SeqIO.to_dict(SeqIO.parse(\"files/2U1_and_2U1_like_candidates_BLAST_results_unique_X_seqs_removed.fasta\", \"fasta\"))"
   ]
  },
  {
   "cell_type": "markdown",
   "metadata": {},
   "source": [
    "#### How many sequences do we have in the full records?"
   ]
  },
  {
   "cell_type": "code",
   "execution_count": 3,
   "metadata": {},
   "outputs": [
    {
     "name": "stdout",
     "output_type": "stream",
     "text": [
      "577\n"
     ]
    }
   ],
   "source": [
    "print (len(full_record))"
   ]
  },
  {
   "cell_type": "markdown",
   "metadata": {},
   "source": [
    "#### Now we can chose to exclude sequences with certain words appearing in the header and set a minimum length"
   ]
  },
  {
   "cell_type": "code",
   "execution_count": 4,
   "metadata": {
    "collapsed": true
   },
   "outputs": [],
   "source": [
    "filtered_ids = build_species_count(records=full_record, length=450)"
   ]
  },
  {
   "cell_type": "markdown",
   "metadata": {},
   "source": [
    "#### `filtered_ids` is actually a list that maps Species name to the IDs that come from that species. So we can use it to easily see how many unique species we have and which species are over represented."
   ]
  },
  {
   "cell_type": "code",
   "execution_count": 5,
   "metadata": {},
   "outputs": [
    {
     "name": "stdout",
     "output_type": "stream",
     "text": [
      "There are 172 unique species in our dataset.\n"
     ]
    }
   ],
   "source": [
    "print(\"There are %s unique species in our dataset.\" % (len(filtered_ids)))"
   ]
  },
  {
   "cell_type": "markdown",
   "metadata": {},
   "source": [
    "#### `plot_record_number` is a function that plots the numbers of IDs per species. We can set a minimum number of IDs that a species must have in order to be plotted."
   ]
  },
  {
   "cell_type": "code",
   "execution_count": 6,
   "metadata": {},
   "outputs": [
    {
     "data": {
      "text/html": [
       "<iframe id=\"igraph\" scrolling=\"no\" style=\"border:none;\" seamless=\"seamless\" src=\"https://plot.ly/~gabefoley/3.embed\" height=\"525px\" width=\"100%\"></iframe>"
      ],
      "text/plain": [
       "<plotly.tools.PlotlyDisplay object>"
      ]
     },
     "execution_count": 6,
     "metadata": {},
     "output_type": "execute_result"
    }
   ],
   "source": [
    "plotthis = plot_record_number(filtered_ids, min=0)\n",
    "py.iplot(plotthis, filename='inline_bar')"
   ]
  },
  {
   "cell_type": "code",
   "execution_count": 7,
   "metadata": {},
   "outputs": [
    {
     "data": {
      "text/html": [
       "<iframe id=\"igraph\" scrolling=\"no\" style=\"border:none;\" seamless=\"seamless\" src=\"https://plot.ly/~gabefoley/3.embed\" height=\"525px\" width=\"100%\"></iframe>"
      ],
      "text/plain": [
       "<plotly.tools.PlotlyDisplay object>"
      ]
     },
     "execution_count": 7,
     "metadata": {},
     "output_type": "execute_result"
    }
   ],
   "source": [
    "plotthis = plot_record_number(filtered_ids, min=2)\n",
    "py.iplot(plotthis, filename='inline_bar')"
   ]
  },
  {
   "cell_type": "code",
   "execution_count": 8,
   "metadata": {
    "scrolled": true
   },
   "outputs": [
    {
     "data": {
      "text/html": [
       "<iframe id=\"igraph\" scrolling=\"no\" style=\"border:none;\" seamless=\"seamless\" src=\"https://plot.ly/~gabefoley/3.embed\" height=\"525px\" width=\"100%\"></iframe>"
      ],
      "text/plain": [
       "<plotly.tools.PlotlyDisplay object>"
      ]
     },
     "execution_count": 8,
     "metadata": {},
     "output_type": "execute_result"
    }
   ],
   "source": [
    "plotthis = plot_record_number(filtered_ids, min=20)\n",
    "py.iplot(plotthis, filename='inline_bar')"
   ]
  },
  {
   "cell_type": "markdown",
   "metadata": {},
   "source": [
    "#### We can also just extract the names using `get_species_name`, which also accepts a minimum number of IDs required and can print out the number of counts per each species"
   ]
  },
  {
   "cell_type": "code",
   "execution_count": 9,
   "metadata": {},
   "outputs": [
    {
     "name": "stdout",
     "output_type": "stream",
     "text": [
      "Strongylocentrotus purpuratus\n",
      "Acanthaster planci\n",
      "Saccoglossus kowalevskii\n",
      "Branchiostoma belcheri\n",
      "Ciona intestinalis\n",
      "Aplysia californica\n",
      "Biomphalaria glabrata\n",
      "Hypsibius dujardini\n"
     ]
    }
   ],
   "source": [
    "get_species_names(filtered_ids, min=5)"
   ]
  },
  {
   "cell_type": "code",
   "execution_count": 10,
   "metadata": {},
   "outputs": [
    {
     "name": "stdout",
     "output_type": "stream",
     "text": [
      "Strongylocentrotus purpuratus 14\n",
      "Acanthaster planci 15\n",
      "Saccoglossus kowalevskii 17\n",
      "Branchiostoma belcheri 51\n",
      "Ciona intestinalis 9\n",
      "Aplysia californica 6\n",
      "Biomphalaria glabrata 8\n",
      "Hypsibius dujardini 13\n"
     ]
    }
   ],
   "source": [
    "get_species_names(filtered_ids, min=5, counts=True)"
   ]
  },
  {
   "cell_type": "markdown",
   "metadata": {},
   "source": [
    "#### `count_ids` is a function that counts the total number of sequences in filtered_ids, not just the number of unique species."
   ]
  },
  {
   "cell_type": "code",
   "execution_count": 11,
   "metadata": {},
   "outputs": [
    {
     "name": "stdout",
     "output_type": "stream",
     "text": [
      "There are 351 total sequences in our filtered dataset.\n"
     ]
    }
   ],
   "source": [
    "print (\"There are %s total sequences in our filtered dataset.\" % (count_ids(filtered_ids)))"
   ]
  },
  {
   "cell_type": "markdown",
   "metadata": {},
   "source": [
    "#### As before, it can also take a minimum number of IDs required"
   ]
  },
  {
   "cell_type": "code",
   "execution_count": 12,
   "metadata": {},
   "outputs": [
    {
     "name": "stdout",
     "output_type": "stream",
     "text": [
      "There are 133 total sequences in our filtered dataset that have 5 or more IDs per species.\n"
     ]
    }
   ],
   "source": [
    "min_num = 5\n",
    "print (\"There are %s total sequences in our filtered dataset that have %d or more IDs per species.\" % (count_ids(filtered_ids, min=min_num), min_num))"
   ]
  },
  {
   "cell_type": "code",
   "execution_count": 13,
   "metadata": {},
   "outputs": [
    {
     "name": "stdout",
     "output_type": "stream",
     "text": [
      "Branchiostoma belcheri\n",
      "['109487146', '109486409', '109484168', '109484145', '109483948', '109483947', '109483946', '109483935', '109483920', '109483337', '109483074', '109481879', '109481878', '109481830', '109480295', '109478642', '109477107', '109477038', '109475266', '109475079']\n",
      "\n",
      "Gene id is 109487146 \n",
      "Gene region starts at 1229419\n",
      "Gene region ends at 1235098\n",
      "Gene region is 5679 nucleotides long \n",
      "Chromosome is unassigned\n",
      "\n",
      "Gene id is 109486409 \n",
      "Gene region starts at 3644259\n",
      "Gene region ends at 3648598\n",
      "Gene region is 4339 nucleotides long \n",
      "Chromosome is unassigned\n",
      "\n",
      "Gene id is 109484168 \n",
      "Gene region starts at 1643154\n",
      "Gene region ends at 1648384\n",
      "Gene region is 5230 nucleotides long \n",
      "Chromosome is unassigned\n",
      "\n",
      "Gene id is 109484145 \n",
      "Gene region starts at 1649892\n",
      "Gene region ends at 1653532\n",
      "Gene region is 3640 nucleotides long \n",
      "Chromosome is unassigned\n",
      "\n",
      "Gene id is 109483948 \n",
      "Gene region starts at 239259\n",
      "Gene region ends at 249557\n",
      "Gene region is 10298 nucleotides long \n",
      "Chromosome is unassigned\n",
      "\n",
      "Gene id is 109483947 \n",
      "Gene region starts at 251227\n",
      "Gene region ends at 260234\n",
      "Gene region is 9007 nucleotides long \n",
      "Chromosome is unassigned\n",
      "\n",
      "Gene id is 109483946 \n",
      "Gene region starts at 239240\n",
      "Gene region ends at 244031\n",
      "Gene region is 4791 nucleotides long \n",
      "Chromosome is unassigned\n",
      "\n",
      "Gene id is 109483935 \n",
      "Gene region starts at 799870\n",
      "Gene region ends at 802424\n",
      "Gene region is 2554 nucleotides long \n",
      "Chromosome is unassigned\n",
      "\n",
      "Gene id is 109483920 \n",
      "Gene region starts at 788746\n",
      "Gene region ends at 793661\n",
      "Gene region is 4915 nucleotides long \n",
      "Chromosome is unassigned\n",
      "\n",
      "Gene id is 109483337 \n",
      "Gene region starts at 132986\n",
      "Gene region ends at 139831\n",
      "Gene region is 6845 nucleotides long \n",
      "Chromosome is unassigned\n",
      "\n",
      "Gene id is 109483074 \n",
      "Gene region starts at 1464362\n",
      "Gene region ends at 1470383\n",
      "Gene region is 6021 nucleotides long \n",
      "Chromosome is unassigned\n",
      "\n",
      "Gene id is 109481879 \n",
      "Gene region starts at 915154\n",
      "Gene region ends at 921572\n",
      "Gene region is 6418 nucleotides long \n",
      "Chromosome is unassigned\n",
      "\n",
      "Gene id is 109481878 \n",
      "Gene region starts at 825585\n",
      "Gene region ends at 838388\n",
      "Gene region is 12803 nucleotides long \n",
      "Chromosome is unassigned\n",
      "\n",
      "Gene id is 109481830 \n",
      "Gene region starts at 815125\n",
      "Gene region ends at 822743\n",
      "Gene region is 7618 nucleotides long \n",
      "Chromosome is unassigned\n",
      "\n",
      "Gene id is 109480295 \n",
      "Gene region starts at 737575\n",
      "Gene region ends at 741453\n",
      "Gene region is 3878 nucleotides long \n",
      "Chromosome is unassigned\n",
      "\n",
      "Gene id is 109478642 \n",
      "Gene region starts at 45909\n",
      "Gene region ends at 50380\n",
      "Gene region is 4471 nucleotides long \n",
      "Chromosome is unassigned\n",
      "\n",
      "Gene id is 109477107 \n",
      "Gene region starts at 8602016\n",
      "Gene region ends at 8615860\n",
      "Gene region is 13844 nucleotides long \n",
      "Chromosome is unassigned\n",
      "\n",
      "Gene id is 109477038 \n",
      "Gene region starts at 2283876\n",
      "Gene region ends at 2287911\n",
      "Gene region is 4035 nucleotides long \n",
      "Chromosome is unassigned\n",
      "\n",
      "Gene id is 109475266 \n",
      "Gene region starts at 2520822\n",
      "Gene region ends at 2523790\n",
      "Gene region is 2968 nucleotides long \n",
      "Chromosome is unassigned\n",
      "\n",
      "Gene id is 109475079 \n",
      "Gene region starts at 116540\n",
      "Gene region ends at 133218\n",
      "Gene region is 16678 nucleotides long \n",
      "Chromosome is unassigned\n",
      "-------------------------------------------------------------------\n"
     ]
    }
   ],
   "source": [
    "check_genomic_location(filtered_ids, min=20)"
   ]
  },
  {
   "cell_type": "markdown",
   "metadata": {},
   "source": [
    "#### Because `filtered_ids` just contains the species name and IDs of these species, we need to map these IDs back to their full records. We can use the function `map_ids_to_records` which allows for us to select all the records in `filtered_ids` or just the unique species."
   ]
  },
  {
   "cell_type": "code",
   "execution_count": 14,
   "metadata": {},
   "outputs": [
    {
     "name": "stdout",
     "output_type": "stream",
     "text": [
      "351\n",
      "172\n"
     ]
    }
   ],
   "source": [
    "filtered_records = map_ids_to_records(filtered_ids, full_record)\n",
    "filtered_records_unique = map_ids_to_records(filtered_ids, full_record, unique=True)\n",
    "\n",
    "# Check that the numbers are correct\n",
    "print (len(filtered_records))\n",
    "print (len(filtered_records_unique))"
   ]
  },
  {
   "cell_type": "markdown",
   "metadata": {},
   "source": [
    "#### And now we can save these records to a new FASTA file using `write_fasta`"
   ]
  },
  {
   "cell_type": "code",
   "execution_count": 15,
   "metadata": {
    "collapsed": true
   },
   "outputs": [],
   "source": [
    "write_fasta(filtered_records, \"files/filtered_records.fasta\")\n",
    "write_fasta(filtered_records_unique, \"files/filtered_records_unique.fasta\")\n"
   ]
  }
 ],
 "metadata": {
  "kernelspec": {
   "display_name": "Python 3",
   "language": "python",
   "name": "python3"
  },
  "language_info": {
   "codemirror_mode": {
    "name": "ipython",
    "version": 3
   },
   "file_extension": ".py",
   "mimetype": "text/x-python",
   "name": "python",
   "nbconvert_exporter": "python",
   "pygments_lexer": "ipython3",
   "version": "3.6.1"
  }
 },
 "nbformat": 4,
 "nbformat_minor": 2
}
