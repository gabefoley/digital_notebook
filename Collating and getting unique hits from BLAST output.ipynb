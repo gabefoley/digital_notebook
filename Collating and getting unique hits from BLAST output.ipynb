{
 "cells": [
  {
   "cell_type": "code",
   "execution_count": 3,
   "metadata": {},
   "outputs": [
    {
     "name": "stdout",
     "output_type": "stream",
     "text": [
      "Length of original 2U1 all candidates was 100000\n",
      "Length of unique records from 2U1 all candidates was 23749\n"
     ]
    },
    {
     "data": {
      "text/plain": [
       "23749"
      ]
     },
     "execution_count": 3,
     "metadata": {},
     "output_type": "execute_result"
    }
   ],
   "source": [
    "from fasta import *\n",
    "\n",
    "# Load the 2U1 files\n",
    "blast_records = SeqIO.parse(\"/Users/gabefoley/Dropbox/PhD/Projects/2U1/2U1_2018/BLAST Results/BLAST_results_collated.fasta\", \"fasta\")\n",
    "\n",
    "# Getting unique records for the 2U1_all_candidates BLAST\n",
    "record_dict = {}\n",
    "count = 0\n",
    "for record in blast_records:\n",
    "    record_dict[record.id] = record\n",
    "    count +=1\n",
    "print (\"Length of original 2U1 all candidates was\", count)\n",
    "record_list = record_dict.values()\n",
    "print (\"Length of unique records from 2U1 all candidates was\", len(record_list))\n",
    "\n",
    "# Write out unique records\n",
    "SeqIO.write(record_list, \"/Users/gabefoley/Dropbox/PhD/Projects/2U1/2U1_2018/BLAST Results/BLAST_results_unique.fasta\", \"fasta\")"
   ]
  },
  {
   "cell_type": "code",
   "execution_count": null,
   "metadata": {
    "collapsed": true
   },
   "outputs": [],
   "source": []
  }
 ],
 "metadata": {
  "kernelspec": {
   "display_name": "Python 3",
   "language": "python",
   "name": "python3"
  },
  "language_info": {
   "codemirror_mode": {
    "name": "ipython",
    "version": 3
   },
   "file_extension": ".py",
   "mimetype": "text/x-python",
   "name": "python",
   "nbconvert_exporter": "python",
   "pygments_lexer": "ipython3",
   "version": "3.6.3"
  }
 },
 "nbformat": 4,
 "nbformat_minor": 2
}
