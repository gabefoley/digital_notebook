{
 "cells": [
  {
   "cell_type": "code",
   "execution_count": 2,
   "metadata": {},
   "outputs": [
    {
     "data": {
      "text/html": [
       "<style>.container { width:100% !important; }</style>"
      ],
      "text/plain": [
       "<IPython.core.display.HTML object>"
      ]
     },
     "metadata": {},
     "output_type": "display_data"
    }
   ],
   "source": [
    "import utilities\n",
    "import fasta\n",
    "import exons\n",
    "from Bio import SeqIO\n",
    "# Change the width of the \n",
    "from IPython.core.display import display, HTML\n",
    "display(HTML(\"<style>.container { width:100% !important; }</style>\"))"
   ]
  },
  {
   "cell_type": "code",
   "execution_count": 3,
   "metadata": {
    "collapsed": true
   },
   "outputs": [],
   "source": [
    "# Load the files\n",
    "high_number_exons = utilities.load_sequences(\"/Users/gabefoley/Dropbox/PhD/Projects/2U1/2U1_2018/Excluding plants fungi nematodes insects and bacteria/180312_fifty_percent_identity/Alignment_exclusion/high_number_exons.fasta\")"
   ]
  },
  {
   "cell_type": "markdown",
   "metadata": {},
   "source": [
    "After doing the alignment exclusion, we check to see which sequences we aren’t excluding that we were in the previous exclusion procedure starting from 55% identity (we expect some difference because I’m not removing large insertions and N-terminal deletions this time)"
   ]
  },
  {
   "cell_type": "markdown",
   "metadata": {},
   "source": [
    "Define the path on disk where the alignment we want to map exon structure to is sitting"
   ]
  },
  {
   "cell_type": "code",
   "execution_count": 4,
   "metadata": {
    "collapsed": true
   },
   "outputs": [],
   "source": [
    "# Load in the file and define a filepath that we'll save the object onto \n",
    "high_number_exons = utilities.load_sequences(\"/Users/gabefoley/Dropbox/PhD/Projects/2U1/2U1_2018/Excluding plants fungi nematodes insects and bacteria/180312_fifty_percent_identity/Alignment_exclusion/high_number_exons.aln\")\n",
    "\n",
    "filepath = '../files/objects/high_number_exons.obj'"
   ]
  },
  {
   "cell_type": "markdown",
   "metadata": {},
   "source": [
    "If this is the first time reading in this alignment we can save the object to the filepath (so that next time we don't have to go online to pull the exon structure')"
   ]
  },
  {
   "cell_type": "code",
   "execution_count": 5,
   "metadata": {},
   "outputs": [],
   "source": [
    "# Save the file \n",
    "#exons.saveGenomicRecords(high_number_exons, filepath)"
   ]
  },
  {
   "cell_type": "markdown",
   "metadata": {},
   "source": [
    "Otherwise if we previously saved the exon structure we can just open the object from the filepath and visualise the exon structure"
   ]
  },
  {
   "cell_type": "code",
   "execution_count": 6,
   "metadata": {},
   "outputs": [
    {
     "name": "stdout",
     "output_type": "stream",
     "text": [
      "PIK38219.1\n",
      "here\n",
      "{'PIK38219.1': <GenomicRecord.GenomicRecord object at 0x116d236a0>, 'KYO44822.1': <GenomicRecord.GenomicRecord object at 0x116d23898>}\n",
      "KYO44822.1\n",
      "here\n",
      "{'PIK38219.1': <GenomicRecord.GenomicRecord object at 0x116d236a0>, 'KYO44822.1': <GenomicRecord.GenomicRecord object at 0x116d23898>}\n"
     ]
    }
   ],
   "source": [
    "# Open the file\n",
    "genomic_records = exons.openGenomicRecords(filepath)\n",
    "exons.mapExonBoundariesToAlignment(high_number_exons, genomic_records)"
   ]
  },
  {
   "cell_type": "code",
   "execution_count": null,
   "metadata": {
    "collapsed": true
   },
   "outputs": [],
   "source": []
  },
  {
   "cell_type": "code",
   "execution_count": null,
   "metadata": {
    "collapsed": true
   },
   "outputs": [],
   "source": []
  }
 ],
 "metadata": {
  "kernelspec": {
   "display_name": "Python 3",
   "language": "python",
   "name": "python3"
  },
  "language_info": {
   "codemirror_mode": {
    "name": "ipython",
    "version": 3
   },
   "file_extension": ".py",
   "mimetype": "text/x-python",
   "name": "python",
   "nbconvert_exporter": "python",
   "pygments_lexer": "ipython3",
   "version": "3.6.3"
  }
 },
 "nbformat": 4,
 "nbformat_minor": 2
}
