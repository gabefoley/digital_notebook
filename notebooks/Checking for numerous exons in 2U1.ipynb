{
 "cells": [
  {
   "cell_type": "code",
   "execution_count": 49,
   "metadata": {},
   "outputs": [
    {
     "data": {
      "text/html": [
       "<style>.container { width:100% !important; }</style>"
      ],
      "text/plain": [
       "<IPython.core.display.HTML object>"
      ]
     },
     "metadata": {},
     "output_type": "display_data"
    }
   ],
   "source": [
    "import utilities\n",
    "import fasta\n",
    "import exons\n",
    "from Bio import SeqIO\n",
    "# Change the width of the \n",
    "from IPython.core.display import display, HTML\n",
    "display(HTML(\"<style>.container { width:100% !important; }</style>\"))"
   ]
  },
  {
   "cell_type": "code",
   "execution_count": 50,
   "metadata": {
    "collapsed": true
   },
   "outputs": [],
   "source": [
    "# Load the files\n",
    "high_number_exons = utilities.load_sequences(\"/Users/gabefoley/Dropbox/PhD/Projects/2U1/2U1_2018/Excluding plants fungi nematodes insects and bacteria/180312_fifty_percent_identity/Alignment_exclusion/high_number_exons.fasta\")"
   ]
  },
  {
   "cell_type": "markdown",
   "metadata": {},
   "source": [
    "After doing the alignment exclusion, we check to see which sequences we aren’t excluding that we were in the previous exclusion procedure starting from 55% identity (we expect some difference because I’m not removing large insertions and N-terminal deletions this time)"
   ]
  },
  {
   "cell_type": "markdown",
   "metadata": {},
   "source": [
    "Define the path on disk where the alignment we want to map exon structure to is sitting"
   ]
  },
  {
   "cell_type": "code",
   "execution_count": 51,
   "metadata": {
    "collapsed": true
   },
   "outputs": [],
   "source": [
    "# Load in the file and define a filepath that we'll save the object onto \n",
    "high_number_exons = utilities.load_sequences(\"/Users/gabefoley/Dropbox/PhD/Projects/2U1/2U1_2018/Excluding plants fungi nematodes insects and bacteria/180312_fifty_percent_identity/Alignment_exclusion/high_number_exons.aln\")\n",
    "\n",
    "filepath = '../files/objects/high_number_exons.obj'"
   ]
  },
  {
   "cell_type": "markdown",
   "metadata": {},
   "source": [
    "If this is the first time reading in this alignment we can save the object to the filepath (so that next time we don't have to go online to pull the exon structure')"
   ]
  },
  {
   "cell_type": "code",
   "execution_count": 52,
   "metadata": {},
   "outputs": [
    {
     "name": "stdout",
     "output_type": "stream",
     "text": [
      "[{'ERROR': [], 'LinkSetDb': [], 'LinkSetDbHistory': [], 'DbFrom': 'protein', 'IdList': ['1274990647']}]\n",
      "was none\n",
      "PIK38219.1\n",
      "[{'GBQualifier_name': 'locus_tag', 'GBQualifier_value': 'BSL78_24943'}, {'GBQualifier_name': 'coded_by', 'GBQualifier_value': 'complement(join(MRZV01001386.1:76926..77300,MRZV01001386.1:78383..78487,MRZV01001386.1:78853..78956,MRZV01001386.1:79504..79743,MRZV01001386.1:80479..80604,MRZV01001386.1:81031..81239,MRZV01001386.1:83060..83224,MRZV01001386.1:83878..83971,MRZV01001386.1:84370..84552,MRZV01001386.1:85132..85288))'}, {'GBQualifier_name': 'transl_table', 'GBQualifier_value': '1'}]\n",
      "[{'ERROR': [], 'LinkSetDb': [], 'LinkSetDbHistory': [], 'DbFrom': 'protein', 'IdList': ['1011609863']}]\n",
      "was none\n",
      "KYO44822.1\n",
      "[{'GBQualifier_name': 'locus_tag', 'GBQualifier_value': 'Y1Q_0006987'}, {'GBQualifier_name': 'coded_by', 'GBQualifier_value': 'complement(join(AKHW03000653.1:189049..189254,AKHW03000653.1:189597..189738,AKHW03000653.1:194345..194521,AKHW03000653.1:196634..196676,AKHW03000653.1:197258..197282,AKHW03000653.1:198869..199031,AKHW03000653.1:200630..200671,AKHW03000653.1:203290..203523,AKHW03000653.1:219921..220097,AKHW03000653.1:221233..221393,AKHW03000653.1:222306..222455,AKHW03000653.1:223440..223602,AKHW03000653.1:224026..224151))'}, {'GBQualifier_name': 'note', 'GBQualifier_value': 'GO_function: GO:0020037 - heme binding;\\nGO_function: GO:0016705 - oxidoreductase activity, acting on paired donors, with incorporation or reduction of molecular oxygen;\\nGO_function: GO:0005506 - iron ion binding;\\nGO_process: GO:0055114 - oxidation-reduction process'}, {'GBQualifier_name': 'transl_table', 'GBQualifier_value': '1'}]\n"
     ]
    }
   ],
   "source": [
    "# Save the file \n",
    "exons.saveGenomicRecords(high_number_exons, filepath)"
   ]
  },
  {
   "cell_type": "markdown",
   "metadata": {},
   "source": [
    "Otherwise if we previously saved the exon structure we can just open the object from the filepath and visualise the exon structure"
   ]
  },
  {
   "cell_type": "code",
   "execution_count": 53,
   "metadata": {},
   "outputs": [],
   "source": [
    "# Open the file\n",
    "genomic_records = exons.openGenomicRecords(filepath)\n",
    "exons.mapExonBoundariesToAlignment(high_number_exons, genomic_records)"
   ]
  },
  {
   "cell_type": "code",
   "execution_count": null,
   "metadata": {
    "collapsed": true
   },
   "outputs": [],
   "source": []
  },
  {
   "cell_type": "code",
   "execution_count": null,
   "metadata": {
    "collapsed": true
   },
   "outputs": [],
   "source": []
  }
 ],
 "metadata": {
  "kernelspec": {
   "display_name": "Python 3",
   "language": "python",
   "name": "python3"
  },
  "language_info": {
   "codemirror_mode": {
    "name": "ipython",
    "version": 3
   },
   "file_extension": ".py",
   "mimetype": "text/x-python",
   "name": "python",
   "nbconvert_exporter": "python",
   "pygments_lexer": "ipython3",
   "version": "3.6.3"
  }
 },
 "nbformat": 4,
 "nbformat_minor": 2
}
