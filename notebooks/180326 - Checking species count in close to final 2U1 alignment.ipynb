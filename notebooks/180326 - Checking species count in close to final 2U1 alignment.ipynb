{
 "cells": [
  {
   "cell_type": "raw",
   "metadata": {
    "collapsed": true
   },
   "source": [
    "from math import pi"
   ]
  },
  {
   "cell_type": "code",
   "execution_count": 2,
   "metadata": {
    "collapsed": true
   },
   "outputs": [],
   "source": [
    "import fasta\n",
    "import alignment\n",
    "import utilities\n",
    "from checkGenome import *\n",
    "from ipywidgets import widgets\n",
    "from ipywidgets import *\n",
    "from traitlets import *\n",
    "from IPython.display import display"
   ]
  },
  {
   "cell_type": "markdown",
   "metadata": {},
   "source": [
    "# Loading the files\n",
    "\n",
    "The first thing we want to do is load in our files. Loading them in this way actually loads them into a dictionary where the keys are the record IDs and the values are the full records."
   ]
  },
  {
   "cell_type": "code",
   "execution_count": 4,
   "metadata": {
    "collapsed": true
   },
   "outputs": [],
   "source": [
    "# Load the 2U1 files\n",
    "full_record = utilities.load_sequences(\"/Users/gabefoley/Dropbox/PhD/Projects/2U1/2U1_2018/Excluding plants fungi nematodes insects and bacteria/180312_fifty_percent_identity/Alignment_exclusion/2U1_50_percent_motif_reduced_exons.fasta\")\n",
    "\n",
    "#EG_curated files\n",
    "full_record = utilities.load_sequences(\"/Users/gabefoley/Dropbox/PhD/Projects/2U1/2U1_2018/Excluding plants fungi nematodes insects and bacteria/180312_fifty_percent_identity/Further_exclusions/April_2018/Final_Alignment/2U1_EGcurated_MAFFT_truncated_annotated.aln\")"
   ]
  },
  {
   "cell_type": "markdown",
   "metadata": {},
   "source": [
    "#### How many sequences do we have in the full records?"
   ]
  },
  {
   "cell_type": "code",
   "execution_count": 5,
   "metadata": {},
   "outputs": [
    {
     "name": "stdout",
     "output_type": "stream",
     "text": [
      "164\n"
     ]
    }
   ],
   "source": [
    "print (len(full_record))"
   ]
  },
  {
   "cell_type": "code",
   "execution_count": 8,
   "metadata": {},
   "outputs": [
    {
     "name": "stdout",
     "output_type": "stream",
     "text": [
      "XP_010739611.2|Chordata_Actinopteri_Sciaenidae_[Larimichthys_crocea]_large_yellow_croaker\n",
      "XP_010739611.2|Chordata_Actinopteri_Sciaenidae_[Larimichthys_crocea]_large_yellow_croaker\n",
      "XP_019110856.1|Chordata_Actinopteri_Sciaenidae_[Larimichthys_crocea]_large_yellow_croaker\n",
      "XP_019110856.1|Chordata_Actinopteri_Sciaenidae_[Larimichthys_crocea]_large_yellow_croaker\n",
      "XP_023283957.1|Chordata_Actinopteri_Carangiformes_Carangidae_[Seriola_lalandi_dorsalis]\n",
      "XP_023283957.1|Chordata_Actinopteri_Carangiformes_Carangidae_[Seriola_lalandi_dorsalis]\n",
      "XP_022621190.1|Chordata_Actinopteri_Carangiformes_Carangidae_[Seriola_dumerili]_greater_amberjack\n",
      "XP_022621190.1|Chordata_Actinopteri_Carangiformes_Carangidae_[Seriola_dumerili]_greater_amberjack\n",
      "XP_018539665.1|Chordata_Actinopteri_Centropomidae_[Lates_calcarifer]_barramundi_perch\n",
      "XP_018539665.1|Chordata_Actinopteri_Centropomidae_[Lates_calcarifer]_barramundi_perch\n",
      "XP_020447513.1|Chordata_Actinopteri_Synbranchiformes_Synbranchidae_[Monopterus_albus]_swamp_eel\n",
      "XP_020447513.1|Chordata_Actinopteri_Synbranchiformes_Synbranchidae_[Monopterus_albus]_swamp_eel\n",
      "XP_019956775.1|Chordata_Actinopteri_Pleuronectiformes_Paralichthyidae_[Paralichthys_olivaceus]_Japanese_flounder\n",
      "XP_019956775.1|Chordata_Actinopteri_Pleuronectiformes_Paralichthyidae_[Paralichthys_olivaceus]_Japanese_flounder\n",
      "XP_004549474.1|Chordata_Actinopteri_Cichliformes_Cichlidae_[Maylandia_zebra]_zebra_mbuna\n",
      "XP_004549474.1|Chordata_Actinopteri_Cichliformes_Cichlidae_[Maylandia_zebra]_zebra_mbuna\n",
      "XP_006787161.1|Chordata_Actinopteri_Cichliformes_Cichlidae_[Neolamprologus_brichardi]\n",
      "XP_006787161.1|Chordata_Actinopteri_Cichliformes_Cichlidae_[Neolamprologus_brichardi]\n",
      "XP_005457042.1|Chordata_Actinopteri_Cichliformes_Cichlidae_[Oreochromis_niloticus]_Nile_tilapia\n",
      "XP_005457042.1|Chordata_Actinopteri_Cichliformes_Cichlidae_[Oreochromis_niloticus]_Nile_tilapia\n",
      "XP_005940065.1|Chordata_Actinopteri_Cichliformes_Cichlidae_[Haplochromis_burtoni]_Burtons_mouthbrooder\n",
      "XP_005940065.1|Chordata_Actinopteri_Cichliformes_Cichlidae_[Haplochromis_burtoni]_Burtons_mouthbrooder\n",
      "XP_022077378.1|Chordata_Actinopteri_Pomacentridae_[Acanthochromis_polyacanthus]_spiny_chromis\n",
      "XP_022077378.1|Chordata_Actinopteri_Pomacentridae_[Acanthochromis_polyacanthus]_spiny_chromis\n",
      "XP_023129780.1|Chordata_Actinopteri_Pomacentridae_[Amphiprion_ocellaris]_clown_anemonefish\n",
      "XP_023129780.1|Chordata_Actinopteri_Pomacentridae_[Amphiprion_ocellaris]_clown_anemonefish\n",
      "XP_008285532.1|Chordata_Actinopteri_Pomacentridae_[Stegastes_partitus]_bicolor_damselfish\n",
      "XP_008285532.1|Chordata_Actinopteri_Pomacentridae_[Stegastes_partitus]_bicolor_damselfish\n",
      "XP_010778816.1|Chordata_Actinopteri_Perciformes_Nototheniidae_[Notothenia_coriiceps]_black_rockcod\n",
      "XP_010778816.1|Chordata_Actinopteri_Perciformes_Nototheniidae_[Notothenia_coriiceps]_black_rockcod\n",
      "XP_008315700.1|Chordata_Actinopteri_Pleuronectiformes_Cynoglossidae_[Cynoglossus_semilaevis]_tongue_sole\n",
      "XP_008315700.1|Chordata_Actinopteri_Pleuronectiformes_Cynoglossidae_[Cynoglossus_semilaevis]_tongue_sole\n",
      "XP_013863208.1|Chordata_Actinopteri_Cyprinodontiformes_[Austrofundulus_limnaeus]\n",
      "XP_013863208.1|Chordata_Actinopteri_Cyprinodontiformes_[Austrofundulus_limnaeus]\n",
      "XP_017268014.1|Chordata_Actinopteri_Cyprinodontiformes_[Kryptolebias_marmoratus]_mangrove_rivulus\n",
      "XP_017268014.1|Chordata_Actinopteri_Cyprinodontiformes_[Kryptolebias_marmoratus]_mangrove_rivulus\n",
      "XP_015799181.1|Chordata_Actinopteri_Cyprinodontiformes_Nothobranchiidae_[Nothobranchius_furzeri]_turquoise_killifish\n",
      "XP_015799181.1|Chordata_Actinopteri_Cyprinodontiformes_Nothobranchiidae_[Nothobranchius_furzeri]_turquoise_killifish\n",
      "XP_008420764.1|Chordata_Actinopteri_Cyprinodontiformes_Poeciliidae_[Poecilia_reticulata]_guppy\n",
      "XP_008420764.1|Chordata_Actinopteri_Cyprinodontiformes_Poeciliidae_[Poecilia_reticulata]_guppy\n",
      "XP_014905426.1|Chordata_Actinopteri_Cyprinodontiformes_Poeciliidae_[Poecilia_latipinna]_sailfin_molly\n",
      "XP_014905426.1|Chordata_Actinopteri_Cyprinodontiformes_Poeciliidae_[Poecilia_latipinna]_sailfin_molly\n",
      "XP_007560680.1|Chordata_Actinopteri_Cyprinodontiformes_Poeciliidae_[Poecilia_formosa]_Amazon_molly\n",
      "XP_007560680.1|Chordata_Actinopteri_Cyprinodontiformes_Poeciliidae_[Poecilia_formosa]_Amazon_molly\n",
      "XP_005797710.1|Chordata_Actinopteri_Cyprinodontiformes_Poeciliidae_[Xiphophorus_maculatus]_southern_platyfish\n",
      "XP_005797710.1|Chordata_Actinopteri_Cyprinodontiformes_Poeciliidae_[Xiphophorus_maculatus]_southern_platyfish\n",
      "XP_011611201.1|Chordata_Actinopteri_Tetraodontiformes_Tetraodontidae_[Takifugu_rubripes]_torafugu\n",
      "XP_011611201.1|Chordata_Actinopteri_Tetraodontiformes_Tetraodontidae_[Takifugu_rubripes]_torafugu\n",
      "CAG11477.1|Chordata_Actinopteri_Tetraodontiformes_Tetraodontidae_[Tetraodon_nigroviridis]_spotted_green_pufferfish\n",
      "CAG11477.1|Chordata_Actinopteri_Tetraodontiformes_Tetraodontidae_[Tetraodon_nigroviridis]_spotted_green_pufferfish\n",
      "XP_020559182.2|Chordata_Actinopteri_Beloniformes_Adrianichthyidae_[Oryzias_latipes]_Japanese_medaka\n",
      "XP_020559182.2|Chordata_Actinopteri_Beloniformes_Adrianichthyidae_[Oryzias_latipes]_Japanese_medaka\n",
      "AGN04284.1|Chordata_Actinopteri_Beloniformes_Adrianichthyidae_[Oryzias_melastigma]_Indian_medaka\n",
      "AGN04284.1|Chordata_Actinopteri_Beloniformes_Adrianichthyidae_[Oryzias_melastigma]_Indian_medaka\n",
      "XP_020786184.1|Chordata_Actinopteri_Gobiiformes_Gobiidae_[Boleophthalmus_pectinirostris]_great_blue-spotted_mudskipper\n",
      "XP_020786184.1|Chordata_Actinopteri_Gobiiformes_Gobiidae_[Boleophthalmus_pectinirostris]_great_blue-spotted_mudskipper\n",
      "XP_014065111.1|Chordata_Actinopteri_Salmoniformes_Salmonidae_[Salmo_salar]_Atlantic_salmon\n",
      "XP_014065111.1|Chordata_Actinopteri_Salmoniformes_Salmonidae_[Salmo_salar]_Atlantic_salmon\n",
      "XP_021429054.1|Chordata_Actinopteri_Salmoniformes_Salmonidae_[Oncorhynchus_mykiss]_rainbow_trout\n",
      "XP_021429054.1|Chordata_Actinopteri_Salmoniformes_Salmonidae_[Oncorhynchus_mykiss]_rainbow_trout\n",
      "XP_021429049.1|Chordata_Actinopteri_Salmoniformes_Salmonidae_[Oncorhynchus_mykiss]_rainbow_trout\n",
      "XP_021429049.1|Chordata_Actinopteri_Salmoniformes_Salmonidae_[Oncorhynchus_mykiss]_rainbow_trout\n",
      "XP_014050304.1|Chordata_Actinopteri_Salmoniformes_Salmonidae_[Salmo_salar]_Atlantic_salmon\n",
      "XP_014050304.1|Chordata_Actinopteri_Salmoniformes_Salmonidae_[Salmo_salar]_Atlantic_salmon\n",
      "XP_010886716.1|Chordata_Actinopteri_Esociformes_Esocidae_[Esox_lucius]_northern_pike\n",
      "XP_010886716.1|Chordata_Actinopteri_Esociformes_Esocidae_[Esox_lucius]_northern_pike\n",
      "XP_012687241.1|Chordata_Actinopteri_Clupeiformes_Clupeidae_[Clupea_harengus]_Atlantic_herring\n",
      "XP_012687241.1|Chordata_Actinopteri_Clupeiformes_Clupeidae_[Clupea_harengus]_Atlantic_herring\n",
      "XP_018919739.1|Chordata_Actinopteri_Cypriniformes_Cyprinidae_[Cyprinus_carpio]_common_carp\n",
      "XP_018919739.1|Chordata_Actinopteri_Cypriniformes_Cyprinidae_[Cyprinus_carpio]_common_carp\n",
      "XP_016124791.1|Chordata_Actinopteri_Cypriniformes_Cyprinidae_[Sinocyclocheilus_grahami]\n",
      "XP_016124791.1|Chordata_Actinopteri_Cypriniformes_Cyprinidae_[Sinocyclocheilus_grahami]\n",
      "XP_018919738.1|Chordata_Actinopteri_Cypriniformes_Cyprinidae_[Cyprinus_carpio]_common_carp\n",
      "XP_018919738.1|Chordata_Actinopteri_Cypriniformes_Cyprinidae_[Cyprinus_carpio]_common_carp\n",
      "KTF87224.1|Chordata_Actinopteri_Cypriniformes_Cyprinidae_[Cyprinus_carpio]_common_carp\n",
      "KTF87224.1|Chordata_Actinopteri_Cypriniformes_Cyprinidae_[Cyprinus_carpio]_common_carp\n",
      "XP_016395320.1|Chordata_Actinopteri_Cypriniformes_Cyprinidae_[Sinocyclocheilus_rhinocerous]\n",
      "XP_016395320.1|Chordata_Actinopteri_Cypriniformes_Cyprinidae_[Sinocyclocheilus_rhinocerous]\n",
      "NP_001139036.1|Chordata_Actinopteri_Cypriniformes_Cyprinidae_[Danio_rerio]_zebrafish\n",
      "NP_001139036.1|Chordata_Actinopteri_Cypriniformes_Cyprinidae_[Danio_rerio]_zebrafish\n",
      "XP_017318806.1|Chordata_Actinopteri_Siluriformes_Ictaluridae_[Ictalurus_punctatus]_channel_catfish\n",
      "XP_017318806.1|Chordata_Actinopteri_Siluriformes_Ictaluridae_[Ictalurus_punctatus]_channel_catfish\n",
      "XP_007229530.1|Chordata_Actinopteri_Characiformes_Characidae_[Astyanax_mexicanus]_Mexican_tetra\n",
      "XP_007229530.1|Chordata_Actinopteri_Characiformes_Characidae_[Astyanax_mexicanus]_Mexican_tetra\n",
      "XP_017556900.1|Chordata_Actinopteri_Characiformes_Serrasalmidae_[Pygocentrus_nattereri]_red-bellied_piranha\n",
      "XP_017556900.1|Chordata_Actinopteri_Characiformes_Serrasalmidae_[Pygocentrus_nattereri]_red-bellied_piranha\n",
      "XP_019717376.1|Chordata_Actinopteri_Syngnathiformes_Syngnathidae_[Hippocampus_comes]_tiger_tail_seahorse\n",
      "XP_019717376.1|Chordata_Actinopteri_Syngnathiformes_Syngnathidae_[Hippocampus_comes]_tiger_tail_seahorse\n",
      "XP_006629927.2|Chordata_Actinopteri_Semionotiformes_Lepisosteidae_[Lepisosteus_oculatus]_spotted_gar\n",
      "XP_006629927.2|Chordata_Actinopteri_Semionotiformes_Lepisosteidae_[Lepisosteus_oculatus]_spotted_gar\n",
      "XP_007624001.1|Chordata_Mammalia_Rodentia_Cricetidae_[Cricetulus_griseus]_Chinese_hamster\n",
      "XP_007624001.1|Chordata_Mammalia_Rodentia_Cricetidae_[Cricetulus_griseus]_Chinese_hamster\n",
      "XP_005357351.1|Chordata_Mammalia_Rodentia_Cricetidae_[Microtus_ochrogaster]_prairie_vole\n",
      "XP_005357351.1|Chordata_Mammalia_Rodentia_Cricetidae_[Microtus_ochrogaster]_prairie_vole\n",
      "XP_005082857.1|Chordata_Mammalia_Rodentia_Cricetidae_[Mesocricetus_auratus]_golden_hamster\n",
      "XP_005082857.1|Chordata_Mammalia_Rodentia_Cricetidae_[Mesocricetus_auratus]_golden_hamster\n",
      "XP_021014502.1|Chordata_Mammalia_Rodentia_Muridae_[Mus_caroli]_Ryukyu_mouse\n",
      "XP_021014502.1|Chordata_Mammalia_Rodentia_Muridae_[Mus_caroli]_Ryukyu_mouse\n",
      "NP_082092.2|Chordata_Mammalia_Rodentia_Muridae_[Mus_musculus]_house_mouse\n",
      "NP_082092.2|Chordata_Mammalia_Rodentia_Muridae_[Mus_musculus]_house_mouse\n",
      "XP_021052700.1|Chordata_Mammalia_Rodentia_Muridae_[Mus_pahari]_shrew_mouse\n",
      "XP_021052700.1|Chordata_Mammalia_Rodentia_Muridae_[Mus_pahari]_shrew_mouse\n",
      "XP_021488968.1|Chordata_Mammalia_Rodentia_Muridae_[Meriones_unguiculatus]_Mongolian_gerbil\n",
      "XP_021488968.1|Chordata_Mammalia_Rodentia_Muridae_[Meriones_unguiculatus]_Mongolian_gerbil\n",
      "NP_001019950.1|Chordata_Mammalia_Rodentia_Muridae_[Rattus_norvegicus]_Norway_rat\n",
      "NP_001019950.1|Chordata_Mammalia_Rodentia_Muridae_[Rattus_norvegicus]_Norway_rat\n",
      "XP_008842003.1|Chordata_Mammalia_Rodentia_Spalacidae_[Nannospalax_galili]_Upper_Galilee_mountains_blind_mole_rat\n",
      "XP_008842003.1|Chordata_Mammalia_Rodentia_Spalacidae_[Nannospalax_galili]_Upper_Galilee_mountains_blind_mole_rat\n",
      "XP_019491595.1|Chordata_Mammalia_Chiroptera_Hipposideridae_[Hipposideros_armiger]_great_roundleaf_bat\n",
      "XP_019491595.1|Chordata_Mammalia_Chiroptera_Hipposideridae_[Hipposideros_armiger]_great_roundleaf_bat\n",
      "XP_019597472.1|Chordata_Mammalia_Chiroptera_Rhinolophidae_[Rhinolophus_sinicus]_Chinese_rufous_horseshoe_bat\n",
      "XP_019597472.1|Chordata_Mammalia_Chiroptera_Rhinolophidae_[Rhinolophus_sinicus]_Chinese_rufous_horseshoe_bat\n",
      "XP_020757615.1|Chordata_Mammalia_Cervidae_[Odocoileus_virginianus_texanus]\n",
      "XP_020757615.1|Chordata_Mammalia_Cervidae_[Odocoileus_virginianus_texanus]\n",
      "XP_011994146.1|Chordata_Mammalia_Bovidae_[Ovis_aries_musimon]_mouflon\n",
      "XP_011994146.1|Chordata_Mammalia_Bovidae_[Ovis_aries_musimon]_mouflon\n",
      "XP_017904722.1|Chordata_Mammalia_Bovidae_[Capra_hircus]_goat\n",
      "XP_017904722.1|Chordata_Mammalia_Bovidae_[Capra_hircus]_goat\n",
      "XP_005896309.1|Chordata_Mammalia_Bovidae_[Bos_mutus]_wild_yak\n",
      "XP_005896309.1|Chordata_Mammalia_Bovidae_[Bos_mutus]_wild_yak\n",
      "DAA28880.1|Chordata_Mammalia_Bovidae_[Bos_taurus]_cattle\n",
      "DAA28880.1|Chordata_Mammalia_Bovidae_[Bos_taurus]_cattle\n",
      "XP_006061937.1|Chordata_Mammalia_Bovidae_[Bubalus_bubalis]_water_buffalo\n",
      "XP_006061937.1|Chordata_Mammalia_Bovidae_[Bubalus_bubalis]_water_buffalo\n",
      "XP_007452210.1|Chordata_Mammalia_Cetacea_Lipotidae_[Lipotes_vexillifer]_Yangtze_River_dolphin\n",
      "XP_007452210.1|Chordata_Mammalia_Cetacea_Lipotidae_[Lipotes_vexillifer]_Yangtze_River_dolphin\n",
      "XP_004269644.1|Chordata_Mammalia_Cetacea_Delphinidae_[Orcinus_orca]_killer_whale\n",
      "XP_004269644.1|Chordata_Mammalia_Cetacea_Delphinidae_[Orcinus_orca]_killer_whale\n",
      "XP_019783337.1|Chordata_Mammalia_Cetacea_Delphinidae_[Tursiops_truncatus]_bottlenose_dolphin\n",
      "XP_019783337.1|Chordata_Mammalia_Cetacea_Delphinidae_[Tursiops_truncatus]_bottlenose_dolphin\n",
      "XP_007100655.1|Chordata_Mammalia_Cetacea_Physeteridae_[Physeter_catodon]_sperm_whale\n",
      "XP_007100655.1|Chordata_Mammalia_Cetacea_Physeteridae_[Physeter_catodon]_sperm_whale\n",
      "XP_022422796.1|Chordata_Mammalia_Cetacea_Monodontidae_[Delphinapterus_leucas]_beluga_whale\n",
      "XP_022422796.1|Chordata_Mammalia_Cetacea_Monodontidae_[Delphinapterus_leucas]_beluga_whale\n",
      "XP_007191063.1|Chordata_Mammalia_Cetacea_Balaenopteridae_[Balaenoptera_acutorostrata_scammoni]\n",
      "XP_007191063.1|Chordata_Mammalia_Cetacea_Balaenopteridae_[Balaenoptera_acutorostrata_scammoni]\n",
      "XP_003129312.1|Chordata_Mammalia_Suidae_[Sus_scrofa]_pig\n",
      "XP_003129312.1|Chordata_Mammalia_Suidae_[Sus_scrofa]_pig\n",
      "XP_010997363.1|Chordata_Mammalia_Camelidae_[Camelus_dromedarius]_Arabian_camel\n",
      "XP_010997363.1|Chordata_Mammalia_Camelidae_[Camelus_dromedarius]_Arabian_camel\n",
      "XP_006212134.1|Chordata_Mammalia_Camelidae_[Vicugna_pacos]_alpaca\n",
      "XP_006212134.1|Chordata_Mammalia_Camelidae_[Vicugna_pacos]_alpaca\n",
      "XP_010951941.1|Chordata_Mammalia_Camelidae_[Camelus_bactrianus]_Bactrian_camel\n",
      "XP_010951941.1|Chordata_Mammalia_Camelidae_[Camelus_bactrianus]_Bactrian_camel\n",
      "XP_019684690.2|Chordata_Mammalia_Carnivora_Felidae_[Felis_catus]_domestic_cat\n",
      "XP_019684690.2|Chordata_Mammalia_Carnivora_Felidae_[Felis_catus]_domestic_cat\n",
      "XP_019272345.1|Chordata_Mammalia_Carnivora_Felidae_[Panthera_pardus]_leopard\n",
      "XP_019272345.1|Chordata_Mammalia_Carnivora_Felidae_[Panthera_pardus]_leopard\n",
      "EFB16740.1|Chordata_Mammalia_Carnivora_Ursidae_[Ailuropoda_melanoleuca]_giant_panda\n",
      "EFB16740.1|Chordata_Mammalia_Carnivora_Ursidae_[Ailuropoda_melanoleuca]_giant_panda\n",
      "XP_004748170.1|Chordata_Mammalia_Carnivora_Mustelidae_[Mustela_putorius_furo]_domestic_ferret\n",
      "XP_004748170.1|Chordata_Mammalia_Carnivora_Mustelidae_[Mustela_putorius_furo]_domestic_ferret\n",
      "XP_022370877.1|Chordata_Mammalia_Carnivora_Mustelidae_[Enhydra_lutris_kenyoni]\n",
      "XP_022370877.1|Chordata_Mammalia_Carnivora_Mustelidae_[Enhydra_lutris_kenyoni]\n",
      "XP_004411289.1|Chordata_Mammalia_Carnivora_Odobenidae_[Odobenus_rosmarus_divergens]_Pacific_walrus\n",
      "XP_004411289.1|Chordata_Mammalia_Carnivora_Odobenidae_[Odobenus_rosmarus_divergens]_Pacific_walrus\n",
      "XP_021540185.1|Chordata_Mammalia_Carnivora_Phocidae_[Neomonachus_schauinslandi]_Hawaiian_monk_seal\n",
      "XP_021540185.1|Chordata_Mammalia_Carnivora_Phocidae_[Neomonachus_schauinslandi]_Hawaiian_monk_seal\n",
      "XP_006727242.1|Chordata_Mammalia_Carnivora_Phocidae_[Leptonychotes_weddellii]_Weddell_seal\n",
      "XP_006727242.1|Chordata_Mammalia_Carnivora_Phocidae_[Leptonychotes_weddellii]_Weddell_seal\n",
      "XP_004380279.1|Chordata_Mammalia_Sirenia_Trichechidae_[Trichechus_manatus_latirostris]_Florida_manatee\n",
      "XP_004380279.1|Chordata_Mammalia_Sirenia_Trichechidae_[Trichechus_manatus_latirostris]_Florida_manatee\n",
      "XP_003410436.1|Chordata_Mammalia_Proboscidea_Elephantidae_[Loxodonta_africana]_African_savanna_elephant\n",
      "XP_003410436.1|Chordata_Mammalia_Proboscidea_Elephantidae_[Loxodonta_africana]_African_savanna_elephant\n",
      "XP_006869388.1|Chordata_Mammalia_Chrysochloridae_[Chrysochloris_asiatica]_Cape_golden_mole\n",
      "XP_006869388.1|Chordata_Mammalia_Chrysochloridae_[Chrysochloris_asiatica]_Cape_golden_mole\n",
      "XP_004040295.1|Chordata_Mammalia_Primates_Hominidae_[Gorilla_gorilla_gorilla]_western_lowland_gorilla\n",
      "XP_004040295.1|Chordata_Mammalia_Primates_Hominidae_[Gorilla_gorilla_gorilla]_western_lowland_gorilla\n",
      "NP_898898.1|Chordata_Mammalia_Primates_Hominidae_[Homo_sapiens]_human\n",
      "NP_898898.1|Chordata_Mammalia_Primates_Hominidae_[Homo_sapiens]_human\n",
      "XP_526649.2|Chordata_Mammalia_Primates_Hominidae_[Pan_troglodytes]_chimpanzee\n",
      "XP_526649.2|Chordata_Mammalia_Primates_Hominidae_[Pan_troglodytes]_chimpanzee\n",
      "XP_007997667.1|Chordata_Mammalia_Primates_Cercopithecidae_[Chlorocebus_sabaeus]_green_monkey\n",
      "XP_007997667.1|Chordata_Mammalia_Primates_Cercopithecidae_[Chlorocebus_sabaeus]_green_monkey\n",
      "XP_010371512.1|Chordata_Mammalia_Primates_Cercopithecidae_[Rhinopithecus_roxellana]_golden_snub-nosed_monkey\n",
      "XP_010371512.1|Chordata_Mammalia_Primates_Cercopithecidae_[Rhinopithecus_roxellana]_golden_snub-nosed_monkey\n",
      "XP_011747414.1|Chordata_Mammalia_Primates_Cercopithecidae_[Macaca_nemestrina]_pig-tailed_macaque\n",
      "XP_011747414.1|Chordata_Mammalia_Primates_Cercopithecidae_[Macaca_nemestrina]_pig-tailed_macaque\n",
      "XP_017708554.1|Chordata_Mammalia_Primates_Cercopithecidae_[Rhinopithecus_bieti]_black_snub-nosed_monkey\n",
      "XP_017708554.1|Chordata_Mammalia_Primates_Cercopithecidae_[Rhinopithecus_bieti]_black_snub-nosed_monkey\n",
      "XP_005555686.1|Chordata_Mammalia_Primates_Cercopithecidae_[Macaca_fascicularis]_crab-eating_macaque\n",
      "XP_005555686.1|Chordata_Mammalia_Primates_Cercopithecidae_[Macaca_fascicularis]_crab-eating_macaque\n",
      "XP_003899118.1|Chordata_Mammalia_Primates_Cercopithecidae_[Papio_anubis]_olive_baboon\n",
      "XP_003899118.1|Chordata_Mammalia_Primates_Cercopithecidae_[Papio_anubis]_olive_baboon\n",
      "XP_011884345.1|Chordata_Mammalia_Primates_Cercopithecidae_[Cercocebus_atys]_sooty_mangabey\n",
      "XP_011884345.1|Chordata_Mammalia_Primates_Cercopithecidae_[Cercocebus_atys]_sooty_mangabey\n",
      "XP_011801112.1|Chordata_Mammalia_Primates_Cercopithecidae_[Colobus_angolensis_palliatus]\n",
      "XP_011801112.1|Chordata_Mammalia_Primates_Cercopithecidae_[Colobus_angolensis_palliatus]\n",
      "EHH26107.1|Chordata_Mammalia_Primates_Cercopithecidae_[Macaca_mulatta]_Rhesus_monkey\n",
      "EHH26107.1|Chordata_Mammalia_Primates_Cercopithecidae_[Macaca_mulatta]_Rhesus_monkey\n",
      "XP_023051615.1|Chordata_Mammalia_Primates_Cercopithecidae_[Piliocolobus_tephrosceles]_Ugandan_red_Colobus\n",
      "XP_023051615.1|Chordata_Mammalia_Primates_Cercopithecidae_[Piliocolobus_tephrosceles]_Ugandan_red_Colobus\n",
      "XP_002815089.3|Chordata_Mammalia_Primates_Hominidae_[Pongo_abelii]_Sumatran_orangutan\n",
      "XP_002815089.3|Chordata_Mammalia_Primates_Hominidae_[Pongo_abelii]_Sumatran_orangutan\n",
      "XP_017824361.1|Chordata_Mammalia_Primates_Cebidae_[Callithrix_jacchus]_white-tufted-ear_marmoset\n",
      "XP_017824361.1|Chordata_Mammalia_Primates_Cebidae_[Callithrix_jacchus]_white-tufted-ear_marmoset\n",
      "XP_012291909.1|Chordata_Mammalia_Primates_Aotidae_[Aotus_nancymaae]_Mas_night_monkey\n",
      "XP_012291909.1|Chordata_Mammalia_Primates_Aotidae_[Aotus_nancymaae]_Mas_night_monkey\n",
      "XP_017364494.1|Chordata_Mammalia_Primates_Cebidae_[Cebus_capucinus_imitator]\n",
      "XP_017364494.1|Chordata_Mammalia_Primates_Cebidae_[Cebus_capucinus_imitator]\n",
      "XP_003929520.1|Chordata_Mammalia_Primates_Cebidae_[Saimiri_boliviensis_boliviensis]_Bolivian_squirrel_monkey\n",
      "XP_003929520.1|Chordata_Mammalia_Primates_Cebidae_[Saimiri_boliviensis_boliviensis]_Bolivian_squirrel_monkey\n",
      "XP_008054185.1|Chordata_Mammalia_Primates_Tarsiidae_[Carlito_syrichta]_Philippine_tarsier\n",
      "XP_008054185.1|Chordata_Mammalia_Primates_Tarsiidae_[Carlito_syrichta]_Philippine_tarsier\n",
      "XP_003796393.1|Chordata_Mammalia_Primates_Galagidae_[Otolemur_garnettii]_small-eared_galago\n",
      "XP_003796393.1|Chordata_Mammalia_Primates_Galagidae_[Otolemur_garnettii]_small-eared_galago\n",
      "XP_012621711.1|Chordata_Mammalia_Primates_Cheirogaleidae_[Microcebus_murinus]_gray_mouse_lemur\n",
      "XP_012621711.1|Chordata_Mammalia_Primates_Cheirogaleidae_[Microcebus_murinus]_gray_mouse_lemur\n",
      "XP_007938960.1|Chordata_Mammalia_Tubulidentata_Orycteropodidae_[Orycteropus_afer_afer]\n",
      "XP_007938960.1|Chordata_Mammalia_Tubulidentata_Orycteropodidae_[Orycteropus_afer_afer]\n",
      "XP_002717221.1|Chordata_Mammalia_Lagomorpha_Leporidae_[Oryctolagus_cuniculus]_rabbit\n",
      "XP_002717221.1|Chordata_Mammalia_Lagomorpha_Leporidae_[Oryctolagus_cuniculus]_rabbit\n",
      "XP_004703511.1|Chordata_Mammalia_Tenrecidae_[Echinops_telfairi]_small_Madagascar_hedgehog\n",
      "XP_004703511.1|Chordata_Mammalia_Tenrecidae_[Echinops_telfairi]_small_Madagascar_hedgehog\n",
      "XP_012374116.2|Chordata_Mammalia_Cingulata_Dasypodidae_[Dasypus_novemcinctus]_nine-banded_armadillo\n",
      "XP_012374116.2|Chordata_Mammalia_Cingulata_Dasypodidae_[Dasypus_novemcinctus]_nine-banded_armadillo\n",
      "XP_014694538.1|Chordata_Mammalia_Perissodactyla_Equidae_[Equus_asinus]_ass\n",
      "XP_014694538.1|Chordata_Mammalia_Perissodactyla_Equidae_[Equus_asinus]_ass\n",
      "XP_020016209.1|Chordata_Mammalia_Rodentia_Castoridae_[Castor_canadensis]_American_beaver\n",
      "XP_020016209.1|Chordata_Mammalia_Rodentia_Castoridae_[Castor_canadensis]_American_beaver\n",
      "XP_006778968.2|Chordata_Mammalia_Chiroptera_Vespertilionidae_[Myotis_davidii]\n",
      "XP_006778968.2|Chordata_Mammalia_Chiroptera_Vespertilionidae_[Myotis_davidii]\n",
      "XP_006096650.1|Chordata_Mammalia_Chiroptera_Vespertilionidae_[Myotis_lucifugus]_little_brown_bat\n",
      "XP_006096650.1|Chordata_Mammalia_Chiroptera_Vespertilionidae_[Myotis_lucifugus]_little_brown_bat\n",
      "XP_008148480.1|Chordata_Mammalia_Chiroptera_Vespertilionidae_[Eptesicus_fuscus]_big_brown_bat\n",
      "XP_008148480.1|Chordata_Mammalia_Chiroptera_Vespertilionidae_[Eptesicus_fuscus]_big_brown_bat\n",
      "XP_013220884.1|Chordata_Mammalia_Rodentia_Sciuridae_[Ictidomys_tridecemlineatus]_thirteen-lined_ground_squirrel\n",
      "XP_013220884.1|Chordata_Mammalia_Rodentia_Sciuridae_[Ictidomys_tridecemlineatus]_thirteen-lined_ground_squirrel\n",
      "XP_016069983.1|Chordata_Mammalia_Chiroptera_Vespertilionidae_[Miniopterus_natalensis]\n",
      "XP_016069983.1|Chordata_Mammalia_Chiroptera_Vespertilionidae_[Miniopterus_natalensis]\n",
      "XP_006881166.1|Chordata_Mammalia_Macroscelidea_Macroscelididae_[Elephantulus_edwardii]_Cape_elephant_shrew\n",
      "XP_006881166.1|Chordata_Mammalia_Macroscelidea_Macroscelididae_[Elephantulus_edwardii]_Cape_elephant_shrew\n",
      "XP_004594327.1|Chordata_Mammalia_Lagomorpha_Ochotonidae_[Ochotona_princeps]_American_pika\n",
      "XP_004594327.1|Chordata_Mammalia_Lagomorpha_Ochotonidae_[Ochotona_princeps]_American_pika\n",
      "XP_016016320.1|Chordata_Mammalia_Chiroptera_Pteropodidae_[Rousettus_aegyptiacus]_Egyptian_rousette\n",
      "XP_016016320.1|Chordata_Mammalia_Chiroptera_Pteropodidae_[Rousettus_aegyptiacus]_Egyptian_rousette\n",
      "XP_012879182.1|Chordata_Mammalia_Rodentia_Heteromyidae_[Dipodomys_ordii]_Ords_kangaroo_rat\n",
      "XP_012879182.1|Chordata_Mammalia_Rodentia_Heteromyidae_[Dipodomys_ordii]_Ords_kangaroo_rat\n",
      "XP_006162319.2|Chordata_Mammalia_Scandentia_Tupaiidae_[Tupaia_chinensis]_Chinese_tree_shrew\n",
      "XP_006162319.2|Chordata_Mammalia_Scandentia_Tupaiidae_[Tupaia_chinensis]_Chinese_tree_shrew\n",
      "XP_001366063.1|Chordata_Mammalia_Didelphimorphia_Didelphidae_[Monodelphis_domestica]_gray_short-tailed_opossum\n",
      "XP_001366063.1|Chordata_Mammalia_Didelphimorphia_Didelphidae_[Monodelphis_domestica]_gray_short-tailed_opossum\n",
      "XP_020857009.1|Chordata_Mammalia_Diprotodontia_Phascolarctidae_[Phascolarctos_cinereus]_koala\n",
      "XP_020857009.1|Chordata_Mammalia_Diprotodontia_Phascolarctidae_[Phascolarctos_cinereus]_koala\n",
      "XP_023361506.1|Chordata_Mammalia_Dasyuromorphia_Dasyuridae_[Sarcophilus_harrisii]_Tasmanian_devil\n",
      "XP_023361506.1|Chordata_Mammalia_Dasyuromorphia_Dasyuridae_[Sarcophilus_harrisii]_Tasmanian_devil\n",
      "XP_004866353.1|Chordata_Mammalia_Rodentia_Bathyergidae_[Heterocephalus_glaber]_naked_mole-rat\n",
      "XP_004866353.1|Chordata_Mammalia_Rodentia_Bathyergidae_[Heterocephalus_glaber]_naked_mole-rat\n",
      "XP_003468093.1|Chordata_Mammalia_Rodentia_Caviidae_[Cavia_porcellus]_domestic_guinea_pig\n",
      "XP_003468093.1|Chordata_Mammalia_Rodentia_Caviidae_[Cavia_porcellus]_domestic_guinea_pig\n",
      "XP_011572877.1|Chordata_Aves_Falconiformes_Accipitridae_[Aquila_chrysaetos_canadensis]\n",
      "XP_011572877.1|Chordata_Aves_Falconiformes_Accipitridae_[Aquila_chrysaetos_canadensis]\n",
      "XP_010584537.1|Chordata_Aves_Falconiformes_Accipitridae_[Haliaeetus_leucocephalus]_bald_eagle\n",
      "XP_010584537.1|Chordata_Aves_Falconiformes_Accipitridae_[Haliaeetus_leucocephalus]_bald_eagle\n",
      "XP_015480586.1|Chordata_Aves_Passeriformes_Paridae_[Parus_major]_Great_Tit\n",
      "XP_015480586.1|Chordata_Aves_Passeriformes_Paridae_[Parus_major]_Great_Tit\n",
      "XP_005518034.1|Chordata_Aves_Passeriformes_Paridae_[Pseudopodoces_humilis]_Tibetan_ground-tit\n",
      "XP_005518034.1|Chordata_Aves_Passeriformes_Paridae_[Pseudopodoces_humilis]_Tibetan_ground-tit\n",
      "XP_005484794.1|Chordata_Aves_Passeriformes_Passerellidae_[Zonotrichia_albicollis]_white-throated_sparrow\n",
      "XP_005484794.1|Chordata_Aves_Passeriformes_Passerellidae_[Zonotrichia_albicollis]_white-throated_sparrow\n",
      "XP_021381195.1|Chordata_Aves_Passeriformes_Estrildidae_[Lonchura_striata_domestica]_Bengalese_finch\n",
      "XP_021381195.1|Chordata_Aves_Passeriformes_Estrildidae_[Lonchura_striata_domestica]_Bengalese_finch\n",
      "XP_002194737.2|Chordata_Aves_Passeriformes_Estrildidae_[Taeniopygia_guttata]_zebra_finch\n",
      "XP_002194737.2|Chordata_Aves_Passeriformes_Estrildidae_[Taeniopygia_guttata]_zebra_finch\n",
      "XP_010410415.1|Chordata_Aves_Passeriformes_Corvidae_[Corvus_cornix_cornix]\n",
      "XP_010410415.1|Chordata_Aves_Passeriformes_Corvidae_[Corvus_cornix_cornix]\n",
      "XP_009099794.1|Chordata_Aves_Passeriformes_Fringillidae_[Serinus_canaria]_common_canary\n",
      "XP_009099794.1|Chordata_Aves_Passeriformes_Fringillidae_[Serinus_canaria]_common_canary\n",
      "XP_005044990.1|Chordata_Aves_Passeriformes_Muscicapidae_[Ficedula_albicollis]_collared_flycatcher\n",
      "XP_005044990.1|Chordata_Aves_Passeriformes_Muscicapidae_[Ficedula_albicollis]_collared_flycatcher\n",
      "XP_014733783.1|Chordata_Aves_Passeriformes_Sturnidae_[Sturnus_vulgaris]_common_starling\n",
      "XP_014733783.1|Chordata_Aves_Passeriformes_Sturnidae_[Sturnus_vulgaris]_common_starling\n",
      "XP_017688993.1|Chordata_Aves_Passeriformes_Pipridae_[Lepidothrix_coronata]_blue-crowned_manakin\n",
      "XP_017688993.1|Chordata_Aves_Passeriformes_Pipridae_[Lepidothrix_coronata]_blue-crowned_manakin\n",
      "KFW75712.1|Chordata_Aves_Passeriformes_Pipridae_[Manacus_vitellinus]_golden-collared_manakin\n",
      "KFW75712.1|Chordata_Aves_Passeriformes_Pipridae_[Manacus_vitellinus]_golden-collared_manakin\n",
      "XP_005148751.1|Chordata_Aves_Psittaciformes_Psittaculidae_[Melopsittacus_undulatus]_budgerigar\n",
      "XP_005148751.1|Chordata_Aves_Psittaciformes_Psittaculidae_[Melopsittacus_undulatus]_budgerigar\n",
      "XP_014796211.1|Chordata_Aves_Charadriiformes_Scolopacidae_[Calidris_pugnax]_ruff\n",
      "XP_014796211.1|Chordata_Aves_Charadriiformes_Scolopacidae_[Calidris_pugnax]_ruff\n",
      "OPJ75701.1|Chordata_Aves_Columbiformes_Columbidae_[Patagioenas_fasciata_monilis]\n",
      "OPJ75701.1|Chordata_Aves_Columbiformes_Columbidae_[Patagioenas_fasciata_monilis]\n",
      "XP_420491.3|Chordata_Aves_Galliformes_Phasianidae_[Gallus_gallus]_chicken\n",
      "XP_420491.3|Chordata_Aves_Galliformes_Phasianidae_[Gallus_gallus]_chicken\n",
      "XP_010708185.2|Chordata_Aves_Galliformes_Phasianidae_[Meleagris_gallopavo]_turkey\n",
      "XP_010708185.2|Chordata_Aves_Galliformes_Phasianidae_[Meleagris_gallopavo]_turkey\n",
      "XP_015716841.1|Chordata_Aves_Galliformes_Phasianidae_[Coturnix_japonica]_Japanese_quail\n",
      "XP_015716841.1|Chordata_Aves_Galliformes_Phasianidae_[Coturnix_japonica]_Japanese_quail\n",
      "XP_021251581.1|Chordata_Aves_Galliformes_Numididae_[Numida_meleagris]_helmeted_guineafowl\n",
      "XP_021251581.1|Chordata_Aves_Galliformes_Numididae_[Numida_meleagris]_helmeted_guineafowl\n",
      "XP_010077161.1|Chordata_Aves_Ciconiiformes_Pteroclidae_[Pterocles_gutturalis]_yellow-throated_sandgrouse\n",
      "XP_010077161.1|Chordata_Aves_Ciconiiformes_Pteroclidae_[Pterocles_gutturalis]_yellow-throated_sandgrouse\n",
      "KFO79198.1|Chordata_Aves_Cuculiformes_Cuculidae_[Cuculus_canorus]_common_cuckoo\n",
      "KFO79198.1|Chordata_Aves_Cuculiformes_Cuculidae_[Cuculus_canorus]_common_cuckoo\n",
      "XP_009900551.1|Chordata_Aves_Piciformes_Picidae_[Picoides_pubescens]_Downy_woodpecker\n",
      "XP_009900551.1|Chordata_Aves_Piciformes_Picidae_[Picoides_pubescens]_Downy_woodpecker\n",
      "KGL85110.1|Chordata_Aves_Tinamiformes_Tinamidae_[Tinamus_guttatus]_white-throated_tinamou\n",
      "KGL85110.1|Chordata_Aves_Tinamiformes_Tinamidae_[Tinamus_guttatus]_white-throated_tinamou\n",
      "XP_005287999.1|Chordata_Testudines_Emydidae_[Chrysemys_picta_bellii]_western_painted_turtle\n",
      "XP_005287999.1|Chordata_Testudines_Emydidae_[Chrysemys_picta_bellii]_western_painted_turtle\n",
      "XP_014427106.1|Chordata_Testudines_Trionychidae_[Pelodiscus_sinensis]_Chinese_soft-shelled_turtle\n",
      "XP_014427106.1|Chordata_Testudines_Trionychidae_[Pelodiscus_sinensis]_Chinese_soft-shelled_turtle\n",
      "XP_003226556.2|Chordata_Squamata_Dactyloidae_[Anolis_carolinensis]_green_anole\n",
      "XP_003226556.2|Chordata_Squamata_Dactyloidae_[Anolis_carolinensis]_green_anole\n",
      "XP_020652021.1|Chordata_Squamata_Agamidae_[Pogona_vitticeps]_central_bearded_dragon\n",
      "XP_020652021.1|Chordata_Squamata_Agamidae_[Pogona_vitticeps]_central_bearded_dragon\n",
      "XP_015281737.1|Chordata_Squamata_Gekkonidae_[Gekko_japonicus]\n",
      "XP_015281737.1|Chordata_Squamata_Gekkonidae_[Gekko_japonicus]\n",
      "XP_006272957.2|Chordata_Crocodylia_Alligatoridae_[Alligator_mississippiensis]_American_alligator\n",
      "XP_006272957.2|Chordata_Crocodylia_Alligatoridae_[Alligator_mississippiensis]_American_alligator\n",
      "XP_019377492.1|Chordata_Crocodylia_Gavialidae_[Gavialis_gangeticus]_Gharial\n",
      "XP_019377492.1|Chordata_Crocodylia_Gavialidae_[Gavialis_gangeticus]_Gharial\n",
      "XP_007421378.1|Chordata_Squamata_Pythonidae_[Python_bivittatus]_Burmese_python\n",
      "XP_007421378.1|Chordata_Squamata_Pythonidae_[Python_bivittatus]_Burmese_python\n",
      "XP_015665994.1|Chordata_Squamata_Viperidae_[Protobothrops_mucrosquamatus]\n",
      "XP_015665994.1|Chordata_Squamata_Viperidae_[Protobothrops_mucrosquamatus]\n",
      "ARO89866.1|Chordata_Amphibia_Caudata_Cryptobranchidae_[Andrias_davidianus]_Chinese_giant_salamander\n",
      "ARO89866.1|Chordata_Amphibia_Caudata_Cryptobranchidae_[Andrias_davidianus]_Chinese_giant_salamander\n",
      "XP_018106696.1|Chordata_Amphibia_Anura_Pipidae_[Xenopus_laevis]_African_clawed_frog\n",
      "XP_018106696.1|Chordata_Amphibia_Anura_Pipidae_[Xenopus_laevis]_African_clawed_frog\n",
      "NP_001106471.1|Chordata_Amphibia_Anura_Pipidae_[Xenopus_tropicalis]_tropical_clawed_frog\n",
      "NP_001106471.1|Chordata_Amphibia_Anura_Pipidae_[Xenopus_tropicalis]_tropical_clawed_frog\n",
      "XP_018409984.1|Chordata_Amphibia_Anura_Dicroglossidae_[Nanorana_parkeri]\n",
      "XP_018409984.1|Chordata_Amphibia_Anura_Dicroglossidae_[Nanorana_parkeri]\n",
      "XP_018611667.1|Chordata_Actinopteri_Osteoglossiformes_Osteoglossidae_[Scleropages_formosus]_Asian_bonytongue\n",
      "XP_018611667.1|Chordata_Actinopteri_Osteoglossiformes_Osteoglossidae_[Scleropages_formosus]_Asian_bonytongue\n",
      "XP_020383892.1|Chordata_Chondrichthyes_Orectolobiformes_Rhincodontidae_[Rhincodon_typus]_whale_shark\n",
      "XP_020383892.1|Chordata_Chondrichthyes_Orectolobiformes_Rhincodontidae_[Rhincodon_typus]_whale_shark\n"
     ]
    }
   ],
   "source": [
    "for record in full_record:\n",
    "    print (full_record[record].description)\n",
    "    print (full_record[record].name)"
   ]
  },
  {
   "cell_type": "markdown",
   "metadata": {},
   "source": [
    "# Creating subsets of the records\n",
    "### Including / excluding based on header annotations\n",
    "\n",
    "Now the workflow moves to including and excluding certain sequences. `subset_records` allows us to provide a list of terms which we either want or don't want in the header description. We can also give a minimum length for sequences to meet for inclusion.\n",
    "\n",
    "We don't ever alter the original `full_record`, we just create new dictionary objects that are subsets.\n",
    "\n",
    "We can either provide arguments directly to the function or we can pass in a list variable, such as `header_terms`.\n",
    "\n",
    "In the example below `only_2U1_records` is set to only include sequences which have either '2U1' or '2U1-like' in the header. And `filtered_records` will contain the full set of sequences as we are not providing a length minimum (and the default is 0) and we are passing in the currently empty `header_terms`."
   ]
  },
  {
   "cell_type": "code",
   "execution_count": 10,
   "metadata": {
    "collapsed": true
   },
   "outputs": [],
   "source": [
    "# A blank list to hold terms we want to exclude or include\n",
    "header_terms = []"
   ]
  },
  {
   "cell_type": "code",
   "execution_count": 12,
   "metadata": {},
   "outputs": [
    {
     "name": "stdout",
     "output_type": "stream",
     "text": [
      "The number of sequences with either 2U1 or 2U1-like in the header is 0 \n",
      "The number of sequences we've filtered is 164 which should be equal to 164\n"
     ]
    }
   ],
   "source": [
    "only_2U1_records = fasta.subset_records(\"2U1\", \"2U1-like\", records=full_record, length=400, mode=\"include\")\n",
    "filtered_records = fasta.subset_records(\"2U1\", \"2U1-like\", records=full_record, length=400, mode='exclude')\n",
    "\n",
    "print (\"The number of sequences with either 2U1 or 2U1-like in the header is %s \" % (len(only_2U1_records)))\n",
    "print (\"The number of sequences we've filtered is %s which should be equal to %s\" % (len(filtered_records), len(full_record)))"
   ]
  },
  {
   "cell_type": "markdown",
   "metadata": {
    "collapsed": true
   },
   "source": [
    "### Adding terms to the `header_terms` variable\n",
    "The following section makes it easy to add in terms to the `header_terms` variable and to save these files for later use.\n",
    "\n",
    "Let's first print out the terms in our variable and the length of it. As you add to the list you can always come back and rerun this cell to peek inside the `header_terms` variable"
   ]
  },
  {
   "cell_type": "code",
   "execution_count": null,
   "metadata": {
    "collapsed": true
   },
   "outputs": [],
   "source": [
    "print (header_terms)\n",
    "print (len(header_terms))"
   ]
  },
  {
   "cell_type": "markdown",
   "metadata": {},
   "source": [
    "The first thing we might be interested in doing is to print out the header information of the sequences we currently have."
   ]
  },
  {
   "cell_type": "code",
   "execution_count": 16,
   "metadata": {},
   "outputs": [
    {
     "name": "stdout",
     "output_type": "stream",
     "text": [
      "CAG11477.1*TAG 5* CAG11477.1 unnamed protein product, partial [Tetraodon nigroviridis]\n",
      "AGN04284.1 cytochrome P450 [Oryzias melastigma]\n",
      "KTF87224.1*TAG 5* KTF87224.1 hypothetical protein cypCar_00019558 [Cyprinus carpio]\n",
      "EFB16740.1 hypothetical protein PANDA_005136, partial [Ailuropoda melanoleuca]\n",
      "EHH26107.1*TAG 5* EHH26107.1 hypothetical protein EGK_15996, partial [Macaca mulatta]\n",
      "ARO89866.1 cytochrome P450 Cyp2u1 [Andrias davidianus]\n",
      "NP_001106471.1*TAG 5* NP_001106471.1 cytochrome P450 family 2 subfamily U member 1 [Xenopus tropicalis]\n"
     ]
    }
   ],
   "source": [
    "for record in filtered_records:\n",
    "    print (filtered_records[record].description)"
   ]
  },
  {
   "cell_type": "markdown",
   "metadata": {},
   "source": [
    "The cell below will add items to our `header_terms` variable. Hit run on the cell and you'll see an input box - simply add words seperated by a space that you want to add."
   ]
  },
  {
   "cell_type": "markdown",
   "metadata": {},
   "source": [
    "# Evaluating how many hits per species\n",
    "\n",
    "`build_species_count` builds a dictionary which has the set of unique species as its keys and a list of the sequence IDs that belong to each unique species as its . So we can use it to easily see how many unique species we have and which species are over represented."
   ]
  },
  {
   "cell_type": "code",
   "execution_count": 6,
   "metadata": {},
   "outputs": [
    {
     "name": "stdout",
     "output_type": "stream",
     "text": [
      "There are 159 unique species in our dataset.\n"
     ]
    }
   ],
   "source": [
    "species_counts = fasta.build_species_count(records=full_record)\n",
    "print(\"There are %s unique species in our dataset.\" % (len(species_counts)))"
   ]
  },
  {
   "cell_type": "markdown",
   "metadata": {},
   "source": [
    "### Plotting the frequency of proteins per species\n",
    "`plot_record_number` is a function that plots the numbers of IDs per species. We can set a minimum number of IDs that a species must have in order to be plotted."
   ]
  },
  {
   "cell_type": "code",
   "execution_count": 17,
   "metadata": {},
   "outputs": [
    {
     "data": {
      "text/html": [
       "<iframe id=\"igraph\" scrolling=\"no\" style=\"border:none;\" seamless=\"seamless\" src=\"https://plot.ly/~gabefoley/3.embed\" height=\"525px\" width=\"100%\"></iframe>"
      ],
      "text/plain": [
       "<plotly.tools.PlotlyDisplay object>"
      ]
     },
     "execution_count": 17,
     "metadata": {},
     "output_type": "execute_result"
    }
   ],
   "source": [
    "plotthis = fasta.plot_record_number(species_counts, \"Bar\", min_length=2)\n",
    "fasta.py.iplot(plotthis, filename='inline_bar')"
   ]
  },
  {
   "cell_type": "code",
   "execution_count": 8,
   "metadata": {},
   "outputs": [
    {
     "data": {
      "text/html": [
       "<iframe id=\"igraph\" scrolling=\"no\" style=\"border:none;\" seamless=\"seamless\" src=\"https://plot.ly/~gabefoley/3.embed\" height=\"525px\" width=\"100%\"></iframe>"
      ],
      "text/plain": [
       "<plotly.tools.PlotlyDisplay object>"
      ]
     },
     "execution_count": 8,
     "metadata": {},
     "output_type": "execute_result"
    }
   ],
   "source": [
    "plotthis = fasta.plot_record_number(species_counts, \"Bar\", min_length=3)\n",
    "fasta.py.iplot(plotthis, filename='inline_bar')"
   ]
  },
  {
   "cell_type": "code",
   "execution_count": null,
   "metadata": {
    "collapsed": true
   },
   "outputs": [],
   "source": [
    "plotthis = fasta.plot_record_number(species_counts, \"Bar\", min=5)\n",
    "fasta.py.iplot(plotthis, filename='inline_bar')"
   ]
  },
  {
   "cell_type": "markdown",
   "metadata": {},
   "source": [
    "#### We can also just extract the names using `get_species_name`, which also accepts a minimum number of IDs required and can print out the number of counts per each species"
   ]
  },
  {
   "cell_type": "code",
   "execution_count": 38,
   "metadata": {
    "scrolled": true
   },
   "outputs": [
    {
     "name": "stdout",
     "output_type": "stream",
     "text": [
      "Sclerotinia_sclerotiorum_1980_UF-70\n",
      "Aspergillus_wentii_DTO_134E9\n",
      "Aspergillus_cristatus\n",
      "Aspergillus_niger\n",
      "Aspergillus_carbonarius_ITEM_5010\n",
      "Aspergillus_brasiliensis_CBS_101740\n",
      "Aspergillus_kawachii_IFO_4308\n",
      "Aspergillus_ruber_CBS_135680\n",
      "Aspergillus_glaucus_CBS_516.65\n",
      "Penicillium_arizonense\n",
      "Penicillium_italicum\n",
      "Penicillium_freii\n",
      "Penicillium_polonicum\n",
      "Penicillium_nordicum\n",
      "Penicillium_solitum\n",
      "Penicillium_camemberti_FM_013\n",
      "Penicillium_digitatum_Pd1\n",
      "Penicillium_expansum\n",
      "Aspergillus_bombycis\n",
      "Aspergillus_nomius_NRRL_13137\n",
      "Aspergillus_parasiticus_SU-1\n",
      "Byssochlamys_spectabilis_No._5\n",
      "Penicillium_flavigenum\n",
      "Penicillium_nalgiovense\n",
      "Penicillium_steckii\n",
      "Penicillium_decumbens\n",
      "Aspergillus_terreus_NIH2624\n",
      "Aspergillus_oryzae\n",
      "Penicillium_brasilianum\n",
      "Aspergillus_sydowii_CBS_593.65\n",
      "Aspergillus_versicolor_CBS_583.65\n",
      "Cordyceps_confragosa_RCEF_1005\n",
      "Cordyceps_confragosa\n",
      "Penicillium_griseofulvum\n",
      "Aspergillus_niger_ATCC_1015\n",
      "Aspergillus_luchuensis\n",
      "Aspergillus_lentulus\n",
      "Aspergillus_turcosus\n",
      "Penicillium_antarcticum\n",
      "Peniophora_sp._CONT\n",
      "Serendipita_indica_DSM_11827\n",
      "Rhizoctonia_solani_AG-1_IB\n",
      "Fomitiporia_mediterranea_MF3/22\n",
      "Schizopora_paradoxa\n",
      "Auricularia_subglabra_TFB-10046_SS5\n",
      "Fibularhizoctonia_sp._CBS_109695\n",
      "Piloderma_croceum_F_1598\n",
      "Neolentinus_lepideus_HHB14362_ss-1\n",
      "Moniliophthora_roreri_MCA_2997\n",
      "Sistotremastrum_suecicum_HHB10207_ss-3\n",
      "Trametes_pubescens\n",
      "Trametes_versicolor_FP-101664_SS1\n",
      "Laccaria_amethystina_LaAM-08-1\n",
      "Galerina_marginata_CBS_339.88\n",
      "Sphaerulina_musiva_SO2202\n",
      "Pseudocercospora_fijiensis_CIRAD86\n",
      "Mycosphaerella_eumusae\n",
      "Pseudomassariella_vexata\n",
      "Hortaea_werneckii_EXF-2000\n",
      "Aureobasidium_namibiae_CBS_147.97\n",
      "Aureobasidium_subglaciale_EXF-2481\n",
      "Aureobasidium_pullulans_EXF-150\n",
      "Aureobasidium_pullulans\n",
      "Cutaneotrichosporon_oleaginosum\n",
      "Aspergillus_tubingensis_CBS_134.48\n",
      "Aspergillus_arachidicola\n",
      "Cercospora_beticola\n",
      "Macrophomina_phaseolina_MS6\n",
      "Neofusicoccum_parvum_UCRNP2\n",
      "Aureobasidium_melanogenum_CBS_110374\n",
      "Rosellinia_necatrix\n",
      "Alternaria_alternata\n",
      "Pestalotiopsis_fici_W106-1\n",
      "Paraphaeosphaeria_sporulosa\n",
      "Phialocephala_scopiformis\n",
      "Diplodia_seriata\n",
      "Epicoccum_nigrum\n",
      "Stagonospora_sp._SRC1lsM3a\n",
      "Setosphaeria_turcica_Et28A\n",
      "Bipolaris_maydis_ATCC_48331\n",
      "Metarhizium_majus_ARSEF_297\n",
      "Metarhizium_anisopliae_ARSEF_549\n",
      "Metarhizium_anisopliae_BRIP_53293\n",
      "Aspergillus_udagawae\n",
      "Sclerotinia_borealis_F-4128\n",
      "Phialocephala_subalpina\n",
      "Aspergillus_aculeatus_ATCC_16872\n",
      "Penicillium_chrysogenum\n",
      "Diplodia_corticola\n",
      "Aspergillus_thermomutatus\n"
     ]
    }
   ],
   "source": [
    "species_names = get_species_names(species_counts, min=1)\n",
    "for name in species_names:\n",
    "    print (name)"
   ]
  },
  {
   "cell_type": "code",
   "execution_count": 36,
   "metadata": {},
   "outputs": [
    {
     "name": "stdout",
     "output_type": "stream",
     "text": [
      "Sclerotinia_sclerotiorum_1980_UF-70 4\n",
      "Aspergillus_wentii_DTO_134E9 7\n",
      "Aspergillus_cristatus 5\n",
      "Aspergillus_niger 5\n",
      "Aspergillus_ruber_CBS_135680 4\n",
      "Aspergillus_glaucus_CBS_516.65 4\n",
      "Penicillium_arizonense 5\n",
      "Penicillium_freii 4\n",
      "Penicillium_expansum 4\n",
      "Aspergillus_bombycis 4\n",
      "Aspergillus_nomius_NRRL_13137 5\n",
      "Aspergillus_parasiticus_SU-1 5\n",
      "Penicillium_flavigenum 4\n",
      "Penicillium_nalgiovense 4\n",
      "Aspergillus_versicolor_CBS_583.65 4\n",
      "Aspergillus_turcosus 4\n",
      "Penicillium_antarcticum 4\n",
      "Serendipita_indica_DSM_11827 4\n",
      "Fomitiporia_mediterranea_MF3/22 5\n",
      "Fibularhizoctonia_sp._CBS_109695 6\n",
      "Aureobasidium_namibiae_CBS_147.97 4\n",
      "Aureobasidium_subglaciale_EXF-2481 4\n",
      "Aureobasidium_pullulans_EXF-150 5\n",
      "Neofusicoccum_parvum_UCRNP2 4\n",
      "Aureobasidium_melanogenum_CBS_110374 4\n",
      "Alternaria_alternata 4\n"
     ]
    }
   ],
   "source": [
    "species_names_with_counts = get_species_names(species_counts, min=3, counts=True)\n",
    "for name in species_names_with_counts:\n",
    "    print (name)"
   ]
  },
  {
   "cell_type": "markdown",
   "metadata": {},
   "source": [
    "### Counting the total number of sequences with multiple hits\n",
    "`count_ids` is a function that counts the total number of sequences in a species count dictionary, not just the number of unique species.\n",
    "\n",
    "As before, it can also take a minimum number of IDs required"
   ]
  },
  {
   "cell_type": "code",
   "execution_count": null,
   "metadata": {
    "collapsed": true
   },
   "outputs": [],
   "source": [
    "min_num = 5\n",
    "print (\"There are %s total sequences in our filtered dataset.\" % (count_ids(species_counts)))\n",
    "print (\"There are %s total sequences in our filtered dataset that have %d or more IDs per species.\" % (count_ids(species_counts, min=min_num), min_num))"
   ]
  },
  {
   "cell_type": "markdown",
   "metadata": {
    "collapsed": true
   },
   "source": [
    "# Generating datasets containing information about species with multiple hits\n",
    "For each species that has more than the given number of hits, we create \n",
    "1. A FASTA file of the protein sequences from that species\n",
    "2. An alignment of the protein sequences\n",
    "3. An information file telling use where in the genome the protein maps to\n",
    "4. A visual diagram of the genome mapping the proteins to the genome"
   ]
  },
  {
   "cell_type": "code",
   "execution_count": 30,
   "metadata": {},
   "outputs": [
    {
     "name": "stdout",
     "output_type": "stream",
     "text": [
      "Cercospora beticola\n",
      "PIA94173.1 OR PIA98779.1 OR \n",
      "{}\n",
      "Aspergillus arachidicola\n",
      "PIG81432.1 OR PIG85841.1 OR PIG86610.1 OR \n",
      "{}\n",
      "Fomitiporia mediterranea MF3/22\n",
      "XP_007263416.1 OR XP_007270208.1 OR XP_007270219.1 OR XP_007270266.1 OR XP_007270267.1 OR \n",
      "{'XP_007270267.1': '18677144'}\n",
      "Auricularia subglabra TFB-10046 SS5\n",
      "XP_007343182.1 OR XP_007343183.1 OR \n",
      "{'XP_007343183.1': '18856100'}\n",
      "Trametes versicolor FP-101664 SS1\n",
      "XP_008033399.1 OR XP_008038061.1 OR \n",
      "{'XP_008038061.1': '19407809'}\n",
      "Cercospora beticola\n",
      "PIA94173.1 OR PIA98779.1 OR \n",
      "{}\n",
      "Aspergillus arachidicola\n",
      "PIG81432.1 OR PIG85841.1 OR PIG86610.1 OR \n",
      "{}\n",
      "Fomitiporia mediterranea MF3/22\n",
      "XP_007263416.1 OR XP_007270208.1 OR XP_007270219.1 OR XP_007270266.1 OR XP_007270267.1 OR \n",
      "{'XP_007270267.1': '18677144'}\n",
      "Auricularia subglabra TFB-10046 SS5\n",
      "XP_007343182.1 OR XP_007343183.1 OR \n",
      "{'XP_007343183.1': '18856100'}\n",
      "Trametes versicolor FP-101664 SS1\n",
      "XP_008033399.1 OR XP_008038061.1 OR \n",
      "{'XP_008038061.1': '19407809'}\n"
     ]
    }
   ],
   "source": [
    "def generate_multiple_hit_data(species_names, species_counts, full_record, file_path):\n",
    "    id_dict = {}\n",
    "#     for name in species_names:\n",
    "#         seqs = map_species_to_records(species_counts[name], full_record)\n",
    "#         write_fasta(seqs, file_path + name + \" sequences\")\n",
    "#         alignmentFile = alignment.alignWithMAFFT(file_path + name + \" sequences\")\n",
    "#         alignment.writeAlignment(alignmentFile, file_path + name + \".aln\", \"fasta\")\n",
    "        \n",
    "\n",
    "    check_genomic_location(species_counts, min=1, file_path=file_path +\" gene locations \")\n",
    "    check_genomic_location(species_counts, min=1, visualise=\"linear\")\n",
    "\n",
    "\n",
    "species_names = get_species_names(species_counts, min=1)\n",
    "generate_multiple_hit_data(species_names, species_counts, full_record, \"files/multiple_hits/\")"
   ]
  },
  {
   "cell_type": "markdown",
   "metadata": {},
   "source": [
    "Or we could just use parts of this function. The cell below will just print out the locations of the proteins in the genome. We could save this to disk by providing an argument to the `file_path` variable or visualise it by providing either 'linear' or 'circular' to the `visualise` variable."
   ]
  },
  {
   "cell_type": "code",
   "execution_count": null,
   "metadata": {
    "collapsed": true
   },
   "outputs": [],
   "source": [
    "check_genomic_location(species_counts, min=5)"
   ]
  },
  {
   "cell_type": "markdown",
   "metadata": {},
   "source": [
    "# Saving the records to FASTA files\n",
    "Because `filtered_records` just contains the species name and IDs of these species, we need to map these IDs back to their full records. We can use the function `map_ids_to_records` which allows for us to select all the records in `filtered_ids` or just the unique species."
   ]
  },
  {
   "cell_type": "code",
   "execution_count": null,
   "metadata": {
    "collapsed": true,
    "scrolled": true
   },
   "outputs": [],
   "source": [
    "filtered_records = map_ids_to_records(species_counts, full_record)\n",
    "filtered_records_unique = map_ids_to_records(species_counts, full_record, unique=True)\n",
    "\n",
    "# Check that the numbers are correct\n",
    "print (len(filtered_records))\n",
    "print (len(filtered_records_unique))"
   ]
  },
  {
   "cell_type": "markdown",
   "metadata": {},
   "source": [
    "And now we can save these records to a new FASTA file using `write_fasta`"
   ]
  },
  {
   "cell_type": "code",
   "execution_count": null,
   "metadata": {
    "collapsed": true
   },
   "outputs": [],
   "source": [
    "write_fasta(filtered_records, \"files/2U1_BLAST_smaller_records.fasta\")\n",
    "# write_fasta(filtered_records_unique, \"files/2U1_BLAST_filtered_records_unique.fasta\")"
   ]
  },
  {
   "cell_type": "markdown",
   "metadata": {},
   "source": [
    "We can also use the function `map_species_to_records` to just map a particular species to a FASTA file."
   ]
  },
  {
   "cell_type": "code",
   "execution_count": null,
   "metadata": {
    "collapsed": true
   },
   "outputs": [],
   "source": [
    "priapulus_caudatus = map_species_to_records(species_counts['Priapulus caudatus'], full_record)\n",
    "write_fasta(priapulus_caudatus, \"files/priapulus_caudatus.fasta\")"
   ]
  }
 ],
 "metadata": {
  "kernelspec": {
   "display_name": "Python 3",
   "language": "python",
   "name": "python3"
  },
  "language_info": {
   "codemirror_mode": {
    "name": "ipython",
    "version": 3
   },
   "file_extension": ".py",
   "mimetype": "text/x-python",
   "name": "python",
   "nbconvert_exporter": "python",
   "pygments_lexer": "ipython3",
   "version": "3.6.3"
  }
 },
 "nbformat": 4,
 "nbformat_minor": 2
}
