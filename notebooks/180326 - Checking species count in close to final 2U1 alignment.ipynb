{
 "cells": [
  {
   "cell_type": "code",
   "execution_count": 4,
   "metadata": {
    "collapsed": true
   },
   "outputs": [],
   "source": [
    "from math import pi"
   ]
  },
  {
   "cell_type": "code",
   "execution_count": 5,
   "metadata": {
    "collapsed": true
   },
   "outputs": [],
   "source": [
    "import fasta\n",
    "import alignment\n",
    "import utilities\n",
    "from checkGenome import *\n",
    "from ipywidgets import widgets\n",
    "from ipywidgets import *\n",
    "from traitlets import *\n",
    "from IPython.display import display"
   ]
  },
  {
   "cell_type": "markdown",
   "metadata": {},
   "source": [
    "# Loading the files\n",
    "\n",
    "The first thing we want to do is load in our files. Loading them in this way actually loads them into a dictionary where the keys are the record IDs and the values are the full records."
   ]
  },
  {
   "cell_type": "code",
   "execution_count": 7,
   "metadata": {},
   "outputs": [],
   "source": [
    "# Load the 2U1 files\n",
    "full_record = utilities.load_sequences(\"/Users/gabefoley/Dropbox/PhD/Projects/2U1/2U1_2018/Excluding plants fungi nematodes insects and bacteria/180312_fifty_percent_identity/Alignment_exclusion/2U1_50_percent_motif_reduced_exons.fasta\")"
   ]
  },
  {
   "cell_type": "markdown",
   "metadata": {},
   "source": [
    "#### How many sequences do we have in the full records?"
   ]
  },
  {
   "cell_type": "code",
   "execution_count": 8,
   "metadata": {},
   "outputs": [
    {
     "name": "stdout",
     "output_type": "stream",
     "text": [
      "177\n"
     ]
    }
   ],
   "source": [
    "print (len(full_record))"
   ]
  },
  {
   "cell_type": "code",
   "execution_count": 11,
   "metadata": {},
   "outputs": [
    {
     "name": "stdout",
     "output_type": "stream",
     "text": [
      "XP_010739611.2*TAG 5* XP_010739611.2 PREDICTED: cytochrome P450 2U1 [Larimichthys crocea]\n",
      "XP_010739611.2*TAG\n",
      "XP_019110856.1*TAG 5* XP_019110856.1 PREDICTED: cytochrome P450 2U1-like [Larimichthys crocea]\n",
      "XP_019110856.1*TAG\n",
      "XP_023283957.1*TAG 5* XP_023283957.1 cytochrome P450 2U1 [Seriola lalandi dorsalis]\n",
      "XP_023283957.1*TAG\n",
      "XP_022621190.1*TAG 5* XP_022621190.1 cytochrome P450 2U1 [Seriola dumerili]\n",
      "XP_022621190.1*TAG\n",
      "XP_018539665.1*TAG 5* XP_018539665.1 PREDICTED: LOW QUALITY PROTEIN: cytochrome P450 2U1 [Lates calcarifer]\n",
      "XP_018539665.1*TAG\n",
      "XP_020447513.1*TAG 5* XP_020447513.1 cytochrome P450 2U1 isoform X1 [Monopterus albus]\n",
      "XP_020447513.1*TAG\n",
      "XP_019956775.1*TAG 5* XP_019956775.1 PREDICTED: cytochrome P450 2U1 [Paralichthys olivaceus]\n",
      "XP_019956775.1*TAG\n",
      "XP_004549474.1*TAG 5* XP_004549474.1 cytochrome P450 2U1 [Maylandia zebra]\n",
      "XP_004549474.1*TAG\n",
      "XP_006787161.1*TAG 5* XP_006787161.1 PREDICTED: cytochrome P450 2U1-like [Neolamprologus brichardi]\n",
      "XP_006787161.1*TAG\n",
      "XP_005457042.1*TAG 5* XP_005457042.1 PREDICTED: cytochrome P450 2U1 isoform X1 [Oreochromis niloticus]\n",
      "XP_005457042.1*TAG\n",
      "XP_005940065.1*TAG 6* XP_005940065.1 PREDICTED: cytochrome P450 2U1 isoform X1 [Haplochromis burtoni]\n",
      "XP_005940065.1*TAG\n",
      "XP_022077378.1*TAG 5* XP_022077378.1 cytochrome P450 2U1-like [Acanthochromis polyacanthus]\n",
      "XP_022077378.1*TAG\n",
      "XP_023129780.1*TAG 5* XP_023129780.1 cytochrome P450 2U1 [Amphiprion ocellaris]\n",
      "XP_023129780.1*TAG\n",
      "XP_008285532.1*TAG 5* XP_008285532.1 PREDICTED: cytochrome P450 2U1 [Stegastes partitus]\n",
      "XP_008285532.1*TAG\n",
      "XP_010778816.1*TAG 5* XP_010778816.1 PREDICTED: cytochrome P450 2U1 [Notothenia coriiceps]\n",
      "XP_010778816.1*TAG\n",
      "XP_008315700.1*TAG 5* XP_008315700.1 PREDICTED: cytochrome P450 2U1 isoform X1 [Cynoglossus semilaevis]\n",
      "XP_008315700.1*TAG\n",
      "XP_013863208.1*TAG 5* XP_013863208.1 PREDICTED: cytochrome P450 2U1 [Austrofundulus limnaeus]\n",
      "XP_013863208.1*TAG\n",
      "XP_017268014.1*TAG 5* XP_017268014.1 PREDICTED: cytochrome P450 2U1 [Kryptolebias marmoratus]\n",
      "XP_017268014.1*TAG\n",
      "XP_015799181.1*TAG 5* XP_015799181.1 PREDICTED: cytochrome P450 2U1 [Nothobranchius furzeri]\n",
      "XP_015799181.1*TAG\n",
      "XP_008420764.1*TAG 5* XP_008420764.1 PREDICTED: cytochrome P450 2U1 [Poecilia reticulata]\n",
      "XP_008420764.1*TAG\n",
      "XP_014905426.1*TAG 5* XP_014905426.1 PREDICTED: cytochrome P450 2U1 [Poecilia latipinna]\n",
      "XP_014905426.1*TAG\n",
      "XP_007560680.1*TAG 5* XP_007560680.1 PREDICTED: cytochrome P450 2U1 [Poecilia formosa]\n",
      "XP_007560680.1*TAG\n",
      "XP_005797710.1*TAG 5* XP_005797710.1 cytochrome P450 2U1 [Xiphophorus maculatus]\n",
      "XP_005797710.1*TAG\n",
      "XP_011611201.1*TAG 5* XP_011611201.1 PREDICTED: cytochrome P450 2U1 isoform X1 [Takifugu rubripes]\n",
      "XP_011611201.1*TAG\n",
      "CAG11477.1*TAG 5* CAG11477.1 unnamed protein product, partial [Tetraodon nigroviridis]\n",
      "CAG11477.1*TAG\n",
      "XP_020559182.2 cytochrome P450 2U1 [Oryzias latipes]\n",
      "XP_020559182.2\n",
      "AGN04284.1 cytochrome P450 [Oryzias melastigma]\n",
      "AGN04284.1\n",
      "XP_020786184.1*TAG 5* XP_020786184.1 cytochrome P450 2U1 [Boleophthalmus pectinirostris]\n",
      "XP_020786184.1*TAG\n",
      "XP_014065111.1*TAG 6* XP_014065111.1 PREDICTED: cytochrome P450 2U1 isoform X1 [Salmo salar]\n",
      "XP_014065111.1*TAG\n",
      "XP_021429054.1*TAG 6* XP_021429054.1 cytochrome P450 2U1-like [Oncorhynchus mykiss]\n",
      "XP_021429054.1*TAG\n",
      "XP_021429049.1*TAG 6* XP_021429049.1 cytochrome P450 2U1-like isoform X1 [Oncorhynchus mykiss]\n",
      "XP_021429049.1*TAG\n",
      "XP_014050304.1*TAG 4* XP_014050304.1 PREDICTED: cytochrome P450 2U1-like [Salmo salar]\n",
      "XP_014050304.1*TAG\n",
      "XP_010886716.1*TAG 6* XP_010886716.1 PREDICTED: cytochrome P450 2U1 [Esox lucius]\n",
      "XP_010886716.1*TAG\n",
      "XP_012687241.1*TAG 5* XP_012687241.1 PREDICTED: cytochrome P450 2U1 [Clupea harengus]\n",
      "XP_012687241.1*TAG\n",
      "XP_018919739.1*TAG 5* XP_018919739.1 PREDICTED: cytochrome P450 2U1-like [Cyprinus carpio]\n",
      "XP_018919739.1*TAG\n",
      "XP_016124791.1*TAG 5* XP_016124791.1 PREDICTED: cytochrome P450 2U1 [Sinocyclocheilus grahami]\n",
      "XP_016124791.1*TAG\n",
      "XP_018919738.1*TAG 5* XP_018919738.1 PREDICTED: cytochrome P450 2U1-like [Cyprinus carpio]\n",
      "XP_018919738.1*TAG\n",
      "KTF87224.1*TAG 5* KTF87224.1 hypothetical protein cypCar_00019558 [Cyprinus carpio]\n",
      "KTF87224.1*TAG\n",
      "XP_016395320.1*TAG 5* XP_016395320.1 PREDICTED: cytochrome P450 2U1-like [Sinocyclocheilus rhinocerous]\n",
      "XP_016395320.1*TAG\n",
      "NP_001139036.1*TAG 5* NP_001139036.1 cytochrome P450 2U1 [Danio rerio]\n",
      "NP_001139036.1*TAG\n",
      "XP_017318806.1*TAG 5* XP_017318806.1 PREDICTED: cytochrome P450 2U1 [Ictalurus punctatus]\n",
      "XP_017318806.1*TAG\n",
      "XP_007229530.1*TAG 5* XP_007229530.1 cytochrome P450 2U1 [Astyanax mexicanus]\n",
      "XP_007229530.1*TAG\n",
      "XP_017556900.1*TAG 5* XP_017556900.1 PREDICTED: cytochrome P450 2U1 [Pygocentrus nattereri]\n",
      "XP_017556900.1*TAG\n",
      "XP_019717376.1*TAG 5* XP_019717376.1 PREDICTED: cytochrome P450 2U1 isoform X1 [Hippocampus comes]\n",
      "XP_019717376.1*TAG\n",
      "XP_006629927.2*TAG 5* XP_006629927.2 PREDICTED: cytochrome P450 2U1 [Lepisosteus oculatus]\n",
      "XP_006629927.2*TAG\n",
      "XP_007624001.1 PREDICTED: cytochrome P450 2U1 isoform X2 [Cricetulus griseus]\n",
      "XP_007624001.1\n",
      "ERE89448.1*TAG 6* ERE89448.1 cytochrome P450 2U1-like protein [Cricetulus griseus]\n",
      "ERE89448.1*TAG\n",
      "XP_005357351.1*TAG 5* XP_005357351.1 PREDICTED: cytochrome P450 2U1 [Microtus ochrogaster]\n",
      "XP_005357351.1*TAG\n",
      "XP_005082857.1*TAG 5* XP_005082857.1 cytochrome P450 2U1 [Mesocricetus auratus]\n",
      "XP_005082857.1*TAG\n",
      "XP_021014502.1*TAG 5* XP_021014502.1 cytochrome P450 2U1 isoform X1 [Mus caroli]\n",
      "XP_021014502.1*TAG\n",
      "NP_082092.2*TAG 5* NP_082092.2 cytochrome P450 2U1 [Mus musculus]\n",
      "NP_082092.2*TAG\n",
      "XP_021052700.1*TAG 5* XP_021052700.1 cytochrome P450 2U1 isoform X1 [Mus pahari]\n",
      "XP_021052700.1*TAG\n",
      "XP_021488968.1 cytochrome P450 2U1 isoform X1 [Meriones unguiculatus]\n",
      "XP_021488968.1\n",
      "XP_006970432.1*TAG 5* XP_006970432.1 PREDICTED: cytochrome P450 2U1 [Peromyscus maniculatus bairdii]\n",
      "XP_006970432.1*TAG\n",
      "NP_001019950.1*TAG 5* NP_001019950.1 cytochrome P450 2U1 [Rattus norvegicus]\n",
      "NP_001019950.1*TAG\n",
      "XP_008842003.1*TAG 5* XP_008842003.1 PREDICTED: cytochrome P450 2U1 [Nannospalax galili]\n",
      "XP_008842003.1*TAG\n",
      "XP_019491595.1*TAG 5* XP_019491595.1 PREDICTED: cytochrome P450 2U1 [Hipposideros armiger]\n",
      "XP_019491595.1*TAG\n",
      "XP_019597472.1*TAG 5* XP_019597472.1 PREDICTED: cytochrome P450 2U1 [Rhinolophus sinicus]\n",
      "XP_019597472.1*TAG\n",
      "XP_020757615.1*TAG 5* XP_020757615.1 cytochrome P450 2U1 [Odocoileus virginianus texanus]\n",
      "XP_020757615.1*TAG\n",
      "XP_011994146.1 PREDICTED: cytochrome P450 2U1 isoform X2 [Ovis aries musimon]\n",
      "XP_011994146.1\n",
      "XP_017904722.1*TAG 5* XP_017904722.1 PREDICTED: cytochrome P450 2U1 [Capra hircus]\n",
      "XP_017904722.1*TAG\n",
      "XP_005896309.1*TAG 5* XP_005896309.1 PREDICTED: cytochrome P450 2U1 [Bos mutus]\n",
      "XP_005896309.1*TAG\n",
      "DAA28880.1 TPA: cytochrome P450 2U1 [Bos taurus]\n",
      "DAA28880.1\n",
      "XP_006061937.1*TAG 5* XP_006061937.1 PREDICTED: cytochrome P450 2U1-like [Bubalus bubalis]\n",
      "XP_006061937.1*TAG\n",
      "XP_007452210.1*TAG 5* XP_007452210.1 PREDICTED: cytochrome P450 2U1-like [Lipotes vexillifer]\n",
      "XP_007452210.1*TAG\n",
      "XP_004269644.1*TAG 5* XP_004269644.1 PREDICTED: cytochrome P450 2U1 [Orcinus orca]\n",
      "XP_004269644.1*TAG\n",
      "XP_019783337.1*TAG 5* XP_019783337.1 PREDICTED: cytochrome P450 2U1 isoform X1 [Tursiops truncatus]\n",
      "XP_019783337.1*TAG\n",
      "XP_007100655.1*TAG 5* XP_007100655.1 cytochrome P450 2U1 [Physeter catodon]\n",
      "XP_007100655.1*TAG\n",
      "XP_022422796.1*TAG 5* XP_022422796.1 cytochrome P450 2U1 isoform X1 [Delphinapterus leucas]\n",
      "XP_022422796.1*TAG\n",
      "XP_007191063.1*TAG 5* XP_007191063.1 PREDICTED: cytochrome P450 2U1-like isoform X1 [Balaenoptera acutorostrata scammoni]\n",
      "XP_007191063.1*TAG\n",
      "XP_003129312.1 cytochrome P450 2U1 isoform X1 [Sus scrofa]\n",
      "XP_003129312.1\n",
      "XP_010997363.1*TAG 5* XP_010997363.1 PREDICTED: cytochrome P450 2U1 [Camelus dromedarius]\n",
      "XP_010997363.1*TAG\n",
      "XP_006212134.1*TAG 5* XP_006212134.1 PREDICTED: cytochrome P450 2U1, partial [Vicugna pacos]\n",
      "XP_006212134.1*TAG\n",
      "XP_010951941.1*TAG 5* XP_010951941.1 PREDICTED: LOW QUALITY PROTEIN: cytochrome P450 2U1 [Camelus bactrianus]\n",
      "XP_010951941.1*TAG\n",
      "XP_019684690.2*TAG 5* XP_019684690.2 cytochrome P450 2U1 isoform X1 [Felis catus]\n",
      "XP_019684690.2*TAG\n",
      "XP_019272345.1*TAG 5* XP_019272345.1 PREDICTED: cytochrome P450 2U1 isoform X1 [Panthera pardus]\n",
      "XP_019272345.1*TAG\n",
      "EFB16740.1 hypothetical protein PANDA_005136, partial [Ailuropoda melanoleuca]\n",
      "EFB16740.1\n",
      "XP_004748170.1*TAG 5* XP_004748170.1 PREDICTED: cytochrome P450 2U1 [Mustela putorius furo]\n",
      "XP_004748170.1*TAG\n",
      "XP_022370877.1*TAG 5* XP_022370877.1 cytochrome P450 2U1 [Enhydra lutris kenyoni]\n",
      "XP_022370877.1*TAG\n",
      "XP_004411289.1*TAG 5* XP_004411289.1 PREDICTED: cytochrome P450 2U1 [Odobenus rosmarus divergens]\n",
      "XP_004411289.1*TAG\n",
      "XP_021540185.1*TAG 5* XP_021540185.1 cytochrome P450 2U1 [Neomonachus schauinslandi]\n",
      "XP_021540185.1*TAG\n",
      "XP_006727242.1*TAG 5* XP_006727242.1 PREDICTED: cytochrome P450 2U1-like [Leptonychotes weddellii]\n",
      "XP_006727242.1*TAG\n",
      "XP_004380279.1*TAG 5* XP_004380279.1 cytochrome P450 2U1 [Trichechus manatus latirostris]\n",
      "XP_004380279.1*TAG\n",
      "XP_003410436.1*TAG 5* XP_003410436.1 cytochrome P450 2U1 isoform X1 [Loxodonta africana]\n",
      "XP_003410436.1*TAG\n",
      "XP_006869388.1*TAG 5* XP_006869388.1 PREDICTED: cytochrome P450 2U1-like [Chrysochloris asiatica]\n",
      "XP_006869388.1*TAG\n",
      "XP_022269155.1*TAG 5* XP_022269155.1 cytochrome P450 2U1, partial [Canis lupus familiaris]\n",
      "XP_022269155.1*TAG\n",
      "XP_004040295.1*TAG 5* XP_004040295.1 PREDICTED: cytochrome P450 2U1 isoform X1 [Gorilla gorilla gorilla]\n",
      "XP_004040295.1*TAG\n",
      "NP_898898.1*TAG 5* NP_898898.1 cytochrome P450 2U1 [Homo sapiens]\n",
      "NP_898898.1*TAG\n",
      "XP_526649.2*TAG 5* XP_526649.2 PREDICTED: cytochrome P450 2U1 isoform X2 [Pan troglodytes]\n",
      "XP_526649.2*TAG\n",
      "XP_005262774.1*TAG 5* XP_005262774.1 PREDICTED: cytochrome P450 2U1 isoform X1 [Homo sapiens]\n",
      "XP_005262774.1*TAG\n",
      "XP_008953609.1*TAG 5* XP_008953609.1 PREDICTED: cytochrome P450 2U1 isoform X2 [Pan paniscus]\n",
      "XP_008953609.1*TAG\n",
      "XP_009446381.2*TAG 5* XP_009446381.2 PREDICTED: cytochrome P450 2U1 isoform X1 [Pan troglodytes]\n",
      "XP_009446381.2*TAG\n",
      "XP_007997667.1*TAG 5* XP_007997667.1 PREDICTED: cytochrome P450 2U1 isoform X1 [Chlorocebus sabaeus]\n",
      "XP_007997667.1*TAG\n",
      "XP_010371512.1*TAG 5* XP_010371512.1 PREDICTED: cytochrome P450 2U1 isoform X2 [Rhinopithecus roxellana]\n",
      "XP_010371512.1*TAG\n",
      "XP_011747414.1*TAG 5* XP_011747414.1 PREDICTED: cytochrome P450 2U1 [Macaca nemestrina]\n",
      "XP_011747414.1*TAG\n",
      "XP_017708554.1*TAG 5* XP_017708554.1 PREDICTED: cytochrome P450 2U1 isoform X1 [Rhinopithecus bieti]\n",
      "XP_017708554.1*TAG\n",
      "XP_005555686.1*TAG 5* XP_005555686.1 PREDICTED: cytochrome P450 2U1 [Macaca fascicularis]\n",
      "XP_005555686.1*TAG\n",
      "XP_003899118.1 cytochrome P450 2U1 isoform X1 [Papio anubis]\n",
      "XP_003899118.1\n",
      "XP_011884345.1*TAG 5* XP_011884345.1 PREDICTED: cytochrome P450 2U1 isoform X1 [Cercocebus atys]\n",
      "XP_011884345.1*TAG\n",
      "XP_011801112.1*TAG 5* XP_011801112.1 PREDICTED: cytochrome P450 2U1 [Colobus angolensis palliatus]\n",
      "XP_011801112.1*TAG\n",
      "EHH26107.1*TAG 5* EHH26107.1 hypothetical protein EGK_15996, partial [Macaca mulatta]\n",
      "EHH26107.1*TAG\n",
      "XP_023051615.1 cytochrome P450 2U1 isoform X1 [Piliocolobus tephrosceles]\n",
      "XP_023051615.1\n",
      "XP_002815089.3 cytochrome P450 2U1 [Pongo abelii]\n",
      "XP_002815089.3\n",
      "XP_017824361.1*TAG 5* XP_017824361.1 PREDICTED: cytochrome P450 2U1 [Callithrix jacchus]\n",
      "XP_017824361.1*TAG\n",
      "XP_012291909.1*TAG 5* XP_012291909.1 cytochrome P450 2U1 [Aotus nancymaae]\n",
      "XP_012291909.1*TAG\n",
      "XP_017364494.1*TAG 5* XP_017364494.1 PREDICTED: cytochrome P450 2U1 [Cebus capucinus imitator]\n",
      "XP_017364494.1*TAG\n",
      "XP_003929520.1*TAG 5* XP_003929520.1 PREDICTED: cytochrome P450 2U1 [Saimiri boliviensis boliviensis]\n",
      "XP_003929520.1*TAG\n",
      "XP_008054185.1*TAG 5* XP_008054185.1 cytochrome P450 2U1 [Carlito syrichta]\n",
      "XP_008054185.1*TAG\n",
      "XP_003796393.1*TAG 5* XP_003796393.1 cytochrome P450 2U1 isoform X1 [Otolemur garnettii]\n",
      "XP_003796393.1*TAG\n",
      "XP_012621711.1*TAG 5* XP_012621711.1 cytochrome P450 2U1 [Microcebus murinus]\n",
      "XP_012621711.1*TAG\n",
      "XP_002717221.1*TAG 5* XP_002717221.1 PREDICTED: cytochrome P450 2U1 isoform X1 [Oryctolagus cuniculus]\n",
      "XP_002717221.1*TAG\n",
      "XP_007938960.1*TAG 5* XP_007938960.1 PREDICTED: cytochrome P450 2U1 [Orycteropus afer afer]\n",
      "XP_007938960.1*TAG\n",
      "XP_004703511.1*TAG 5* XP_004703511.1 PREDICTED: cytochrome P450 2U1, partial [Echinops telfairi]\n",
      "XP_004703511.1*TAG\n",
      "XP_012374116.2*TAG 5* XP_012374116.2 cytochrome P450 2U1, partial [Dasypus novemcinctus]\n",
      "XP_012374116.2*TAG\n",
      "XP_014694538.1*TAG 5* XP_014694538.1 PREDICTED: cytochrome P450 2U1, partial [Equus asinus]\n",
      "XP_014694538.1*TAG\n",
      "XP_020016209.1*TAG 5* XP_020016209.1 cytochrome P450 2U1 [Castor canadensis]\n",
      "XP_020016209.1*TAG\n",
      "XP_006778968.2*TAG 5* XP_006778968.2 PREDICTED: cytochrome P450 2U1 [Myotis davidii]\n",
      "XP_006778968.2*TAG\n",
      "XP_006096650.1*TAG 5* XP_006096650.1 cytochrome P450 2U1 [Myotis lucifugus]\n",
      "XP_006096650.1*TAG\n",
      "XP_008148480.1*TAG 5* XP_008148480.1 PREDICTED: cytochrome P450 2U1 [Eptesicus fuscus]\n",
      "XP_008148480.1*TAG\n",
      "XP_013220884.1*TAG 5* XP_013220884.1 cytochrome P450 2U1 [Ictidomys tridecemlineatus]\n",
      "XP_013220884.1*TAG\n",
      "XP_016069983.1*TAG 5* XP_016069983.1 PREDICTED: cytochrome P450 2U1, partial [Miniopterus natalensis]\n",
      "XP_016069983.1*TAG\n",
      "XP_006881166.1*TAG 5* XP_006881166.1 PREDICTED: cytochrome P450 2U1-like [Elephantulus edwardii]\n",
      "XP_006881166.1*TAG\n",
      "XP_004594327.1*TAG 5* XP_004594327.1 PREDICTED: cytochrome P450 2U1 [Ochotona princeps]\n",
      "XP_004594327.1*TAG\n",
      "XP_016016320.1*TAG 5* XP_016016320.1 PREDICTED: cytochrome P450 2U1 [Rousettus aegyptiacus]\n",
      "XP_016016320.1*TAG\n",
      "XP_012879182.1*TAG 5* XP_012879182.1 PREDICTED: cytochrome P450 2U1 [Dipodomys ordii]\n",
      "XP_012879182.1*TAG\n",
      "XP_006162319.2*TAG 5* XP_006162319.2 PREDICTED: cytochrome P450 2U1 [Tupaia chinensis]\n",
      "XP_006162319.2*TAG\n",
      "XP_004866353.1*TAG 5* XP_004866353.1 cytochrome P450 2U1 [Heterocephalus glaber]\n",
      "XP_004866353.1*TAG\n",
      "XP_005406339.2*TAG 5* XP_005406339.2 PREDICTED: cytochrome P450 2U1, partial [Chinchilla lanigera]\n",
      "XP_005406339.2*TAG\n",
      "XP_003468093.1*TAG 5* XP_003468093.1 cytochrome P450 2U1 [Cavia porcellus]\n",
      "XP_003468093.1*TAG\n",
      "XP_001366063.1*TAG 5* XP_001366063.1 PREDICTED: cytochrome P450 2U1 [Monodelphis domestica]\n",
      "XP_001366063.1*TAG\n",
      "XP_020857009.1*TAG 5* XP_020857009.1 cytochrome P450 2U1 isoform X1 [Phascolarctos cinereus]\n",
      "XP_020857009.1*TAG\n",
      "XP_023361506.1*TAG 5* XP_023361506.1 cytochrome P450 2U1 [Sarcophilus harrisii]\n",
      "XP_023361506.1*TAG\n",
      "XP_011572877.1*TAG 5* XP_011572877.1 PREDICTED: cytochrome P450 2U1 [Aquila chrysaetos canadensis]\n",
      "XP_011572877.1*TAG\n",
      "XP_010584537.1*TAG 5* XP_010584537.1 PREDICTED: cytochrome P450 2U1, partial [Haliaeetus leucocephalus]\n",
      "XP_010584537.1*TAG\n",
      "XP_015480586.1*TAG 5* XP_015480586.1 PREDICTED: cytochrome P450 2U1 [Parus major]\n",
      "XP_015480586.1*TAG\n",
      "XP_005518034.1*TAG 5* XP_005518034.1 PREDICTED: cytochrome P450 2U1 [Pseudopodoces humilis]\n",
      "XP_005518034.1*TAG\n",
      "XP_005484794.1*TAG 5* XP_005484794.1 PREDICTED: cytochrome P450 2U1 [Zonotrichia albicollis]\n",
      "XP_005484794.1*TAG\n",
      "XP_021381195.1*TAG 5* XP_021381195.1 cytochrome P450 2U1 [Lonchura striata domestica]\n",
      "XP_021381195.1*TAG\n",
      "XP_002194737.2*TAG 5* XP_002194737.2 PREDICTED: cytochrome P450 2U1 [Taeniopygia guttata]\n",
      "XP_002194737.2*TAG\n",
      "XP_010410415.1*TAG 5* XP_010410415.1 cytochrome P450 2U1, partial [Corvus cornix cornix]\n",
      "XP_010410415.1*TAG\n",
      "XP_009099794.1*TAG 5* XP_009099794.1 PREDICTED: cytochrome P450 2U1 isoform X1 [Serinus canaria]\n",
      "XP_009099794.1*TAG\n",
      "XP_005044990.1*TAG 5* XP_005044990.1 PREDICTED: cytochrome P450 2U1, partial [Ficedula albicollis]\n",
      "XP_005044990.1*TAG\n",
      "XP_014733783.1*TAG 5* XP_014733783.1 PREDICTED: cytochrome P450 2U1 [Sturnus vulgaris]\n",
      "XP_014733783.1*TAG\n",
      "XP_017688993.1*TAG 5* XP_017688993.1 PREDICTED: cytochrome P450 2U1 [Lepidothrix coronata]\n",
      "XP_017688993.1*TAG\n",
      "KFW75712.1 Cytochrome P450 2U1, partial [Manacus vitellinus]\n",
      "KFW75712.1\n",
      "XP_005148751.1*TAG 5* XP_005148751.1 PREDICTED: cytochrome P450 2U1, partial [Melopsittacus undulatus]\n",
      "XP_005148751.1*TAG\n",
      "XP_014796211.1*TAG 5* XP_014796211.1 PREDICTED: cytochrome P450 2U1 [Calidris pugnax]\n",
      "XP_014796211.1*TAG\n",
      "XP_005515313.3*TAG 6* XP_005515313.3 cytochrome P450 2U1 [Columba livia]\n",
      "XP_005515313.3*TAG\n",
      "OPJ75701.1*TAG 5* OPJ75701.1 cytochrome P450 2U1 [Patagioenas fasciata monilis]\n",
      "OPJ75701.1*TAG\n",
      "XP_420491.3*TAG 5* XP_420491.3 PREDICTED: cytochrome P450 2U1 [Gallus gallus]\n",
      "XP_420491.3*TAG\n",
      "XP_010708185.2*TAG 5* XP_010708185.2 PREDICTED: cytochrome P450 2U1 [Meleagris gallopavo]\n",
      "XP_010708185.2*TAG\n",
      "XP_015716841.1*TAG 5* XP_015716841.1 PREDICTED: cytochrome P450 2U1 [Coturnix japonica]\n",
      "XP_015716841.1*TAG\n",
      "XP_021251581.1*TAG 5* XP_021251581.1 cytochrome P450 2U1 [Numida meleagris]\n",
      "XP_021251581.1*TAG\n",
      "XP_008633832.2*TAG 6* XP_008633832.2 PREDICTED: cytochrome P450 2U1 [Corvus brachyrhynchos]\n",
      "XP_008633832.2*TAG\n",
      "XP_017928159.1*TAG 5* XP_017928159.1 PREDICTED: cytochrome P450 2U1 [Manacus vitellinus]\n",
      "XP_017928159.1*TAG\n",
      "XP_010077161.1*TAG 5* XP_010077161.1 PREDICTED: LOW QUALITY PROTEIN: cytochrome P450 2U1, partial [Pterocles gutturalis]\n",
      "XP_010077161.1*TAG\n",
      "KFO79198.1 Cytochrome P450 2U1, partial [Cuculus canorus]\n",
      "KFO79198.1\n",
      "XP_009900551.1*TAG 5* XP_009900551.1 PREDICTED: cytochrome P450 2U1, partial [Picoides pubescens]\n",
      "XP_009900551.1*TAG\n",
      "KGL85110.1 Cytochrome P450 2U1, partial [Tinamus guttatus]\n",
      "KGL85110.1\n",
      "XP_009919298.1*TAG 5* XP_009919298.1 PREDICTED: cytochrome P450 2U1, partial [Haliaeetus albicilla]\n",
      "XP_009919298.1*TAG\n",
      "XP_009883824.1*TAG 5* XP_009883824.1 PREDICTED: cytochrome P450 2U1 [Charadrius vociferus]\n",
      "XP_009883824.1*TAG\n",
      "XP_009647457.1*TAG 6* XP_009647457.1 PREDICTED: cytochrome P450 2U1 [Egretta garzetta]\n",
      "XP_009647457.1*TAG\n",
      "XP_005287999.1*TAG 5* XP_005287999.1 cytochrome P450 2U1 isoform X2 [Chrysemys picta bellii]\n",
      "XP_005287999.1*TAG\n",
      "XP_014427106.1*TAG 5* XP_014427106.1 PREDICTED: cytochrome P450 2U1 [Pelodiscus sinensis]\n",
      "XP_014427106.1*TAG\n",
      "XP_003226556.2*TAG 5* XP_003226556.2 PREDICTED: cytochrome P450 2U1 [Anolis carolinensis]\n",
      "XP_003226556.2*TAG\n",
      "XP_020652021.1*TAG 5* XP_020652021.1 cytochrome P450 2U1, partial [Pogona vitticeps]\n",
      "XP_020652021.1*TAG\n",
      "XP_015281737.1*TAG 5* XP_015281737.1 PREDICTED: cytochrome P450 2U1 [Gekko japonicus]\n",
      "XP_015281737.1*TAG\n",
      "XP_006272957.2*TAG 5* XP_006272957.2 PREDICTED: cytochrome P450 2U1 isoform X1 [Alligator mississippiensis]\n",
      "XP_006272957.2*TAG\n",
      "XP_019377492.1*TAG 5* XP_019377492.1 PREDICTED: cytochrome P450 2U1 isoform X1 [Gavialis gangeticus]\n",
      "XP_019377492.1*TAG\n",
      "XP_007421378.1*TAG 5* XP_007421378.1 PREDICTED: cytochrome P450 2U1 isoform X1 [Python bivittatus]\n",
      "XP_007421378.1*TAG\n",
      "XP_015665994.1*TAG 5* XP_015665994.1 PREDICTED: cytochrome P450 2U1 isoform X1 [Protobothrops mucrosquamatus]\n",
      "XP_015665994.1*TAG\n",
      "ARO89866.1 cytochrome P450 Cyp2u1 [Andrias davidianus]\n",
      "ARO89866.1\n",
      "XP_018106696.1*TAG 5* XP_018106696.1 PREDICTED: cytochrome P450 2U1-like [Xenopus laevis]\n",
      "XP_018106696.1*TAG\n",
      "NP_001106471.1*TAG 5* NP_001106471.1 cytochrome P450 family 2 subfamily U member 1 [Xenopus tropicalis]\n",
      "NP_001106471.1*TAG\n",
      "XP_018409984.1*TAG 5* XP_018409984.1 PREDICTED: cytochrome P450 2U1 [Nanorana parkeri]\n",
      "XP_018409984.1*TAG\n",
      "XP_018611667.1*TAG 5* XP_018611667.1 PREDICTED: cytochrome P450 2U1 [Scleropages formosus]\n",
      "XP_018611667.1*TAG\n",
      "XP_020383892.1*TAG 6* XP_020383892.1 cytochrome P450 2U1-like [Rhincodon typus]\n",
      "XP_020383892.1*TAG\n"
     ]
    }
   ],
   "source": [
    "for record in full_record:\n",
    "    print (full_record[record].description)\n",
    "    print (full_record[record].name)"
   ]
  },
  {
   "cell_type": "markdown",
   "metadata": {},
   "source": [
    "# Creating subsets of the records\n",
    "### Including / excluding based on header annotations\n",
    "\n",
    "Now the workflow moves to including and excluding certain sequences. `subset_records` allows us to provide a list of terms which we either want or don't want in the header description. We can also give a minimum length for sequences to meet for inclusion.\n",
    "\n",
    "We don't ever alter the original `full_record`, we just create new dictionary objects that are subsets.\n",
    "\n",
    "We can either provide arguments directly to the function or we can pass in a list variable, such as `header_terms`.\n",
    "\n",
    "In the example below `only_2U1_records` is set to only include sequences which have either '2U1' or '2U1-like' in the header. And `filtered_records` will contain the full set of sequences as we are not providing a length minimum (and the default is 0) and we are passing in the currently empty `header_terms`."
   ]
  },
  {
   "cell_type": "code",
   "execution_count": 12,
   "metadata": {
    "collapsed": true
   },
   "outputs": [],
   "source": [
    "# A blank list to hold terms we want to exclude or include\n",
    "header_terms = []"
   ]
  },
  {
   "cell_type": "code",
   "execution_count": 15,
   "metadata": {},
   "outputs": [
    {
     "name": "stdout",
     "output_type": "stream",
     "text": [
      "The number of sequences with either 2U1 or 2U1-like in the header is 170 \n",
      "The number of sequences we've filtered is 7 which should be equal to 177\n"
     ]
    }
   ],
   "source": [
    "only_2U1_records = subset_records(\"2U1\", \"2U1-like\", records=full_record, length=400, mode=\"include\")\n",
    "filtered_records = subset_records(\"2U1\", \"2U1-like\", records=full_record, length=400, mode='exclude')\n",
    "\n",
    "print (\"The number of sequences with either 2U1 or 2U1-like in the header is %s \" % (len(only_2U1_records)))\n",
    "print (\"The number of sequences we've filtered is %s which should be equal to %s\" % (len(filtered_records), len(full_record)))"
   ]
  },
  {
   "cell_type": "markdown",
   "metadata": {
    "collapsed": true
   },
   "source": [
    "### Adding terms to the `header_terms` variable\n",
    "The following section makes it easy to add in terms to the `header_terms` variable and to save these files for later use.\n",
    "\n",
    "Let's first print out the terms in our variable and the length of it. As you add to the list you can always come back and rerun this cell to peek inside the `header_terms` variable"
   ]
  },
  {
   "cell_type": "code",
   "execution_count": null,
   "metadata": {
    "collapsed": true
   },
   "outputs": [],
   "source": [
    "print (header_terms)\n",
    "print (len(header_terms))"
   ]
  },
  {
   "cell_type": "markdown",
   "metadata": {},
   "source": [
    "The first thing we might be interested in doing is to print out the header information of the sequences we currently have."
   ]
  },
  {
   "cell_type": "code",
   "execution_count": 16,
   "metadata": {},
   "outputs": [
    {
     "name": "stdout",
     "output_type": "stream",
     "text": [
      "CAG11477.1*TAG 5* CAG11477.1 unnamed protein product, partial [Tetraodon nigroviridis]\n",
      "AGN04284.1 cytochrome P450 [Oryzias melastigma]\n",
      "KTF87224.1*TAG 5* KTF87224.1 hypothetical protein cypCar_00019558 [Cyprinus carpio]\n",
      "EFB16740.1 hypothetical protein PANDA_005136, partial [Ailuropoda melanoleuca]\n",
      "EHH26107.1*TAG 5* EHH26107.1 hypothetical protein EGK_15996, partial [Macaca mulatta]\n",
      "ARO89866.1 cytochrome P450 Cyp2u1 [Andrias davidianus]\n",
      "NP_001106471.1*TAG 5* NP_001106471.1 cytochrome P450 family 2 subfamily U member 1 [Xenopus tropicalis]\n"
     ]
    }
   ],
   "source": [
    "for record in filtered_records:\n",
    "    print (filtered_records[record].description)"
   ]
  },
  {
   "cell_type": "markdown",
   "metadata": {},
   "source": [
    "The cell below will add items to our `header_terms` variable. Hit run on the cell and you'll see an input box - simply add words seperated by a space that you want to add."
   ]
  },
  {
   "cell_type": "markdown",
   "metadata": {},
   "source": [
    "# Evaluating how many hits per species\n",
    "\n",
    "`build_species_count` builds a dictionary which has the set of unique species as its keys and a list of the sequence IDs that belong to each unique species as its . So we can use it to easily see how many unique species we have and which species are over represented."
   ]
  },
  {
   "cell_type": "code",
   "execution_count": 17,
   "metadata": {},
   "outputs": [
    {
     "name": "stdout",
     "output_type": "stream",
     "text": [
      "There are 168 unique species in our dataset.\n"
     ]
    }
   ],
   "source": [
    "species_counts = build_species_count(records=full_record)\n",
    "print(\"There are %s unique species in our dataset.\" % (len(species_counts)))"
   ]
  },
  {
   "cell_type": "markdown",
   "metadata": {},
   "source": [
    "### Plotting the frequency of proteins per species\n",
    "`plot_record_number` is a function that plots the numbers of IDs per species. We can set a minimum number of IDs that a species must have in order to be plotted."
   ]
  },
  {
   "cell_type": "code",
   "execution_count": 18,
   "metadata": {},
   "outputs": [
    {
     "data": {
      "text/html": [
       "<iframe id=\"igraph\" scrolling=\"no\" style=\"border:none;\" seamless=\"seamless\" src=\"https://plot.ly/~gabefoley/3.embed\" height=\"525px\" width=\"100%\"></iframe>"
      ],
      "text/plain": [
       "<plotly.tools.PlotlyDisplay object>"
      ]
     },
     "execution_count": 18,
     "metadata": {},
     "output_type": "execute_result"
    }
   ],
   "source": [
    "plotthis = plot_record_number(species_counts, \"Bar\", min_length=3)\n",
    "py.iplot(plotthis, filename='inline_bar')"
   ]
  },
  {
   "cell_type": "code",
   "execution_count": 20,
   "metadata": {},
   "outputs": [
    {
     "data": {
      "text/html": [
       "<iframe id=\"igraph\" scrolling=\"no\" style=\"border:none;\" seamless=\"seamless\" src=\"https://plot.ly/~gabefoley/3.embed\" height=\"525px\" width=\"100%\"></iframe>"
      ],
      "text/plain": [
       "<plotly.tools.PlotlyDisplay object>"
      ]
     },
     "execution_count": 20,
     "metadata": {},
     "output_type": "execute_result"
    }
   ],
   "source": [
    "plotthis = plot_record_number(species_counts, \"Bar\", min_length=2)\n",
    "py.iplot(plotthis, filename='inline_bar')"
   ]
  },
  {
   "cell_type": "code",
   "execution_count": null,
   "metadata": {
    "collapsed": true
   },
   "outputs": [],
   "source": [
    "plotthis = plot_record_number(species_counts, \"Bar\", min=5)\n",
    "py.iplot(plotthis, filename='inline_bar')"
   ]
  },
  {
   "cell_type": "markdown",
   "metadata": {},
   "source": [
    "#### We can also just extract the names using `get_species_name`, which also accepts a minimum number of IDs required and can print out the number of counts per each species"
   ]
  },
  {
   "cell_type": "code",
   "execution_count": 38,
   "metadata": {
    "scrolled": true
   },
   "outputs": [
    {
     "name": "stdout",
     "output_type": "stream",
     "text": [
      "Sclerotinia_sclerotiorum_1980_UF-70\n",
      "Aspergillus_wentii_DTO_134E9\n",
      "Aspergillus_cristatus\n",
      "Aspergillus_niger\n",
      "Aspergillus_carbonarius_ITEM_5010\n",
      "Aspergillus_brasiliensis_CBS_101740\n",
      "Aspergillus_kawachii_IFO_4308\n",
      "Aspergillus_ruber_CBS_135680\n",
      "Aspergillus_glaucus_CBS_516.65\n",
      "Penicillium_arizonense\n",
      "Penicillium_italicum\n",
      "Penicillium_freii\n",
      "Penicillium_polonicum\n",
      "Penicillium_nordicum\n",
      "Penicillium_solitum\n",
      "Penicillium_camemberti_FM_013\n",
      "Penicillium_digitatum_Pd1\n",
      "Penicillium_expansum\n",
      "Aspergillus_bombycis\n",
      "Aspergillus_nomius_NRRL_13137\n",
      "Aspergillus_parasiticus_SU-1\n",
      "Byssochlamys_spectabilis_No._5\n",
      "Penicillium_flavigenum\n",
      "Penicillium_nalgiovense\n",
      "Penicillium_steckii\n",
      "Penicillium_decumbens\n",
      "Aspergillus_terreus_NIH2624\n",
      "Aspergillus_oryzae\n",
      "Penicillium_brasilianum\n",
      "Aspergillus_sydowii_CBS_593.65\n",
      "Aspergillus_versicolor_CBS_583.65\n",
      "Cordyceps_confragosa_RCEF_1005\n",
      "Cordyceps_confragosa\n",
      "Penicillium_griseofulvum\n",
      "Aspergillus_niger_ATCC_1015\n",
      "Aspergillus_luchuensis\n",
      "Aspergillus_lentulus\n",
      "Aspergillus_turcosus\n",
      "Penicillium_antarcticum\n",
      "Peniophora_sp._CONT\n",
      "Serendipita_indica_DSM_11827\n",
      "Rhizoctonia_solani_AG-1_IB\n",
      "Fomitiporia_mediterranea_MF3/22\n",
      "Schizopora_paradoxa\n",
      "Auricularia_subglabra_TFB-10046_SS5\n",
      "Fibularhizoctonia_sp._CBS_109695\n",
      "Piloderma_croceum_F_1598\n",
      "Neolentinus_lepideus_HHB14362_ss-1\n",
      "Moniliophthora_roreri_MCA_2997\n",
      "Sistotremastrum_suecicum_HHB10207_ss-3\n",
      "Trametes_pubescens\n",
      "Trametes_versicolor_FP-101664_SS1\n",
      "Laccaria_amethystina_LaAM-08-1\n",
      "Galerina_marginata_CBS_339.88\n",
      "Sphaerulina_musiva_SO2202\n",
      "Pseudocercospora_fijiensis_CIRAD86\n",
      "Mycosphaerella_eumusae\n",
      "Pseudomassariella_vexata\n",
      "Hortaea_werneckii_EXF-2000\n",
      "Aureobasidium_namibiae_CBS_147.97\n",
      "Aureobasidium_subglaciale_EXF-2481\n",
      "Aureobasidium_pullulans_EXF-150\n",
      "Aureobasidium_pullulans\n",
      "Cutaneotrichosporon_oleaginosum\n",
      "Aspergillus_tubingensis_CBS_134.48\n",
      "Aspergillus_arachidicola\n",
      "Cercospora_beticola\n",
      "Macrophomina_phaseolina_MS6\n",
      "Neofusicoccum_parvum_UCRNP2\n",
      "Aureobasidium_melanogenum_CBS_110374\n",
      "Rosellinia_necatrix\n",
      "Alternaria_alternata\n",
      "Pestalotiopsis_fici_W106-1\n",
      "Paraphaeosphaeria_sporulosa\n",
      "Phialocephala_scopiformis\n",
      "Diplodia_seriata\n",
      "Epicoccum_nigrum\n",
      "Stagonospora_sp._SRC1lsM3a\n",
      "Setosphaeria_turcica_Et28A\n",
      "Bipolaris_maydis_ATCC_48331\n",
      "Metarhizium_majus_ARSEF_297\n",
      "Metarhizium_anisopliae_ARSEF_549\n",
      "Metarhizium_anisopliae_BRIP_53293\n",
      "Aspergillus_udagawae\n",
      "Sclerotinia_borealis_F-4128\n",
      "Phialocephala_subalpina\n",
      "Aspergillus_aculeatus_ATCC_16872\n",
      "Penicillium_chrysogenum\n",
      "Diplodia_corticola\n",
      "Aspergillus_thermomutatus\n"
     ]
    }
   ],
   "source": [
    "species_names = get_species_names(species_counts, min=1)\n",
    "for name in species_names:\n",
    "    print (name)"
   ]
  },
  {
   "cell_type": "code",
   "execution_count": 36,
   "metadata": {},
   "outputs": [
    {
     "name": "stdout",
     "output_type": "stream",
     "text": [
      "Sclerotinia_sclerotiorum_1980_UF-70 4\n",
      "Aspergillus_wentii_DTO_134E9 7\n",
      "Aspergillus_cristatus 5\n",
      "Aspergillus_niger 5\n",
      "Aspergillus_ruber_CBS_135680 4\n",
      "Aspergillus_glaucus_CBS_516.65 4\n",
      "Penicillium_arizonense 5\n",
      "Penicillium_freii 4\n",
      "Penicillium_expansum 4\n",
      "Aspergillus_bombycis 4\n",
      "Aspergillus_nomius_NRRL_13137 5\n",
      "Aspergillus_parasiticus_SU-1 5\n",
      "Penicillium_flavigenum 4\n",
      "Penicillium_nalgiovense 4\n",
      "Aspergillus_versicolor_CBS_583.65 4\n",
      "Aspergillus_turcosus 4\n",
      "Penicillium_antarcticum 4\n",
      "Serendipita_indica_DSM_11827 4\n",
      "Fomitiporia_mediterranea_MF3/22 5\n",
      "Fibularhizoctonia_sp._CBS_109695 6\n",
      "Aureobasidium_namibiae_CBS_147.97 4\n",
      "Aureobasidium_subglaciale_EXF-2481 4\n",
      "Aureobasidium_pullulans_EXF-150 5\n",
      "Neofusicoccum_parvum_UCRNP2 4\n",
      "Aureobasidium_melanogenum_CBS_110374 4\n",
      "Alternaria_alternata 4\n"
     ]
    }
   ],
   "source": [
    "species_names_with_counts = get_species_names(species_counts, min=3, counts=True)\n",
    "for name in species_names_with_counts:\n",
    "    print (name)"
   ]
  },
  {
   "cell_type": "markdown",
   "metadata": {},
   "source": [
    "### Counting the total number of sequences with multiple hits\n",
    "`count_ids` is a function that counts the total number of sequences in a species count dictionary, not just the number of unique species.\n",
    "\n",
    "As before, it can also take a minimum number of IDs required"
   ]
  },
  {
   "cell_type": "code",
   "execution_count": null,
   "metadata": {
    "collapsed": true
   },
   "outputs": [],
   "source": [
    "min_num = 5\n",
    "print (\"There are %s total sequences in our filtered dataset.\" % (count_ids(species_counts)))\n",
    "print (\"There are %s total sequences in our filtered dataset that have %d or more IDs per species.\" % (count_ids(species_counts, min=min_num), min_num))"
   ]
  },
  {
   "cell_type": "markdown",
   "metadata": {
    "collapsed": true
   },
   "source": [
    "# Generating datasets containing information about species with multiple hits\n",
    "For each species that has more than the given number of hits, we create \n",
    "1. A FASTA file of the protein sequences from that species\n",
    "2. An alignment of the protein sequences\n",
    "3. An information file telling use where in the genome the protein maps to\n",
    "4. A visual diagram of the genome mapping the proteins to the genome"
   ]
  },
  {
   "cell_type": "code",
   "execution_count": 30,
   "metadata": {},
   "outputs": [
    {
     "name": "stdout",
     "output_type": "stream",
     "text": [
      "Cercospora beticola\n",
      "PIA94173.1 OR PIA98779.1 OR \n",
      "{}\n",
      "Aspergillus arachidicola\n",
      "PIG81432.1 OR PIG85841.1 OR PIG86610.1 OR \n",
      "{}\n",
      "Fomitiporia mediterranea MF3/22\n",
      "XP_007263416.1 OR XP_007270208.1 OR XP_007270219.1 OR XP_007270266.1 OR XP_007270267.1 OR \n",
      "{'XP_007270267.1': '18677144'}\n",
      "Auricularia subglabra TFB-10046 SS5\n",
      "XP_007343182.1 OR XP_007343183.1 OR \n",
      "{'XP_007343183.1': '18856100'}\n",
      "Trametes versicolor FP-101664 SS1\n",
      "XP_008033399.1 OR XP_008038061.1 OR \n",
      "{'XP_008038061.1': '19407809'}\n",
      "Cercospora beticola\n",
      "PIA94173.1 OR PIA98779.1 OR \n",
      "{}\n",
      "Aspergillus arachidicola\n",
      "PIG81432.1 OR PIG85841.1 OR PIG86610.1 OR \n",
      "{}\n",
      "Fomitiporia mediterranea MF3/22\n",
      "XP_007263416.1 OR XP_007270208.1 OR XP_007270219.1 OR XP_007270266.1 OR XP_007270267.1 OR \n",
      "{'XP_007270267.1': '18677144'}\n",
      "Auricularia subglabra TFB-10046 SS5\n",
      "XP_007343182.1 OR XP_007343183.1 OR \n",
      "{'XP_007343183.1': '18856100'}\n",
      "Trametes versicolor FP-101664 SS1\n",
      "XP_008033399.1 OR XP_008038061.1 OR \n",
      "{'XP_008038061.1': '19407809'}\n"
     ]
    }
   ],
   "source": [
    "def generate_multiple_hit_data(species_names, species_counts, full_record, file_path):\n",
    "    id_dict = {}\n",
    "#     for name in species_names:\n",
    "#         seqs = map_species_to_records(species_counts[name], full_record)\n",
    "#         write_fasta(seqs, file_path + name + \" sequences\")\n",
    "#         alignmentFile = alignment.alignWithMAFFT(file_path + name + \" sequences\")\n",
    "#         alignment.writeAlignment(alignmentFile, file_path + name + \".aln\", \"fasta\")\n",
    "        \n",
    "\n",
    "    check_genomic_location(species_counts, min=1, file_path=file_path +\" gene locations \")\n",
    "    check_genomic_location(species_counts, min=1, visualise=\"linear\")\n",
    "\n",
    "\n",
    "species_names = get_species_names(species_counts, min=1)\n",
    "generate_multiple_hit_data(species_names, species_counts, full_record, \"files/multiple_hits/\")"
   ]
  },
  {
   "cell_type": "markdown",
   "metadata": {},
   "source": [
    "Or we could just use parts of this function. The cell below will just print out the locations of the proteins in the genome. We could save this to disk by providing an argument to the `file_path` variable or visualise it by providing either 'linear' or 'circular' to the `visualise` variable."
   ]
  },
  {
   "cell_type": "code",
   "execution_count": null,
   "metadata": {
    "collapsed": true
   },
   "outputs": [],
   "source": [
    "check_genomic_location(species_counts, min=5)"
   ]
  },
  {
   "cell_type": "markdown",
   "metadata": {},
   "source": [
    "# Saving the records to FASTA files\n",
    "Because `filtered_records` just contains the species name and IDs of these species, we need to map these IDs back to their full records. We can use the function `map_ids_to_records` which allows for us to select all the records in `filtered_ids` or just the unique species."
   ]
  },
  {
   "cell_type": "code",
   "execution_count": null,
   "metadata": {
    "collapsed": true,
    "scrolled": true
   },
   "outputs": [],
   "source": [
    "filtered_records = map_ids_to_records(species_counts, full_record)\n",
    "filtered_records_unique = map_ids_to_records(species_counts, full_record, unique=True)\n",
    "\n",
    "# Check that the numbers are correct\n",
    "print (len(filtered_records))\n",
    "print (len(filtered_records_unique))"
   ]
  },
  {
   "cell_type": "markdown",
   "metadata": {},
   "source": [
    "And now we can save these records to a new FASTA file using `write_fasta`"
   ]
  },
  {
   "cell_type": "code",
   "execution_count": null,
   "metadata": {
    "collapsed": true
   },
   "outputs": [],
   "source": [
    "write_fasta(filtered_records, \"files/2U1_BLAST_smaller_records.fasta\")\n",
    "# write_fasta(filtered_records_unique, \"files/2U1_BLAST_filtered_records_unique.fasta\")"
   ]
  },
  {
   "cell_type": "markdown",
   "metadata": {},
   "source": [
    "We can also use the function `map_species_to_records` to just map a particular species to a FASTA file."
   ]
  },
  {
   "cell_type": "code",
   "execution_count": null,
   "metadata": {
    "collapsed": true
   },
   "outputs": [],
   "source": [
    "priapulus_caudatus = map_species_to_records(species_counts['Priapulus caudatus'], full_record)\n",
    "write_fasta(priapulus_caudatus, \"files/priapulus_caudatus.fasta\")"
   ]
  }
 ],
 "metadata": {
  "kernelspec": {
   "display_name": "Python 3",
   "language": "python",
   "name": "python3"
  },
  "language_info": {
   "codemirror_mode": {
    "name": "ipython",
    "version": 3
   },
   "file_extension": ".py",
   "mimetype": "text/x-python",
   "name": "python",
   "nbconvert_exporter": "python",
   "pygments_lexer": "ipython3",
   "version": "3.6.3"
  }
 },
 "nbformat": 4,
 "nbformat_minor": 2
}
