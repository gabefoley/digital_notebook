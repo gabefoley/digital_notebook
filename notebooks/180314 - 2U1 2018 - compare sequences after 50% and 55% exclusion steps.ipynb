{
 "cells": [
  {
   "cell_type": "code",
   "execution_count": 11,
   "metadata": {},
   "outputs": [],
   "source": [
    "from fasta import *"
   ]
  },
  {
   "cell_type": "code",
   "execution_count": 18,
   "metadata": {},
   "outputs": [],
   "source": [
    "# Load the files\n",
    "records50 = SeqIO.to_dict(SeqIO.parse(\"/Users/gabefoley/Dropbox/PhD/Projects/2U1/2U1_2018/Excluding plants fungi nematodes insects and bacteria/180312_fifty_percent_identity/Alignment_exclusion/Comparison_to_old_alignment/2U1_50_percent_motif_9_cdhit99.fasta\", \"fasta\"))\n",
    "\n",
    "records55 = SeqIO.to_dict(SeqIO.parse(\"/Users/gabefoley/Dropbox/PhD/Projects/2U1/2U1_2018/Excluding plants fungi nematodes insects and bacteria/180312_fifty_percent_identity/Alignment_exclusion/Comparison_to_old_alignment/2U1_55percent_duplicated_removed_18.fasta\", \"fasta\"))"
   ]
  },
  {
   "cell_type": "markdown",
   "metadata": {},
   "source": [
    "After doing the alignment exclusion, we check to see which sequences we aren’t excluding that we were in the previous exclusion procedure starting from 55% identity (we expect some difference because I’m not removing large insertions and N-terminal deletions this time)"
   ]
  },
  {
   "cell_type": "code",
   "execution_count": 19,
   "metadata": {},
   "outputs": [
    {
     "name": "stdout",
     "output_type": "stream",
     "text": [
      "35\n",
      "XP_005872504.1\n",
      "BAG65487.1\n",
      "XP_008503282.1\n",
      "XP_005940067.1\n",
      "XP_004671492.1\n",
      "XP_014937325.1\n",
      "XP_011611202.1\n",
      "XP_010639842.1\n",
      "EHA99322.1\n",
      "KGL85110.1\n",
      "XP_009563306.1\n",
      "XP_022269155.1\n",
      "XP_004612799.1\n",
      "XP_014379039.1\n",
      "KFO25848.1\n",
      "XP_023361104.1\n",
      "XP_009930453.1\n",
      "ERE89448.1\n",
      "XP_007054542.1\n",
      "KKF09825.1\n",
      "XP_004626825.1\n",
      "XP_009883824.1\n",
      "XP_008633832.2\n",
      "XP_010008547.1\n",
      "XP_012583185.1\n",
      "XP_015450322.1\n",
      "XP_008687731.1\n",
      "PIK38219.1\n",
      "XP_009647457.1\n",
      "OCA35976.1\n",
      "XP_009919298.1\n",
      "XP_010639843.1\n",
      "PIO41157.1\n",
      "KYO44822.1\n",
      "XP_007663325.1\n"
     ]
    }
   ],
   "source": [
    "# These are the sequences that we excluded the first time that we don't exclude at 50%\n",
    "diff = getDifferentIDs(records50, records55)\n",
    "print (len(diff))\n",
    "for x in diff:\n",
    "    print (x)"
   ]
  },
  {
   "cell_type": "code",
   "execution_count": null,
   "metadata": {
    "collapsed": true
   },
   "outputs": [],
   "source": []
  }
 ],
 "metadata": {
  "kernelspec": {
   "display_name": "Python 3",
   "language": "python",
   "name": "python3"
  },
  "language_info": {
   "codemirror_mode": {
    "name": "ipython",
    "version": 3
   },
   "file_extension": ".py",
   "mimetype": "text/x-python",
   "name": "python",
   "nbconvert_exporter": "python",
   "pygments_lexer": "ipython3",
   "version": "3.6.3"
  }
 },
 "nbformat": 4,
 "nbformat_minor": 2
}
