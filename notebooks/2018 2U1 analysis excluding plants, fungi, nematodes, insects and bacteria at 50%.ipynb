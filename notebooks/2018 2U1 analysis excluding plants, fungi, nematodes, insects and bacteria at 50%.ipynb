{
 "cells": [
  {
   "cell_type": "code",
   "execution_count": null,
   "metadata": {},
   "outputs": [],
   "source": [
    "from fasta import *\n",
    "import alignment\n",
    "import utilities\n",
    "import annotations\n",
    "from checkGenome import *\n",
    "from ipywidgets import widgets\n",
    "from ipywidgets import *\n",
    "from traitlets import *\n",
    "from IPython.display import display"
   ]
  },
  {
   "cell_type": "markdown",
   "metadata": {},
   "source": [
    "# Loading the files\n",
    "\n",
    "The first thing we want to do is load in our files. Loading them in this way actually loads them into a dictionary where the keys are the record IDs and the values are the full records."
   ]
  },
  {
   "cell_type": "code",
   "execution_count": null,
   "metadata": {
    "collapsed": true
   },
   "outputs": [],
   "source": [
    "# Load the 2U1 files\n",
    "records = SeqIO.to_dict(SeqIO.parse(\"/Users/gabefoley/Dropbox/PhD/Projects/2U1/2U1_2018/Excluding plants fungi nematodes insects and bacteria/concatenated_output.fasta\", \"fasta\"))\n",
    "records_40 = SeqIO.to_dict(SeqIO.parse(\"/Users/gabefoley/Dropbox/PhD/Projects/2U1/2U1_2018/Excluding plants fungi nematodes insects and bacteria/40_percent_concatenated_output.fasta\", \"fasta\"))\n",
    "records_50 = SeqIO.to_dict(SeqIO.parse(\"/Users/gabefoley/Dropbox/PhD/Projects/2U1/2U1_2018/Excluding plants fungi nematodes insects and bacteria/50_percent_concatenated_output.fasta\", \"fasta\"))\n",
    "records_55 = SeqIO.to_dict(SeqIO.parse(\"/Users/gabefoley/Dropbox/PhD/Projects/2U1/2U1_2018/Excluding plants fungi nematodes insects and bacteria/55_percent_concatenated_output.fasta\", \"fasta\"))\n"
   ]
  },
  {
   "cell_type": "markdown",
   "metadata": {},
   "source": [
    "#### How many sequences do we have in the full records?"
   ]
  },
  {
   "cell_type": "code",
   "execution_count": null,
   "metadata": {},
   "outputs": [],
   "source": [
    "print (len(records))\n",
    "print (len(records_40))\n",
    "print (len(records_50))\n",
    "print (len(records_55))\n"
   ]
  },
  {
   "cell_type": "markdown",
   "metadata": {},
   "source": [
    "# Creating subsets of the records\n",
    "### Including / excluding based on header annotations\n",
    "\n",
    "Now the workflow moves to including and excluding certain sequences. `subset_records` allows us to provide a list of terms which we either want or don't want in the header description. We can also give a minimum length for sequences to meet for inclusion.\n",
    "\n",
    "We don't ever alter the original `full_record`, we just create new dictionary objects that are subsets.\n",
    "\n",
    "We can either provide arguments directly to the function or we can pass in a list variable, such as `header_terms`.\n",
    "\n",
    "In the example below `only_2U1_records` is set to only include sequences which have either '2U1' or '2U1-like' in the header. And `filtered_records` will contain the full set of sequences as we are not providing a length minimum (and the default is 0) and we are passing in the currently empty `header_terms`."
   ]
  },
  {
   "cell_type": "code",
   "execution_count": null,
   "metadata": {
    "collapsed": true
   },
   "outputs": [],
   "source": [
    "# A blank list to hold terms we want to exclude or include\n",
    "header_terms = []"
   ]
  },
  {
   "cell_type": "code",
   "execution_count": null,
   "metadata": {},
   "outputs": [],
   "source": [
    "records = subset_records(records=records, length=400, mode='exclude')\n",
    "records = exclude_character(records, \"X\")\n",
    "\n",
    "records_40 = subset_records(records=records_40, length=400, mode='exclude')\n",
    "records_40 = exclude_character(records_40, \"X\")\n",
    "\n",
    "records_50 = subset_records(records=records_50, length=400, mode='exclude')\n",
    "records_50 = exclude_character(records_50, \"X\")\n",
    "\n",
    "records_55 = subset_records(records=records_55, length=400, mode='exclude')\n",
    "records_55 = exclude_character(records_55, \"X\")\n",
    "\n",
    "print (\"The number of sequences without filtering for identity to the original candidates is %s\" % (len(records)))\n",
    "print (\"The number of sequences with 40%% identity to the original candidates is %s\" % (len(records_40)))\n",
    "print (\"The number of sequences with 50%% identity to the original candidates is %s\" % (len(records_50)))\n",
    "print (\"The number of sequences with 55%% identity to the original candidates is %s\" % (len(records_55)))\n",
    "\n"
   ]
  },
  {
   "cell_type": "markdown",
   "metadata": {
    "collapsed": true
   },
   "source": [
    "Below is the code to get the IDs of records that appear in one set of records but not in another. Here we use it to work out which records are in our 50% identity set but not our 55% identity set"
   ]
  },
  {
   "cell_type": "code",
   "execution_count": null,
   "metadata": {},
   "outputs": [],
   "source": [
    "differentRecords = getDifferentRecords(records_50, records_55)\n",
    "\n",
    "print (len(differentRecords))\n",
    "    \n",
    "for record_id, record in differentRecords.items():\n",
    "    print (record.description)\n",
    "#     annotations.getCommonNameFromID(record_id)\n",
    "\n",
    "    "
   ]
  },
  {
   "cell_type": "code",
   "execution_count": null,
   "metadata": {},
   "outputs": [],
   "source": [
    "def annotateHeader(full_records, annotate_records, headerText):\n",
    "    for record in full_records:\n",
    "        if record in annotate_records:\n",
    "            full_records[record].description += headerText\n",
    "    return full_records\n",
    "\n",
    "records_50 = annotateHeader(records_50, differentRecords, \"***Added_at_50***\")\n",
    "\n",
    "for record in records_50.values():\n",
    "    print (record.description)\n",
    "    "
   ]
  },
  {
   "cell_type": "markdown",
   "metadata": {},
   "source": [
    "# Saving the records to FASTA files\n",
    "Now lets save the annotated records to a FASTA file"
   ]
  },
  {
   "cell_type": "code",
   "execution_count": null,
   "metadata": {
    "scrolled": true
   },
   "outputs": [],
   "source": [
    "annotated_records = map_dict_to_records(records_50)\n",
    "print(len(annotated_records))"
   ]
  },
  {
   "cell_type": "markdown",
   "metadata": {},
   "source": [
    "And now we can save these records to a new FASTA file using `write_fasta`"
   ]
  },
  {
   "cell_type": "code",
   "execution_count": null,
   "metadata": {
    "collapsed": true
   },
   "outputs": [],
   "source": [
    "write_fasta(annotated_records, \"/Users/gabefoley/Dropbox/PhD/Projects/2U1/2U1_2018/Excluding plants fungi nematodes insects and bacteria/180312_fifty_percent_identity/2U1_50_percent.fasta\")"
   ]
  },
  {
   "cell_type": "markdown",
   "metadata": {},
   "source": [
    "We can also use the function `map_species_to_records` to just map a particular species to a FASTA file."
   ]
  }
 ],
 "metadata": {
  "kernelspec": {
   "display_name": "Python 3",
   "language": "python",
   "name": "python3"
  },
  "language_info": {
   "codemirror_mode": {
    "name": "ipython",
    "version": 3
   },
   "file_extension": ".py",
   "mimetype": "text/x-python",
   "name": "python",
   "nbconvert_exporter": "python",
   "pygments_lexer": "ipython3",
   "version": "3.6.3"
  }
 },
 "nbformat": 4,
 "nbformat_minor": 2
}
