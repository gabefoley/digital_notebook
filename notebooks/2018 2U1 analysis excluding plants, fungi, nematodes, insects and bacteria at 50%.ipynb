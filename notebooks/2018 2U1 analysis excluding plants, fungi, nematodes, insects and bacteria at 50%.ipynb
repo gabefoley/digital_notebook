{
 "cells": [
  {
   "cell_type": "code",
   "execution_count": 1,
   "metadata": {
    "collapsed": true
   },
   "outputs": [],
   "source": [
    "from fasta import *\n",
    "import alignment\n",
    "import utilities\n",
    "import annotations\n",
    "from checkGenome import *\n",
    "from ipywidgets import widgets\n",
    "from ipywidgets import *\n",
    "from traitlets import *\n",
    "from IPython.display import display"
   ]
  },
  {
   "cell_type": "markdown",
   "metadata": {},
   "source": [
    "# Loading the files\n",
    "\n",
    "The first thing we want to do is load in our files. Loading them in this way actually loads them into a dictionary where the keys are the record IDs and the values are the full records."
   ]
  },
  {
   "cell_type": "code",
   "execution_count": 2,
   "metadata": {
    "collapsed": true
   },
   "outputs": [],
   "source": [
    "# Load the 2U1 files\n",
    "records = SeqIO.to_dict(SeqIO.parse(\"/Users/gabefoley/Dropbox/PhD/Projects/2U1/2U1_2018/Excluding plants fungi nematodes insects and bacteria/concatenated_output.fasta\", \"fasta\"))\n",
    "records_40 = SeqIO.to_dict(SeqIO.parse(\"/Users/gabefoley/Dropbox/PhD/Projects/2U1/2U1_2018/Excluding plants fungi nematodes insects and bacteria/40_percent_concatenated_output.fasta\", \"fasta\"))\n",
    "records_50 = SeqIO.to_dict(SeqIO.parse(\"/Users/gabefoley/Dropbox/PhD/Projects/2U1/2U1_2018/Excluding plants fungi nematodes insects and bacteria/50_percent_concatenated_output.fasta\", \"fasta\"))\n",
    "records_55 = SeqIO.to_dict(SeqIO.parse(\"/Users/gabefoley/Dropbox/PhD/Projects/2U1/2U1_2018/Excluding plants fungi nematodes insects and bacteria/55_percent_concatenated_output.fasta\", \"fasta\"))\n"
   ]
  },
  {
   "cell_type": "markdown",
   "metadata": {},
   "source": [
    "#### How many sequences do we have in the full records?"
   ]
  },
  {
   "cell_type": "code",
   "execution_count": 3,
   "metadata": {},
   "outputs": [
    {
     "name": "stdout",
     "output_type": "stream",
     "text": [
      "19998\n",
      "4686\n",
      "622\n",
      "421\n"
     ]
    }
   ],
   "source": [
    "print (len(records))\n",
    "print (len(records_40))\n",
    "print (len(records_50))\n",
    "print (len(records_55))\n"
   ]
  },
  {
   "cell_type": "markdown",
   "metadata": {},
   "source": [
    "# Creating subsets of the records\n",
    "### Including / excluding based on header annotations\n",
    "\n",
    "Now the workflow moves to including and excluding certain sequences. `subset_records` allows us to provide a list of terms which we either want or don't want in the header description. We can also give a minimum length for sequences to meet for inclusion.\n",
    "\n",
    "We don't ever alter the original `full_record`, we just create new dictionary objects that are subsets.\n",
    "\n",
    "We can either provide arguments directly to the function or we can pass in a list variable, such as `header_terms`.\n",
    "\n",
    "In the example below `only_2U1_records` is set to only include sequences which have either '2U1' or '2U1-like' in the header. And `filtered_records` will contain the full set of sequences as we are not providing a length minimum (and the default is 0) and we are passing in the currently empty `header_terms`."
   ]
  },
  {
   "cell_type": "code",
   "execution_count": 4,
   "metadata": {
    "collapsed": true
   },
   "outputs": [],
   "source": [
    "# A blank list to hold terms we want to exclude or include\n",
    "header_terms = []"
   ]
  },
  {
   "cell_type": "code",
   "execution_count": 5,
   "metadata": {},
   "outputs": [
    {
     "name": "stdout",
     "output_type": "stream",
     "text": [
      "The number of sequences without filtering for identity to the original candidates is 15739\n",
      "The number of sequences with 40% identity to the original candidates is 3047\n",
      "The number of sequences with 50% identity to the original candidates is 299\n",
      "The number of sequences with 55% identity to the original candidates is 275\n"
     ]
    }
   ],
   "source": [
    "records = subset_records(records=records, length=400, mode='exclude')\n",
    "records = exclude_character(records, \"X\")\n",
    "\n",
    "records_40 = subset_records(records=records_40, length=400, mode='exclude')\n",
    "records_40 = exclude_character(records_40, \"X\")\n",
    "\n",
    "records_50 = subset_records(records=records_50, length=400, mode='exclude')\n",
    "records_50 = exclude_character(records_50, \"X\")\n",
    "\n",
    "records_55 = subset_records(records=records_55, length=400, mode='exclude')\n",
    "records_55 = exclude_character(records_55, \"X\")\n",
    "\n",
    "print (\"The number of sequences without filtering for identity to the original candidates is %s\" % (len(records)))\n",
    "print (\"The number of sequences with 40%% identity to the original candidates is %s\" % (len(records_40)))\n",
    "print (\"The number of sequences with 50%% identity to the original candidates is %s\" % (len(records_50)))\n",
    "print (\"The number of sequences with 55%% identity to the original candidates is %s\" % (len(records_55)))\n",
    "\n"
   ]
  },
  {
   "cell_type": "markdown",
   "metadata": {
    "collapsed": true
   },
   "source": [
    "Below is the code to get the IDs of records that appear in one set of records but not in another. Here we use it to work out which records are in our 50% identity set but not our 55% identity set"
   ]
  },
  {
   "cell_type": "code",
   "execution_count": 6,
   "metadata": {},
   "outputs": [
    {
     "name": "stdout",
     "output_type": "stream",
     "text": [
      "24\n",
      "EDL30916.1 mCG15468 [Mus musculus]\n",
      "KTF79201.1 hypothetical protein cypCar_00047955 [Cyprinus carpio]\n",
      "EPY88763.1 cytochrome P450 2C26-like isoform 2 [Camelus ferus]\n",
      "XP_006123186.1 PREDICTED: cytochrome P450 2J2-like, partial [Pelodiscus sinensis]\n",
      "KYO44822.1 hypothetical protein Y1Q_0006987 [Alligator mississippiensis]\n",
      "ELW64418.1 Cytochrome P450 2D17 [Tupaia chinensis]\n",
      "XP_016404253.1 PREDICTED: cytochrome P450 2J3-like isoform X2 [Sinocyclocheilus rhinocerous]\n",
      "XP_014379039.1 PREDICTED: cytochrome P450 2A13-like isoform X1 [Alligator sinensis]\n",
      "XP_023361104.1 uncharacterized protein LOC100926939 [Sarcophilus harrisii]\n",
      "PIK38219.1 putative steroid 17-alpha-hydroxylase/17,20 lyase [Apostichopus japonicus]\n",
      "XP_006768464.1 PREDICTED: cytochrome P450 2J2 [Myotis davidii]\n",
      "XP_021107396.1 cytochrome P450 2B4 isoform X1 [Heterocephalus glaber]\n",
      "XP_014801266.1 PREDICTED: cytochrome P450 2D1-like [Calidris pugnax]\n",
      "XP_021107397.1 cytochrome P450 2B4 isoform X2 [Heterocephalus glaber]\n",
      "XP_006825012.1 PREDICTED: cytochrome P450 2D6-like [Saccoglossus kowalevskii]\n",
      "XP_016094679.1 PREDICTED: cytochrome P450 2J3-like isoform X2 [Sinocyclocheilus grahami]\n",
      "XP_002605102.1 hypothetical protein BRAFLDRAFT_123772 [Branchiostoma floridae]\n",
      "PIK57532.1 putative steroid 17-alpha-hydroxylase/17,20 lyase [Apostichopus japonicus]\n",
      "XP_004941452.1 PREDICTED: vitamin D 25-hydroxylase isoform X2 [Gallus gallus]\n",
      "XP_013865517.1 PREDICTED: cytochrome P450 2K4-like isoform X2 [Austrofundulus limnaeus]\n",
      "XP_013766542.1 PREDICTED: cytochrome P450 2J6-like [Pundamilia nyererei]\n",
      "PIO41157.1 hypothetical protein AB205_0089410 [Rana catesbeiana]\n",
      "OCA35976.1 hypothetical protein XENTR_v90015294mg [Xenopus tropicalis]\n",
      "XP_006520454.1 PREDICTED: cytochrome P450 2D10 isoform X1 [Mus musculus]\n"
     ]
    }
   ],
   "source": [
    "differentRecords = getDifferentRecords(records_50, records_55)\n",
    "\n",
    "print (len(differentRecords))\n",
    "    \n",
    "for record_id, record in differentRecords.items():\n",
    "    print (record.description)\n",
    "#     annotations.getCommonNameFromID(record_id)\n",
    "\n",
    "    "
   ]
  },
  {
   "cell_type": "code",
   "execution_count": 7,
   "metadata": {},
   "outputs": [
    {
     "name": "stdout",
     "output_type": "stream",
     "text": [
      "XP_005940065.1 PREDICTED: cytochrome P450 2U1 isoform X1 [Haplochromis burtoni]\n",
      "XP_017318806.1 PREDICTED: cytochrome P450 2U1 [Ictalurus punctatus]\n",
      "XP_005872504.1 PREDICTED: cytochrome P450 2U1 [Myotis brandtii]\n",
      "ERE89448.1 cytochrome P450 2U1-like protein [Cricetulus griseus]\n",
      "XP_005978933.1 PREDICTED: cytochrome P450 2U1-like [Pantholops hodgsonii]\n",
      "XP_021330598.1 cytochrome P450 2U1 isoform X1 [Danio rerio]\n",
      "ETE67196.1 Cytochrome protein, partial [Ophiophagus hannah]\n",
      "XP_021014502.1 cytochrome P450 2U1 isoform X1 [Mus caroli]\n",
      "XP_004380279.1 cytochrome P450 2U1 [Trichechus manatus latirostris]\n",
      "XP_006825012.1 PREDICTED: cytochrome P450 2D6-like [Saccoglossus kowalevskii]***Added_at_50***\n",
      "XP_003929520.1 PREDICTED: cytochrome P450 2U1 [Saimiri boliviensis boliviensis]\n",
      "XP_019272361.1 PREDICTED: cytochrome P450 2U1 isoform X3 [Panthera pardus]\n",
      "XP_003410436.1 cytochrome P450 2U1 isoform X1 [Loxodonta africana]\n",
      "XP_021251581.1 cytochrome P450 2U1 [Numida meleagris]\n",
      "XP_006061937.1 PREDICTED: cytochrome P450 2U1-like [Bubalus bubalis]\n",
      "XP_005148751.1 PREDICTED: cytochrome P450 2U1, partial [Melopsittacus undulatus]\n",
      "OBS74422.1 hypothetical protein A6R68_15042, partial [Neotoma lepida]\n",
      "XP_004671492.1 PREDICTED: cytochrome P450 2U1 [Jaculus jaculus]\n",
      "XP_008420764.1 PREDICTED: cytochrome P450 2U1 [Poecilia reticulata]\n",
      "XP_008633832.2 PREDICTED: cytochrome P450 2U1 [Corvus brachyrhynchos]\n",
      "XP_006768464.1 PREDICTED: cytochrome P450 2J2 [Myotis davidii]***Added_at_50***\n",
      "XP_015450322.1 PREDICTED: cytochrome P450 2U1 [Pteropus alecto]\n",
      "XP_021429049.1 cytochrome P450 2U1-like isoform X1 [Oncorhynchus mykiss]\n",
      "XP_020559182.1 cytochrome P450 2U1 [Oryzias latipes]\n",
      "XP_007663325.1 PREDICTED: cytochrome P450 2U1 [Ornithorhynchus anatinus]\n",
      "XP_006272957.2 PREDICTED: cytochrome P450 2U1 isoform X1 [Alligator mississippiensis]\n",
      "XP_008687731.1 PREDICTED: cytochrome P450 2U1 [Ursus maritimus]\n",
      "XP_004594327.1 PREDICTED: cytochrome P450 2U1 [Ochotona princeps]\n",
      "XP_016016320.1 PREDICTED: cytochrome P450 2U1 [Rousettus aegyptiacus]\n",
      "XP_014733783.1 PREDICTED: cytochrome P450 2U1 [Sturnus vulgaris]\n",
      "XP_004703511.1 PREDICTED: cytochrome P450 2U1, partial [Echinops telfairi]\n",
      "XP_006212134.1 PREDICTED: cytochrome P450 2U1, partial [Vicugna pacos]\n",
      "XP_014065112.1 PREDICTED: cytochrome P450 2U1 isoform X2 [Salmo salar]\n",
      "XP_019684690.2 cytochrome P450 2U1 isoform X1 [Felis catus]\n",
      "XP_005896309.1 PREDICTED: cytochrome P450 2U1 [Bos mutus]\n",
      "XP_018880964.1 PREDICTED: cytochrome P450 2U1 isoform X2 [Gorilla gorilla gorilla]\n",
      "XP_006096650.1 cytochrome P450 2U1 [Myotis lucifugus]\n",
      "XP_008265731.1 PREDICTED: cytochrome P450 2U1 isoform X2 [Oryctolagus cuniculus]\n",
      "XP_003468093.1 cytochrome P450 2U1 [Cavia porcellus]\n",
      "XP_022621190.1 cytochrome P450 2U1 [Seriola dumerili]\n",
      "XP_005457043.1 PREDICTED: cytochrome P450 2U1 isoform X2 [Oreochromis niloticus]\n",
      "XP_014796211.1 PREDICTED: cytochrome P450 2U1 [Calidris pugnax]\n",
      "XP_010739611.2 PREDICTED: cytochrome P450 2U1 [Larimichthys crocea]\n",
      "XP_007421379.1 PREDICTED: cytochrome P450 2U1 isoform X2 [Python bivittatus]\n",
      "XP_002815089.2 PREDICTED: cytochrome P450 2U1 isoform X1 [Pongo abelii]\n",
      "XP_007100655.1 cytochrome P450 2U1 [Physeter catodon]\n",
      "XP_016807465.1 PREDICTED: cytochrome P450 2U1 isoform X3 [Pan troglodytes]\n",
      "XP_017708554.1 PREDICTED: cytochrome P450 2U1 isoform X1 [Rhinopithecus bieti]\n",
      "XP_011884347.1 PREDICTED: cytochrome P450 2U1 isoform X2 [Cercocebus atys]\n",
      "XP_005484794.1 PREDICTED: cytochrome P450 2U1 [Zonotrichia albicollis]\n",
      "XP_018611667.1 PREDICTED: cytochrome P450 2U1 [Scleropages formosus]\n",
      "XP_015281737.1 PREDICTED: cytochrome P450 2U1 [Gekko japonicus]\n",
      "XP_009919298.1 PREDICTED: cytochrome P450 2U1, partial [Haliaeetus albicilla]\n",
      "XP_002717221.1 PREDICTED: cytochrome P450 2U1 isoform X1 [Oryctolagus cuniculus]\n",
      "XP_010371511.1 PREDICTED: cytochrome P450 2U1 isoform X1 [Rhinopithecus roxellana]\n",
      "KFW75712.1 Cytochrome P450 2U1, partial [Manacus vitellinus]\n",
      "XP_019783337.1 PREDICTED: cytochrome P450 2U1 isoform X1 [Tursiops truncatus]\n",
      "XP_021794846.1 cytochrome P450 2U1 isoform X4 [Papio anubis]\n",
      "XP_020447514.1 cytochrome P450 2U1 isoform X2 [Monopterus albus]\n",
      "XP_015666064.1 PREDICTED: cytochrome P450 2U1 isoform X2 [Protobothrops mucrosquamatus]\n",
      "BAB31223.1 unnamed protein product [Mus musculus]\n",
      "XP_007080878.1 PREDICTED: cytochrome P450 2U1 [Panthera tigris altaica]\n",
      "XP_012879182.1 PREDICTED: cytochrome P450 2U1 [Dipodomys ordii]\n",
      "XP_011611202.1 PREDICTED: cytochrome P450 2U1 isoform X2 [Takifugu rubripes]\n",
      "XP_006869388.1 PREDICTED: cytochrome P450 2U1-like [Chrysochloris asiatica]\n",
      "XP_420491.3 PREDICTED: cytochrome P450 2U1 [Gallus gallus]\n",
      "XP_005940067.1 PREDICTED: cytochrome P450 2U1 isoform X3 [Haplochromis burtoni]\n",
      "EHA99322.1 Cytochrome P450 2U1 [Heterocephalus glaber]\n",
      "XP_008503282.1 PREDICTED: cytochrome P450 2U1 [Calypte anna]\n",
      "KYO24444.1 cytochrome P450 2U1 isoform B [Alligator mississippiensis]\n",
      "PNI53737.1 CYP2U1 isoform 1 [Pan troglodytes]\n",
      "NP_001069518.1 cytochrome P450 2U1 [Bos taurus]\n",
      "NP_001019950.1 cytochrome P450 2U1 [Rattus norvegicus]\n",
      "XP_021052700.1 cytochrome P450 2U1 isoform X1 [Mus pahari]\n",
      "XP_014801266.1 PREDICTED: cytochrome P450 2D1-like [Calidris pugnax]***Added_at_50***\n",
      "XP_014050304.1 PREDICTED: cytochrome P450 2U1-like [Salmo salar]\n",
      "XP_018919739.1 PREDICTED: cytochrome P450 2U1-like [Cyprinus carpio]\n",
      "XP_006031203.1 PREDICTED: cytochrome P450 2U1 [Alligator sinensis]\n",
      "KFV68671.1 Cytochrome P450 2U1, partial [Picoides pubescens]\n",
      "XP_006123186.1 PREDICTED: cytochrome P450 2J2-like, partial [Pelodiscus sinensis]***Added_at_50***\n",
      "KYO24445.1 cytochrome P450 2U1 isoform C [Alligator mississippiensis]\n",
      "XP_004941452.1 PREDICTED: vitamin D 25-hydroxylase isoform X2 [Gallus gallus]***Added_at_50***\n",
      "XP_012583185.1 PREDICTED: cytochrome P450 2U1 [Condylura cristata]\n",
      "XP_015480586.1 PREDICTED: cytochrome P450 2U1 [Parus major]\n",
      "OXB68583.1 hypothetical protein ASZ78_014362 [Callipepla squamata]\n",
      "EPY81189.1 hypothetical protein CB1_000750017 [Camelus ferus]\n",
      "XP_011801112.1 PREDICTED: cytochrome P450 2U1 [Colobus angolensis palliatus]\n",
      "XP_021429054.1 cytochrome P450 2U1-like [Oncorhynchus mykiss]\n",
      "XP_007452210.1 PREDICTED: cytochrome P450 2U1-like [Lipotes vexillifer]\n",
      "XP_018919738.1 PREDICTED: cytochrome P450 2U1-like [Cyprinus carpio]\n",
      "XP_010371512.1 PREDICTED: cytochrome P450 2U1 isoform X2 [Rhinopithecus roxellana]\n",
      "XP_021429052.1 cytochrome P450 2U1-like isoform X3 [Oncorhynchus mykiss]\n",
      "XP_016069983.1 PREDICTED: cytochrome P450 2U1, partial [Miniopterus natalensis]\n",
      "XP_006727242.1 PREDICTED: cytochrome P450 2U1-like [Leptonychotes weddellii]\n",
      "PIK38219.1 putative steroid 17-alpha-hydroxylase/17,20 lyase [Apostichopus japonicus]***Added_at_50***\n",
      "KGL85110.1 Cytochrome P450 2U1, partial [Tinamus guttatus]\n",
      "XP_008285532.1 PREDICTED: cytochrome P450 2U1 [Stegastes partitus]\n",
      "XP_005515313.3 cytochrome P450 2U1 [Columba livia]\n",
      "XP_002605102.1 hypothetical protein BRAFLDRAFT_123772 [Branchiostoma floridae]***Added_at_50***\n",
      "XP_016404253.1 PREDICTED: cytochrome P450 2J3-like isoform X2 [Sinocyclocheilus rhinocerous]***Added_at_50***\n",
      "ARO89866.1 cytochrome P450 Cyp2u1 [Andrias davidianus]\n",
      "XP_014937325.1 PREDICTED: cytochrome P450 2U1, partial [Acinonyx jubatus]\n",
      "XP_013834424.1 cytochrome P450 2U1 isoform X3 [Sus scrofa]\n",
      "XP_008759722.1 PREDICTED: cytochrome P450 2U1 isoform X3 [Rattus norvegicus]\n",
      "EDL82214.1 cytochrome P450, family 2, subfamily u, polypeptide 1 [Rattus norvegicus]\n",
      "EDL12202.1 mCG10210, isoform CRA_b, partial [Mus musculus]\n",
      "XP_007229530.1 cytochrome P450 2U1 [Astyanax mexicanus]\n",
      "XP_007624001.1 PREDICTED: cytochrome P450 2U1 isoform X2 [Cricetulus griseus]\n",
      "XP_008054185.1 cytochrome P450 2U1 [Carlito syrichta]\n",
      "XP_023283957.1 cytochrome P450 2U1 [Seriola lalandi dorsalis]\n",
      "XP_018409984.1 PREDICTED: cytochrome P450 2U1 [Nanorana parkeri]\n",
      "XP_014905426.1 PREDICTED: cytochrome P450 2U1 [Poecilia latipinna]\n",
      "XP_005262774.1 PREDICTED: cytochrome P450 2U1 isoform X1 [Homo sapiens]\n",
      "XP_010856888.1 PREDICTED: cytochrome P450 2U1 [Bison bison bison]\n",
      "ELK06398.1 Cytochrome P450 2U1 [Pteropus alecto]\n",
      "XP_016395320.1 PREDICTED: cytochrome P450 2U1-like [Sinocyclocheilus rhinocerous]\n",
      "XP_020857009.1 cytochrome P450 2U1 isoform X1 [Phascolarctos cinereus]\n",
      "XP_017556900.1 PREDICTED: cytochrome P450 2U1 [Pygocentrus nattereri]\n",
      "XP_018106696.1 PREDICTED: cytochrome P450 2U1-like [Xenopus laevis]\n",
      "PIO41157.1 hypothetical protein AB205_0089410 [Rana catesbeiana]***Added_at_50***\n",
      "CAG11477.1 unnamed protein product, partial [Tetraodon nigroviridis]\n",
      "XP_013863208.1 PREDICTED: cytochrome P450 2U1 [Austrofundulus limnaeus]\n",
      "XP_010639843.1 PREDICTED: cytochrome P450 2U1 isoform X2 [Fukomys damarensis]\n",
      "XP_006778968.2 PREDICTED: cytochrome P450 2U1 [Myotis davidii]\n",
      "OWK57154.1 Cytochrome P450 2U1 [Lonchura striata domestica]\n",
      "PIK57532.1 putative steroid 17-alpha-hydroxylase/17,20 lyase [Apostichopus japonicus]***Added_at_50***\n",
      "XP_005357351.1 PREDICTED: cytochrome P450 2U1 [Microtus ochrogaster]\n",
      "XP_019717376.1 PREDICTED: cytochrome P450 2U1 isoform X1 [Hippocampus comes]\n",
      "XP_019355655.1 PREDICTED: cytochrome P450 2U1 isoform X2 [Alligator mississippiensis]\n",
      "XP_018539665.1 PREDICTED: LOW QUALITY PROTEIN: cytochrome P450 2U1 [Lates calcarifer]\n",
      "XP_022269155.1 cytochrome P450 2U1, partial [Canis lupus familiaris]\n",
      "XP_010639842.1 PREDICTED: cytochrome P450 2U1 isoform X1 [Fukomys damarensis]\n",
      "XP_002607780.1 hypothetical protein BRAFLDRAFT_117317 [Branchiostoma floridae]\n",
      "XP_021488968.1 cytochrome P450 2U1 isoform X1 [Meriones unguiculatus]\n",
      "XP_015245839.1 PREDICTED: cytochrome P450 2U1 [Cyprinodon variegatus]\n",
      "XP_020786184.1 cytochrome P450 2U1 [Boleophthalmus pectinirostris]\n",
      "XP_023372804.1 cytochrome P450 2U1 isoform X2 [Otolemur garnettii]\n",
      "XP_020383892.1 cytochrome P450 2U1-like [Rhincodon typus]\n",
      "XP_019377492.1 PREDICTED: cytochrome P450 2U1 isoform X1 [Gavialis gangeticus]\n",
      "XP_023051618.1 cytochrome P450 2U1 isoform X3 [Piliocolobus tephrosceles]\n",
      "XP_019272345.1 PREDICTED: cytochrome P450 2U1 isoform X1 [Panthera pardus]\n",
      "XP_004040295.1 PREDICTED: cytochrome P450 2U1 isoform X1 [Gorilla gorilla gorilla]\n",
      "XP_005457042.1 PREDICTED: cytochrome P450 2U1 isoform X1 [Oreochromis niloticus]\n",
      "XP_019956775.1 PREDICTED: cytochrome P450 2U1 [Paralichthys olivaceus]\n",
      "XP_019491595.1 PREDICTED: cytochrome P450 2U1 [Hipposideros armiger]\n",
      "XP_014379039.1 PREDICTED: cytochrome P450 2A13-like isoform X1 [Alligator sinensis]***Added_at_50***\n",
      "AGN04284.1 cytochrome P450 [Oryzias melastigma]\n",
      "XP_009563306.1 PREDICTED: cytochrome P450 2U1 [Cuculus canorus]\n",
      "ELW64418.1 Cytochrome P450 2D17 [Tupaia chinensis]***Added_at_50***\n",
      "XP_010008547.1 PREDICTED: cytochrome P450 2U1-like [Nestor notabilis]\n",
      "XP_008315701.1 PREDICTED: cytochrome P450 2U1 isoform X2 [Cynoglossus semilaevis]\n",
      "KTF79201.1 hypothetical protein cypCar_00047955 [Cyprinus carpio]***Added_at_50***\n",
      "XP_021429050.1 cytochrome P450 2U1-like isoform X2 [Oncorhynchus mykiss]\n",
      "XP_007421378.1 PREDICTED: cytochrome P450 2U1 isoform X1 [Python bivittatus]\n",
      "XP_012291909.1 cytochrome P450 2U1 [Aotus nancymaae]\n",
      "XP_009238519.1 PREDICTED: cytochrome P450 2U1 isoform X2 [Pongo abelii]\n",
      "BAG65487.1 unnamed protein product [Homo sapiens]\n",
      "ERE89449.1 cytochrome P450 2U1-like protein [Cricetulus griseus]\n",
      "NP_082092.2 cytochrome P450 2U1 [Mus musculus]\n",
      "XP_010410415.1 cytochrome P450 2U1, partial [Corvus cornix cornix]\n",
      "XP_008953609.1 PREDICTED: cytochrome P450 2U1 isoform X2 [Pan paniscus]\n",
      "XP_014694538.1 PREDICTED: cytochrome P450 2U1, partial [Equus asinus]\n",
      "EDL30916.1 mCG15468 [Mus musculus]***Added_at_50***\n",
      "XP_021107396.1 cytochrome P450 2B4 isoform X1 [Heterocephalus glaber]***Added_at_50***\n",
      "XP_021794843.1 cytochrome P450 2U1 isoform X2 [Papio anubis]\n",
      "XP_003129312.1 cytochrome P450 2U1 isoform X1 [Sus scrofa]\n",
      "XP_016124791.1 PREDICTED: cytochrome P450 2U1 [Sinocyclocheilus grahami]\n",
      "XP_004411289.1 PREDICTED: cytochrome P450 2U1 [Odobenus rosmarus divergens]\n",
      "XP_012354749.1 PREDICTED: cytochrome P450 2U1 [Nomascus leucogenys]\n",
      "XP_022422796.1 cytochrome P450 2U1 isoform X1 [Delphinapterus leucas]\n",
      "XP_005518034.1 PREDICTED: cytochrome P450 2U1 [Pseudopodoces humilis]\n",
      "XP_013220884.1 cytochrome P450 2U1 [Ictidomys tridecemlineatus]\n",
      "XP_002194737.2 PREDICTED: cytochrome P450 2U1 [Taeniopygia guttata]\n",
      "XP_018782337.1 PREDICTED: cytochrome P450 2U1 isoform X2 [Serinus canaria]\n",
      "XP_009900551.1 PREDICTED: cytochrome P450 2U1, partial [Picoides pubescens]\n",
      "XP_010077161.1 PREDICTED: LOW QUALITY PROTEIN: cytochrome P450 2U1, partial [Pterocles gutturalis]\n",
      "XP_017688993.1 PREDICTED: cytochrome P450 2U1 [Lepidothrix coronata]\n",
      "XP_003899118.1 cytochrome P450 2U1 isoform X1 [Papio anubis]\n",
      "XP_005287999.1 cytochrome P450 2U1 isoform X2 [Chrysemys picta bellii]\n",
      "DAA28880.1 TPA: cytochrome P450 2U1 [Bos taurus]\n",
      "XP_021107397.1 cytochrome P450 2B4 isoform X2 [Heterocephalus glaber]***Added_at_50***\n",
      "XP_005044990.1 PREDICTED: cytochrome P450 2U1, partial [Ficedula albicollis]\n",
      "XP_012621711.1 cytochrome P450 2U1 [Microcebus murinus]\n",
      "XP_019377493.1 PREDICTED: cytochrome P450 2U1 isoform X2 [Gavialis gangeticus]\n",
      "EFB16740.1 hypothetical protein PANDA_005136, partial [Ailuropoda melanoleuca]\n",
      "XP_005082857.1 cytochrome P450 2U1 [Mesocricetus auratus]\n",
      "XP_004549474.1 cytochrome P450 2U1 [Maylandia zebra]\n",
      "XP_011747414.1 PREDICTED: cytochrome P450 2U1 [Macaca nemestrina]\n",
      "XP_017268014.1 PREDICTED: cytochrome P450 2U1 [Kryptolebias marmoratus]\n",
      "XP_003796393.1 cytochrome P450 2U1 isoform X1 [Otolemur garnettii]\n",
      "XP_011572877.1 PREDICTED: cytochrome P450 2U1 [Aquila chrysaetos canadensis]\n",
      "ELV13699.1 Cytochrome P450 2U1, partial [Tupaia chinensis]\n",
      "XP_023361104.1 uncharacterized protein LOC100926939 [Sarcophilus harrisii]***Added_at_50***\n",
      "XP_007997668.1 PREDICTED: cytochrome P450 2U1 isoform X2 [Chlorocebus sabaeus]\n",
      "XP_020447513.1 cytochrome P450 2U1 isoform X1 [Monopterus albus]\n",
      "XP_009099794.1 PREDICTED: cytochrome P450 2U1 isoform X1 [Serinus canaria]\n",
      "XP_023051615.1 cytochrome P450 2U1 isoform X1 [Piliocolobus tephrosceles]\n",
      "XP_016429803.1 PREDICTED: cytochrome P450 2U1-like [Sinocyclocheilus rhinocerous]\n",
      "XP_015716841.1 PREDICTED: cytochrome P450 2U1 [Coturnix japonica]\n",
      "XP_013865517.1 PREDICTED: cytochrome P450 2K4-like isoform X2 [Austrofundulus limnaeus]***Added_at_50***\n",
      "XP_006162319.2 PREDICTED: cytochrome P450 2U1 [Tupaia chinensis]\n",
      "XP_005797710.1 cytochrome P450 2U1 [Xiphophorus maculatus]\n",
      "XP_023404331.1 cytochrome P450 2U1 isoform X2 [Loxodonta africana]\n",
      "XP_009883824.1 PREDICTED: cytochrome P450 2U1 [Charadrius vociferus]\n",
      "NP_001139036.1 cytochrome P450 2U1 [Danio rerio]\n",
      "XP_004866353.1 cytochrome P450 2U1 [Heterocephalus glaber]\n",
      "XP_007054542.1 PREDICTED: cytochrome P450 2U1-like [Chelonia mydas]\n",
      "XP_017364494.1 PREDICTED: cytochrome P450 2U1 [Cebus capucinus imitator]\n",
      "EHH53889.1 hypothetical protein EGM_14598, partial [Macaca fascicularis]\n",
      "XP_016094679.1 PREDICTED: cytochrome P450 2J3-like isoform X2 [Sinocyclocheilus grahami]***Added_at_50***\n",
      "XP_011994146.1 PREDICTED: cytochrome P450 2U1 isoform X2 [Ovis aries musimon]\n",
      "KTF87224.1 hypothetical protein cypCar_00019558 [Cyprinus carpio]\n",
      "KFO25848.1 Cytochrome P450 2U1 [Fukomys damarensis]\n",
      "XP_526649.2 PREDICTED: cytochrome P450 2U1 isoform X2 [Pan troglodytes]\n",
      "NP_001106471.1 cytochrome P450 family 2 subfamily U member 1 [Xenopus tropicalis]\n",
      "XP_017708555.1 PREDICTED: cytochrome P450 2U1 isoform X2 [Rhinopithecus bieti]\n",
      "KFO79198.1 Cytochrome P450 2U1, partial [Cuculus canorus]\n",
      "XP_020857012.1 cytochrome P450 2U1 isoform X2 [Phascolarctos cinereus]\n",
      "XP_005555686.1 PREDICTED: cytochrome P450 2U1 [Macaca fascicularis]\n",
      "EHH26107.1 hypothetical protein EGK_15996, partial [Macaca mulatta]\n",
      "XP_023108643.1 cytochrome P450 2U1 isoform X2 [Felis catus]\n",
      "XP_019717377.1 PREDICTED: cytochrome P450 2U1 isoform X2 [Hippocampus comes]\n",
      "XP_023051617.1 cytochrome P450 2U1 isoform X2 [Piliocolobus tephrosceles]\n",
      "XP_007938960.1 PREDICTED: cytochrome P450 2U1 [Orycteropus afer afer]\n",
      "XP_003226556.2 PREDICTED: cytochrome P450 2U1 [Anolis carolinensis]\n",
      "XP_007560680.1 PREDICTED: cytochrome P450 2U1 [Poecilia formosa]\n",
      "XP_013766542.1 PREDICTED: cytochrome P450 2J6-like [Pundamilia nyererei]***Added_at_50***\n",
      "XP_004748170.1 PREDICTED: cytochrome P450 2U1 [Mustela putorius furo]\n",
      "XP_007997667.1 PREDICTED: cytochrome P450 2U1 isoform X1 [Chlorocebus sabaeus]\n",
      "XP_017824361.1 PREDICTED: cytochrome P450 2U1 [Callithrix jacchus]\n",
      "XP_006970432.1 PREDICTED: cytochrome P450 2U1 [Peromyscus maniculatus bairdii]\n",
      "OXB76790.1 hypothetical protein H355_016271 [Colinus virginianus]\n",
      "XP_010886716.1 PREDICTED: cytochrome P450 2U1 [Esox lucius]\n",
      "XP_019597472.1 PREDICTED: cytochrome P450 2U1 [Rhinolophus sinicus]\n",
      "XP_010708185.2 PREDICTED: cytochrome P450 2U1 [Meleagris gallopavo]\n",
      "XP_017904722.1 PREDICTED: cytochrome P450 2U1 [Capra hircus]\n",
      "KKF09825.1 Cytochrome P450 2U1 [Larimichthys crocea]\n",
      "XP_020016209.1 cytochrome P450 2U1 [Castor canadensis]\n",
      "XP_008148480.1 PREDICTED: cytochrome P450 2U1 [Eptesicus fuscus]\n",
      "XP_022077378.1 cytochrome P450 2U1-like [Acanthochromis polyacanthus]\n",
      "XP_014427106.1 PREDICTED: cytochrome P450 2U1 [Pelodiscus sinensis]\n",
      "XP_013834422.1 cytochrome P450 2U1 isoform X2 [Sus scrofa]\n",
      "XP_023361506.1 cytochrome P450 2U1 [Sarcophilus harrisii]\n",
      "XP_017202860.1 PREDICTED: cytochrome P450 2U1 isoform X3 [Oryctolagus cuniculus]\n",
      "XP_010224405.1 PREDICTED: cytochrome P450 2U1 [Tinamus guttatus]\n",
      "XP_009205588.1 cytochrome P450 2U1 isoform X3 [Papio anubis]\n",
      "XP_004269644.1 PREDICTED: cytochrome P450 2U1 [Orcinus orca]\n",
      "XP_009446381.2 PREDICTED: cytochrome P450 2U1 isoform X1 [Pan troglodytes]\n",
      "OPJ75701.1 cytochrome P450 2U1 [Patagioenas fasciata monilis]\n",
      "KYO24443.1 cytochrome P450 2U1 isoform A [Alligator mississippiensis]\n",
      "XP_019615834.1 PREDICTED: cytochrome P450 2U1-like [Branchiostoma belcheri]\n",
      "XP_010997363.1 PREDICTED: cytochrome P450 2U1 [Camelus dromedarius]\n",
      "XP_010804215.1 PREDICTED: cytochrome P450 2U1 isoform X1 [Bos taurus]\n",
      "XP_004626825.1 PREDICTED: cytochrome P450 2U1 [Octodon degus]\n",
      "XP_015665994.1 PREDICTED: cytochrome P450 2U1 isoform X1 [Protobothrops mucrosquamatus]\n",
      "XP_022370877.1 cytochrome P450 2U1 [Enhydra lutris kenyoni]\n",
      "XP_010778816.1 PREDICTED: cytochrome P450 2U1 [Notothenia coriiceps]\n",
      "XP_011884345.1 PREDICTED: cytochrome P450 2U1 isoform X1 [Cercocebus atys]\n",
      "XP_008842003.1 PREDICTED: cytochrome P450 2U1 [Nannospalax galili]\n",
      "XP_019272353.1 PREDICTED: cytochrome P450 2U1 isoform X2 [Panthera pardus]\n",
      "XP_008759721.1 PREDICTED: cytochrome P450 2U1 isoform X1 [Rattus norvegicus]\n"
     ]
    },
    {
     "name": "stdout",
     "output_type": "stream",
     "text": [
      "BAF82691.1 unnamed protein product [Homo sapiens]\n",
      "KYO44822.1 hypothetical protein Y1Q_0006987 [Alligator mississippiensis]***Added_at_50***\n",
      "XP_007899581.1 PREDICTED: cytochrome P450 2U1 [Callorhinchus milii]\n",
      "XP_001366063.1 PREDICTED: cytochrome P450 2U1 [Monodelphis domestica]\n",
      "XP_006629927.2 PREDICTED: cytochrome P450 2U1 [Lepisosteus oculatus]\n",
      "NP_898898.1 cytochrome P450 2U1 [Homo sapiens]\n",
      "XP_021540185.1 cytochrome P450 2U1 [Neomonachus schauinslandi]\n",
      "EPY88763.1 cytochrome P450 2C26-like isoform 2 [Camelus ferus]***Added_at_50***\n",
      "XP_014414682.1 PREDICTED: cytochrome P450 2U1 [Camelus ferus]\n",
      "OCA35976.1 hypothetical protein XENTR_v90015294mg [Xenopus tropicalis]***Added_at_50***\n",
      "XP_006787161.1 PREDICTED: cytochrome P450 2U1-like [Neolamprologus brichardi]\n",
      "XP_019110856.1 PREDICTED: cytochrome P450 2U1-like [Larimichthys crocea]\n",
      "KTF79021.1 hypothetical protein cypCar_00041961 [Cyprinus carpio]\n",
      "XP_020757615.1 cytochrome P450 2U1 [Odocoileus virginianus texanus]\n",
      "XP_023129780.1 cytochrome P450 2U1 [Amphiprion ocellaris]\n",
      "XP_005207709.1 PREDICTED: cytochrome P450 2U1 isoform X2 [Bos taurus]\n",
      "XP_006881166.1 PREDICTED: cytochrome P450 2U1-like [Elephantulus edwardii]\n",
      "XP_015799181.1 PREDICTED: cytochrome P450 2U1 [Nothobranchius furzeri]\n",
      "XP_014065111.1 PREDICTED: cytochrome P450 2U1 isoform X1 [Salmo salar]\n",
      "XP_009647457.1 PREDICTED: cytochrome P450 2U1 [Egretta garzetta]\n",
      "XP_012374116.2 cytochrome P450 2U1, partial [Dasypus novemcinctus]\n",
      "XP_010951941.1 PREDICTED: LOW QUALITY PROTEIN: cytochrome P450 2U1 [Camelus bactrianus]\n",
      "BAG64362.1 unnamed protein product [Homo sapiens]\n",
      "XP_020652021.1 cytochrome P450 2U1, partial [Pogona vitticeps]\n",
      "XP_011611201.1 PREDICTED: cytochrome P450 2U1 isoform X1 [Takifugu rubripes]\n",
      "EMP40787.1 Cytochrome P450 2U1 [Chelonia mydas]\n",
      "XP_007191063.1 PREDICTED: cytochrome P450 2U1-like isoform X1 [Balaenoptera acutorostrata scammoni]\n",
      "XP_005406339.2 PREDICTED: cytochrome P450 2U1, partial [Chinchilla lanigera]\n",
      "XP_012687241.1 PREDICTED: cytochrome P450 2U1 [Clupea harengus]\n",
      "XP_009930453.1 PREDICTED: cytochrome P450 2U1 [Opisthocomus hoazin]\n",
      "XP_017928159.1 PREDICTED: cytochrome P450 2U1 [Manacus vitellinus]\n",
      "XP_021381195.1 cytochrome P450 2U1 [Lonchura striata domestica]\n",
      "XP_004612799.1 PREDICTED: cytochrome P450 2U1, partial [Sorex araneus]\n",
      "XP_021488969.1 cytochrome P450 2U1 isoform X2 [Meriones unguiculatus]\n",
      "XP_006520454.1 PREDICTED: cytochrome P450 2D10 isoform X1 [Mus musculus]***Added_at_50***\n",
      "XP_008315700.1 PREDICTED: cytochrome P450 2U1 isoform X1 [Cynoglossus semilaevis]\n",
      "XP_010584537.1 PREDICTED: cytochrome P450 2U1, partial [Haliaeetus leucocephalus]\n",
      "PNJ84248.1 CYP2U1 isoform 1 [Pongo abelii]\n"
     ]
    }
   ],
   "source": [
    "def annotateHeader(full_records, annotate_records, headerText):\n",
    "    for record in full_records:\n",
    "        if record in annotate_records:\n",
    "            full_records[record].description += headerText\n",
    "    return full_records\n",
    "\n",
    "records_50 = annotateHeader(records_50, differentRecords, \"***Added_at_50***\")\n",
    "\n",
    "for record in records_50.values():\n",
    "    print (record.description)\n",
    "    "
   ]
  },
  {
   "cell_type": "markdown",
   "metadata": {},
   "source": [
    "# Saving the records to FASTA files\n",
    "Now lets save the annotated records to a FASTA file"
   ]
  },
  {
   "cell_type": "code",
   "execution_count": 8,
   "metadata": {
    "scrolled": true
   },
   "outputs": [
    {
     "name": "stdout",
     "output_type": "stream",
     "text": [
      "empty dict\n",
      "299\n"
     ]
    }
   ],
   "source": [
    "annotated_records = map_dict_to_records(records_50)\n",
    "print(len(annotated_records))"
   ]
  },
  {
   "cell_type": "markdown",
   "metadata": {},
   "source": [
    "And now we can save these records to a new FASTA file using `write_fasta`"
   ]
  },
  {
   "cell_type": "code",
   "execution_count": 10,
   "metadata": {},
   "outputs": [],
   "source": [
    "write_fasta(annotated_records, \"/Users/gabefoley/Dropbox/PhD/Projects/2U1/2U1_2018/Excluding plants fungi nematodes insects and bacteria/180312_fifty_percent_identity/2U1_50_percent.fasta\")"
   ]
  },
  {
   "cell_type": "markdown",
   "metadata": {},
   "source": [
    "We can also use the function `map_species_to_records` to just map a particular species to a FASTA file."
   ]
  }
 ],
 "metadata": {
  "kernelspec": {
   "display_name": "Python 3",
   "language": "python",
   "name": "python3"
  },
  "language_info": {
   "codemirror_mode": {
    "name": "ipython",
    "version": 3
   },
   "file_extension": ".py",
   "mimetype": "text/x-python",
   "name": "python",
   "nbconvert_exporter": "python",
   "pygments_lexer": "ipython3",
   "version": "3.6.3"
  }
 },
 "nbformat": 4,
 "nbformat_minor": 2
}
