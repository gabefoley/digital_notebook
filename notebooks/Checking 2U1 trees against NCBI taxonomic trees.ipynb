{
 "cells": [
  {
   "cell_type": "code",
   "execution_count": 1,
   "metadata": {},
   "outputs": [],
   "source": [
    "import utilities\n",
    "import phylogenetics\n",
    "import ete3"
   ]
  },
  {
   "cell_type": "code",
   "execution_count": 3,
   "metadata": {},
   "outputs": [
    {
     "name": "stdout",
     "output_type": "stream",
     "text": [
      "\n",
      "These leaves were duplicated in the collapsed Original tree\n",
      "['7962', '8030', '328815', '8022', '10029', '215358', '9606', '9598']\n",
      "\n",
      "RF distance between Original and NCBI is 100 over a total of 276\n",
      "\n",
      "These leaves were duplicated in the collapsed class tree\n",
      "['XXXX']\n",
      "\n",
      "These leaves were duplicated in the collapsed class tree\n",
      "['XXXX']\n",
      "\n",
      "RF distance between Supplied tree on basis of class and NCBI tree on basis of class is 0 over a total of 6\n",
      "\n",
      "These leaves were duplicated in the collapsed species tree\n",
      "['7962', '9606', '328815']\n",
      "\n",
      "RF distance between Supplied tree on basis of species and NCBI tree on basis of species is 100 over a total of 276\n",
      "\n",
      "These leaves were duplicated in the collapsed family tree\n",
      "['56259', '10066', '9604', '9726', '9498']\n",
      "\n",
      "RF distance between Supplied tree on basis of family and NCBI tree on basis of family is 63 over a total of 167\n",
      "\n",
      "These leaves were duplicated in the collapsed order tree\n",
      "['8948', 'XXXX', '9989', '8906']\n",
      "\n",
      "These leaves were duplicated in the collapsed order tree\n",
      "['XXXX']\n",
      "\n",
      "RF distance between Supplied tree on basis of order and NCBI tree on basis of order is 33 over a total of 79\n"
     ]
    }
   ],
   "source": [
    "# phylogenetics.compare_tree_with_taxon_tree(\"family\", filepath=\"/Users/gabefoley/Dropbox/PhD/Smaller Projects/GRASP tree/24.nwk\", filepath_to_load_dict=\"files/24.obj\")\n",
    "\n",
    "phylogenetics.compare_tree_with_taxon_tree(\"class\", \"species\", \"family\", \"order\", filepath=\"/Users/gabefoley/Dropbox/PhD/Projects/2U1/2U1_2018/Excluding plants fungi nematodes insects and bacteria/180312_fifty_percent_identity/Complete_sequences/2U1_complete_MAFFT_annotated_rerooted.nwk\", filepath_to_load_dict=\"files/2U1_MAFFT.obj\", outpath=\"files/2U1_MAFFT\")"
   ]
  },
  {
   "cell_type": "code",
   "execution_count": null,
   "metadata": {
    "collapsed": true
   },
   "outputs": [],
   "source": [
    "taxonomy_dict = utilities.open_python_object(\"files/2U1_MAFFT.obj\")\n",
    "print (taxonomy_dict)"
   ]
  },
  {
   "cell_type": "markdown",
   "metadata": {},
   "source": []
  }
 ],
 "metadata": {
  "kernelspec": {
   "display_name": "Python 3",
   "language": "python",
   "name": "python3"
  },
  "language_info": {
   "codemirror_mode": {
    "name": "ipython",
    "version": 3
   },
   "file_extension": ".py",
   "mimetype": "text/x-python",
   "name": "python",
   "nbconvert_exporter": "python",
   "pygments_lexer": "ipython3",
   "version": "3.6.3"
  }
 },
 "nbformat": 4,
 "nbformat_minor": 2
}
