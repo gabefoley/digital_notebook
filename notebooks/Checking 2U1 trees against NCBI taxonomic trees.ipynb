{
 "cells": [
  {
   "cell_type": "code",
   "execution_count": 1,
   "metadata": {},
   "outputs": [],
   "source": [
    "import utilities\n",
    "import phylogenetics\n",
    "import ete3\n",
    "import fasta"
   ]
  },
  {
   "cell_type": "markdown",
   "metadata": {},
   "source": [
    "Commands to correct PHYLIP tree"
   ]
  },
  {
   "cell_type": "code",
   "execution_count": null,
   "metadata": {},
   "outputs": [],
   "source": [
    "import glob\n",
    "\n",
    "filepaths = glob.glob(\"/Users/gabefoley/Dropbox/PhD/Projects/2U1/2U1_2018/Excluding plants fungi nematodes insects and bacteria/180312_fifty_percent_identity/Further_exclusions/April_2018/Alignments_and_trees/*.nwk\")\n",
    "\n",
    "for path in filepaths:\n",
    "    print (path)\n",
    "    fasta.correct_phylip_tree(\"/Users/gabefoley/Dropbox/PhD/Projects/2U1/2U1_2018/Excluding plants fungi nematodes insects and bacteria/180312_fifty_percent_identity/Further_exclusions/April_2018/Alignments_and_trees/2U1_EGcurated_MAFFT.aln\", path, \"/Users/gabefoley/Dropbox/PhD/Projects/2U1/2U1_2018/Excluding plants fungi nematodes insects and bacteria/180312_fifty_percent_identity/Further_exclusions/April_2018/Alignments_and_trees/\" + path.split(\"/\")[-1].split(\".nwk\")[0] + \"_corrected.nwk\")\n",
    "    print (path.split(\"/\")[-1].split(\".nwk\")[0])\n",
    "\n"
   ]
  },
  {
   "cell_type": "code",
   "execution_count": 2,
   "metadata": {},
   "outputs": [
    {
     "name": "stdout",
     "output_type": "stream",
     "text": [
      "PhyML_MAFFT_curated_truncated_corrected.nwk [56, 66, 94]\n",
      "PhyML_MAFFT_curated_rerooted_corrected.nwk [30, 58, 88]\n",
      "PhyML_ProbCons_curated_truncated_corrected.nwk [54, 62, 90]\n",
      "PhyML_MUSCLE_curated_corrected.nwk [56, 62, 92]\n",
      "PhyML_MSAProbs_curated_corrected.nwk [52, 60, 90]\n",
      "PhyML_MUSCLE_curated_truncated_rerooted_corrected.nwk [34, 68, 100]\n",
      "PhyML_MSAProbs_curated_truncated_rerooted_corrected.nwk [34, 64, 92]\n",
      "PhyML_ClustalOmega_curated_rerooted_corrected.nwk [32, 56, 86]\n",
      "PhyML_ClustalOmega_curated_truncated_corrected.nwk [56, 64, 94]\n",
      "PhyML_ClustalOmega_curated_truncated_rerooted_corrected.nwk [36, 64, 94]\n",
      "PhyML_MUSCLE_curated_truncated_corrected.nwk [56, 68, 100]\n",
      "PhyML_ProbCons_curated_truncated_rerooted_corrected.nwk [34, 62, 90]\n",
      "PhyML_ProbCons_curated_rerooted_corrected.nwk [32, 56, 86]\n",
      "PhyML_MSAProbs_curated_truncated_corrected.nwk [52, 64, 92]\n",
      "PhyML_ProbCons_curated_corrected.nwk [52, 56, 86]\n",
      "PhyML_MAFFT_curated_truncated_rerooted_corrected.nwk [36, 66, 94]\n",
      "PhyML_ClustalOmega_curated_corrected.nwk [50, 56, 86]\n",
      "PhyML_MAFFT_curated_corrected.nwk [50, 58, 88]\n",
      "PhyML_MUSCLE_curated_rerooted_corrected.nwk [38, 62, 92]\n",
      "PhyML_MSAProbs_curated_rerooted_corrected.nwk [36, 60, 90]\n"
     ]
    }
   ],
   "source": [
    "import glob\n",
    "# 2U1\n",
    "# filepaths = glob.glob(\"/Users/gabefoley/Dropbox/PhD/Projects/2U1/2U1_2018/Excluding plants fungi nematodes insects and bacteria/180312_fifty_percent_identity/Complete_sequences/Annotated_Files/*.nwk\")\n",
    "\n",
    "filepaths = glob.glob(\"/Users/gabefoley/Dropbox/PhD/Projects/2U1/2U1_2018/Excluding plants fungi nematodes insects and bacteria/180312_fifty_percent_identity/Further_exclusions/April_2018/Alignments_and_trees/PhyML corrected/*.nwk\")\n",
    "\n",
    "# 2U1_EGcurated\n",
    "# filepaths = glob.glob(\"/Users/gabefoley/Dropbox/PhD/Projects/2U1/2U1_2018/Excluding plants fungi nematodes insects and bacteria/180312_fifty_percent_identity/Further_exclusions/Final alignments and trees/Curated/*.nwk\")\n",
    "\n",
    "for path in filepaths:\n",
    "#     print (\"\\n\" +path.split(\"/\")[-1])\n",
    "    phylogenetics.compare_tree_with_taxon_tree(\"order\", \"family\", \"species\", split_char=\"|\", filepath=path, filepath_to_load_dict=\"files/2U1_MAFFT.obj\", resultspath=path)\n"
   ]
  },
  {
   "cell_type": "code",
   "execution_count": null,
   "metadata": {
    "collapsed": true
   },
   "outputs": [],
   "source": [
    "# phylogenetics.compare_tree_with_taxon_tree(\"family\", filepath=\"/Users/gabefoley/Dropbox/PhD/Smaller Projects/GRASP tree/24.nwk\", filepath_to_load_dict=\"files/24.obj\")\n",
    "\n",
    "phylogenetics.compare_tree_with_taxon_tree(\"class\", \"species\", \"family\", \"order\", split_char=\"|\", filepath=\"/Users/gabefoley/Dropbox/PhD/Projects/2U1/2U1_2018/Excluding plants fungi nematodes insects and bacteria/180312_fifty_percent_identity/Complete_sequences/2U1_complete_MAFFT_annotated_bootstrap_rerooted2.nwk\", filepath_to_load_dict=\"files/2U1_MAFFT.obj\", outpath=\"files/2U1_MAFFT\")"
   ]
  },
  {
   "cell_type": "code",
   "execution_count": null,
   "metadata": {
    "collapsed": true
   },
   "outputs": [],
   "source": [
    "## taxonomy_dict = utilities.open_python_object(\"files/2U1_MAFFT.obj\")\n",
    "print (taxonomy_dict)"
   ]
  }
 ],
 "metadata": {
  "kernelspec": {
   "display_name": "Python 3",
   "language": "python",
   "name": "python3"
  },
  "language_info": {
   "codemirror_mode": {
    "name": "ipython",
    "version": 3
   },
   "file_extension": ".py",
   "mimetype": "text/x-python",
   "name": "python",
   "nbconvert_exporter": "python",
   "pygments_lexer": "ipython3",
   "version": "3.6.3"
  }
 },
 "nbformat": 4,
 "nbformat_minor": 2
}
