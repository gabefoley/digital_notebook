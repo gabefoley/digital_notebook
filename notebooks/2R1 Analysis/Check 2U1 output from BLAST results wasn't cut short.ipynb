{
 "cells": [
  {
   "cell_type": "code",
   "execution_count": 2,
   "metadata": {},
   "outputs": [
    {
     "name": "stdout",
     "output_type": "stream",
     "text": [
      "622\n"
     ]
    }
   ],
   "source": [
    "import utilities\n",
    "import fasta\n",
    "import glob\n",
    "\n",
    "# Get the output from the BLAST search into the full FASTA files\n",
    "filepaths = glob.glob(\"/Users/gabefoley/Dropbox/PhD/Projects/2U1/2U1_2018/Excluding plants fungi nematodes insects and bacteria/180312_fifty_percent_identity/Further_exclusions/April_2018/CYP2R1/Candidates/Check_BLAST2U1/Results/*.fasta\")\n",
    "\n",
    "utilities.save_ids(*filepaths, percent_identity=50, output_dir=\"/Users/gabefoley/Dropbox/PhD/Projects/2U1/2U1_2018/Excluding plants fungi nematodes insects and bacteria/180312_fifty_percent_identity/Further_exclusions/April_2018/CYP2R1/Candidates/Check_BLAST2U1/Full_FASTA/\")\n",
    "\n",
    "# Read in and collate the FASTA files\n",
    "fasta_files = glob.glob(\"/Users/gabefoley/Dropbox/PhD/Projects/2U1/2U1_2018/Excluding plants fungi nematodes insects and bacteria/180312_fifty_percent_identity/Further_exclusions/April_2018/CYP2R1/Candidates/Check_BLAST2U1/Full_FASTA/*.fasta\")\n",
    "\n",
    "records = utilities.load_sequences(*fasta_files)\n",
    "\n",
    "print (len(records))"
   ]
  },
  {
   "cell_type": "code",
   "execution_count": 3,
   "metadata": {},
   "outputs": [
    {
     "name": "stdout",
     "output_type": "stream",
     "text": [
      "299\n"
     ]
    }
   ],
   "source": [
    "records = fasta.subset_records(records=records, length=400, mode='exclude')\n",
    "records = fasta.exclude_character(records, \"X\")\n",
    "\n",
    "print (len(records))"
   ]
  },
  {
   "cell_type": "code",
   "execution_count": null,
   "metadata": {
    "collapsed": true
   },
   "outputs": [],
   "source": []
  }
 ],
 "metadata": {
  "kernelspec": {
   "display_name": "Python 3",
   "language": "python",
   "name": "python3"
  },
  "language_info": {
   "codemirror_mode": {
    "name": "ipython",
    "version": 3
   },
   "file_extension": ".py",
   "mimetype": "text/x-python",
   "name": "python",
   "nbconvert_exporter": "python",
   "pygments_lexer": "ipython3",
   "version": "3.6.3"
  }
 },
 "nbformat": 4,
 "nbformat_minor": 2
}
