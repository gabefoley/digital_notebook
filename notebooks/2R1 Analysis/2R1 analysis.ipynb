{
 "cells": [
  {
   "cell_type": "code",
   "execution_count": 2,
   "metadata": {
    "collapsed": true
   },
   "outputs": [],
   "source": [
    "import utilities\n",
    "import fasta\n",
    "import alignment_curation\n",
    "import glob"
   ]
  },
  {
   "cell_type": "markdown",
   "metadata": {},
   "source": [
    "## First pull and collate the hits from the BLAST results"
   ]
  },
  {
   "cell_type": "code",
   "execution_count": 2,
   "metadata": {
    "collapsed": true,
    "scrolled": true
   },
   "outputs": [],
   "source": [
    "# # Get the output from the BLAST search into the full FASTA files\n",
    "# filepaths = glob.glob(\"/Users/gabefoley/Dropbox/PhD/Projects/2U1/2U1_2018/Excluding plants fungi nematodes insects and bacteria/180312_fifty_percent_identity/Further_exclusions/April_2018/CYP2R1/Candidates/Results/*.fasta\")\n",
    "\n",
    "# utilities.save_ids(*filepaths, percent_identity=50, output_dir=\"/Users/gabefoley/Dropbox/PhD/Projects/2U1/2U1_2018/Excluding plants fungi nematodes insects and bacteria/180312_fifty_percent_identity/Further_exclusions/April_2018/CYP2R1/Candidates/Full_FASTA/\")"
   ]
  },
  {
   "cell_type": "code",
   "execution_count": 3,
   "metadata": {
    "collapsed": true
   },
   "outputs": [],
   "source": [
    "# Read in and collate the FASTA files\n",
    "fasta_files = glob.glob(\"/Users/gabefoley/Dropbox/PhD/Projects/2U1/2U1_2018/Excluding plants fungi nematodes insects and bacteria/180312_fifty_percent_identity/Further_exclusions/April_2018/CYP2R1/Candidates/Full_FASTA/*.fasta\")\n",
    "\n",
    "records = utilities.load_sequences(*fasta_files)"
   ]
  },
  {
   "cell_type": "code",
   "execution_count": 4,
   "metadata": {},
   "outputs": [
    {
     "name": "stdout",
     "output_type": "stream",
     "text": [
      "The total length of hits before cleaning them up is 690 \n"
     ]
    }
   ],
   "source": [
    "print (\"The total length of hits before cleaning them up is %d \" % len(records))"
   ]
  },
  {
   "cell_type": "code",
   "execution_count": 5,
   "metadata": {
    "collapsed": true
   },
   "outputs": [],
   "source": [
    "# Only include records > 400 amino acids, with no X characters, and with the Cytochrome P450 motif\n",
    "\n",
    "# Cytochrome P450 motif from Guengerich, Waterman & Egli 2016 (doi: 10.1016/j.tips.2016.05.006) FXXGXbXXCXG\n",
    "cytochrome_p450_motif = \"F..G[HRK]..C.G\"\n",
    "\n",
    "reduced_records = fasta.subset_records(records=records, length=400, mode='exclude')\n",
    "reduced_records = fasta.exclude_character(reduced_records, \"X\")\n",
    "reduced_records = fasta.subset_on_motif(reduced_records, cytochrome_p450_motif)"
   ]
  },
  {
   "cell_type": "code",
   "execution_count": 6,
   "metadata": {},
   "outputs": [
    {
     "name": "stdout",
     "output_type": "stream",
     "text": [
      "The total length of hits after cleaning them up is 370 \n"
     ]
    }
   ],
   "source": [
    "print (\"The total length of hits after cleaning them up is %d \" % len(reduced_records))"
   ]
  },
  {
   "cell_type": "markdown",
   "metadata": {},
   "source": [
    "## Subsetting on only 2R1 annotated sequences\n",
    "\n",
    "The easiest way to do this so that we aren't excluding 2R1 sequences is to create a negative set excluding all the vitamin D 25-hydroxylase sequences, and then just use those header terms as the terms we want to include"
   ]
  },
  {
   "cell_type": "code",
   "execution_count": 7,
   "metadata": {
    "collapsed": true
   },
   "outputs": [],
   "source": [
    "header_terms = \"vitamin D 25-hydroxylase\", \"CYP2R1\", \"2r1\", \"family 2 subfamily r\", \"family 2, subfamily r\"\n",
    "not_2R1_records = fasta.subset_records(*header_terms, records=reduced_records, mode=\"exclude\", ignore_case=True)"
   ]
  },
  {
   "cell_type": "code",
   "execution_count": 8,
   "metadata": {
    "collapsed": true
   },
   "outputs": [],
   "source": [
    "# for record in not_2R1_records.values():\n",
    "#     print (record.description)"
   ]
  },
  {
   "cell_type": "markdown",
   "metadata": {},
   "source": [
    "Then I went through these manually and added back in anything that either mapped to 2R1 or where the particular cytochrome P450 wasn't mentioned -\n",
    "* AAI68986.1\n",
    "* KTF79658.1\n",
    "* AAI55663.1\n",
    "* AGN04335.1\n",
    "* AAI54114.1"
   ]
  },
  {
   "cell_type": "code",
   "execution_count": 9,
   "metadata": {
    "collapsed": true
   },
   "outputs": [],
   "source": [
    "header_terms += (\"AAI68986.1\", \"KTF79658.1\", \"AAI55663.1\", \"AGN04335.1\", \"AAI54114.1\")\n",
    "not_2R1_records = fasta.subset_records(*header_terms, records=reduced_records, mode=\"exclude\", ignore_case=True)"
   ]
  },
  {
   "cell_type": "code",
   "execution_count": 10,
   "metadata": {
    "collapsed": true
   },
   "outputs": [],
   "source": [
    "# for record in not_2R1_records.values():\n",
    "#     print (record.description)"
   ]
  },
  {
   "cell_type": "markdown",
   "metadata": {},
   "source": [
    "Now we can include rather than exclude and get only the sequences that we believe to be cytochrome P450 2R1"
   ]
  },
  {
   "cell_type": "code",
   "execution_count": null,
   "metadata": {
    "collapsed": true
   },
   "outputs": [],
   "source": [
    "only_2R1_records = fasta.subset_records(*header_terms, records=reduced_records, mode=\"include\", ignore_case=False)\n",
    "print (\"The total length of hits after cleaning them up and only including cytochrome P450 2R1 is %d \" % len(only_2R1_records))\n",
    "cleaned_records = fasta.map_dict_to_records(only_2R1_records)"
   ]
  },
  {
   "cell_type": "code",
   "execution_count": null,
   "metadata": {
    "collapsed": true
   },
   "outputs": [],
   "source": [
    "# Write the cleaned sequence file to disk\n",
    "\n",
    "fasta.write_fasta(cleaned_records, \"/Users/gabefoley/Dropbox/PhD/Projects/2U1/2U1_2018/Excluding plants fungi nematodes insects and bacteria/180312_fifty_percent_identity/Further_exclusions/April_2018/CYP2R1/CYP2R1_50_percent_identity.fasta\")"
   ]
  },
  {
   "cell_type": "markdown",
   "metadata": {},
   "source": [
    "## Now we reduce the alignment down on the basis of internal deletions"
   ]
  },
  {
   "cell_type": "code",
   "execution_count": 11,
   "metadata": {},
   "outputs": [
    {
     "name": "stdout",
     "output_type": "stream",
     "text": [
      "defaultdict(<class 'list'>, {64: ['XP_015852823.1'], 399: ['XP_015852825.1']})\n",
      "The candidate sequence is\n",
      "['XP_015852825.1']\n",
      "Count is  1\n",
      "defaultdict(<class 'list'>, {149: ['XP_015852823.1', 'AAI68986.1', 'XP_006507901.1'], 160: ['XP_005216116.1']})\n",
      "The candidate sequence is\n",
      "['XP_005216116.1']\n",
      "Count is  2\n",
      "defaultdict(<class 'list'>, {149: ['XP_015852823.1', 'AAI68986.1', 'XP_006507901.1', 'XP_005216114.1', 'XP_010828870.1', 'XP_011951097.1']})\n",
      "checking for most deletions\n",
      "The candidate sequence is\n",
      "['XP_015852823.1', 'AAI68986.1', 'XP_006507901.1', 'XP_005216114.1', 'XP_010828870.1', 'XP_011951097.1']\n",
      "Count is  3\n",
      "defaultdict(<class 'list'>, {108: ['XP_015852826.1']})\n",
      "The candidate sequence is\n",
      "['XP_015852826.1']\n",
      "Count is  4\n",
      "defaultdict(<class 'list'>, {47: ['XP_008851744.1'], 63: ['XP_015852824.1'], 82: ['XP_017658800.1'], 94: ['KYO22076.1', 'KYO22077.1']})\n",
      "checking for most deletions\n",
      "The candidate sequence is\n",
      "['KYO22076.1', 'KYO22077.1']\n",
      "Count is  5\n",
      "defaultdict(<class 'list'>, {47: ['XP_008851744.1'], 63: ['XP_015852824.1'], 82: ['XP_017658800.1']})\n",
      "The candidate sequence is\n",
      "['XP_017658800.1']\n",
      "Count is  6\n",
      "defaultdict(<class 'list'>, {47: ['XP_008851744.1'], 63: ['XP_015852824.1'], 75: ['XP_019830708.1', 'XP_012889617.1']})\n",
      "checking for most deletions\n",
      "The candidate sequence is\n",
      "['XP_019830708.1', 'XP_012889617.1']\n",
      "Count is  7\n",
      "defaultdict(<class 'list'>, {47: ['XP_008851744.1'], 63: ['XP_015852824.1'], 70: ['XP_011748368.1']})\n",
      "The candidate sequence is\n",
      "['XP_011748368.1']\n",
      "Count is  8\n",
      "defaultdict(<class 'list'>, {47: ['XP_008851744.1'], 63: ['XP_015852824.1']})\n",
      "The candidate sequence is\n",
      "['XP_015852824.1']\n",
      "Count is  9\n",
      "defaultdict(<class 'list'>, {47: ['XP_008851744.1']})\n",
      "The candidate sequence is\n",
      "['XP_008851744.1']\n",
      "Count is  10\n",
      "defaultdict(<class 'list'>, {44: ['XP_019508372.1']})\n",
      "The candidate sequence is\n",
      "['XP_019508372.1']\n",
      "Count is  11\n",
      "The candidate sequence is\n",
      "None\n",
      "Count is  12\n",
      "We are finished\n"
     ]
    }
   ],
   "source": [
    "# alignment.align_with_mafft(\"/Users/gabefoley/Dropbox/PhD/Projects/2U1/2U1_2018/Excluding plants fungi nematodes insects and bacteria/180312_fifty_percent_identity/Further_exclusions/April_2018/CYP2R1/CYP2R1_50_percent_identity.fasta\")\n",
    "\n",
    "alignment_curation.automated_curation(\"/Users/gabefoley/Dropbox/PhD/Projects/2U1/2U1_2018/Excluding plants fungi nematodes insects and bacteria/180312_fifty_percent_identity/Further_exclusions/April_2018/CYP2R1/CYP2R1_50_percent_identity_insertions_removed.aln\", 0.1, 20, outpath=\"/Users/gabefoley/Dropbox/PhD/Projects/2U1/2U1_2018/Excluding plants fungi nematodes insects and bacteria/180312_fifty_percent_identity/Further_exclusions/April_2018/CYP2R1/Automated_alignment/CYP2R1_50_percent_identity_insertions_removed\")\n"
   ]
  },
  {
   "cell_type": "code",
   "execution_count": 5,
   "metadata": {},
   "outputs": [
    {
     "name": "stdout",
     "output_type": "stream",
     "text": [
      "The candidate sequence is\n",
      "None\n",
      "Count is  1\n",
      "We are finished\n"
     ]
    }
   ],
   "source": [
    "alignment_curation.automated_curation(\"/Users/gabefoley/Dropbox/PhD/Projects/2U1/2U1_2018/Excluding plants fungi nematodes insects and bacteria/180312_fifty_percent_identity/Further_exclusions/April_2018/CYP2R1/Automated_alignment/CYP2R1_50_percent_identity_I_D_I.aln\", 0.1, 20, outpath=\"/Users/gabefoley/Dropbox/PhD/Projects/2U1/2U1_2018/Excluding plants fungi nematodes insects and bacteria/180312_fifty_percent_identity/Further_exclusions/April_2018/CYP2R1/Automated_alignment/CYP2R1_50_percent_identity_I_D_I\")"
   ]
  },
  {
   "cell_type": "code",
   "execution_count": null,
   "metadata": {
    "collapsed": true
   },
   "outputs": [],
   "source": []
  }
 ],
 "metadata": {
  "kernelspec": {
   "display_name": "Python 3",
   "language": "python",
   "name": "python3"
  },
  "language_info": {
   "codemirror_mode": {
    "name": "ipython",
    "version": 3
   },
   "file_extension": ".py",
   "mimetype": "text/x-python",
   "name": "python",
   "nbconvert_exporter": "python",
   "pygments_lexer": "ipython3",
   "version": "3.6.3"
  }
 },
 "nbformat": 4,
 "nbformat_minor": 2
}
