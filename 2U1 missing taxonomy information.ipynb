{
 "cells": [
  {
   "cell_type": "code",
   "execution_count": 2,
   "metadata": {
    "collapsed": true
   },
   "outputs": [],
   "source": [
    "from fasta import *"
   ]
  },
  {
   "cell_type": "markdown",
   "metadata": {},
   "source": [
    "# 2U1 missing taxonomy information\n",
    "This notebook can be used to add in the taxonomy information that SeqScrub cannot automatically apply to 2U1 datasets.\n",
    "\n",
    "Below cell defines the taxonomy mappings (these were all checked manually)"
   ]
  },
  {
   "cell_type": "code",
   "execution_count": 3,
   "metadata": {
    "collapsed": true
   },
   "outputs": [],
   "source": [
    "taxonomyDict = {\"Chrysemys_picta_bellii\": \"Reptilia\", \"Alligator_mississippiensis\" : \"Reptilia\", \"Gavialis_gangeticus\" : \"Reptilia\", \"Pelodiscus_sinensis\" : \"Reptilia\", \"Pogona_vitticeps\" : \"Reptilia\", \"Gekko_japonicus\" : \"Reptilia\", \"Alligator_sinensis\" : \"Reptilia\", \"Chelonia_mydas\" : \"Reptilia\", \"Protobothrops_mucrosquamatus\" : \"Reptilia\", \"Anolis_carolinensis\" : \"Reptilia\", \"Crocodylus_porosus\" : \"Reptilia\", \"Python_bivittatus\" : \"Reptilia\", \"Branchiostoma_belcheri\" : \"Leptocardii\", \"Priapulus_caudatus\" : \"Priapulimorpha\"}"
   ]
  },
  {
   "cell_type": "markdown",
   "metadata": {},
   "source": [
    "Load in the files we want to update"
   ]
  },
  {
   "cell_type": "code",
   "execution_count": 4,
   "metadata": {
    "collapsed": true
   },
   "outputs": [],
   "source": [
    "filtered_records = SeqIO.parse(\"/Users/gabefoley/Dropbox/PhD/Projects/2U1/2U1_DECEMBER/2U1_BLAST_filtered_records_X_removed.fasta\", \"fasta\")\n",
    "\n",
    "filtered_records_unique = SeqIO.parse(\"/Users/gabefoley/Dropbox/PhD/Projects/2U1/2U1_DECEMBER/2U1_BLAST_filtered_records_unique_X_removed.fasta\", \"fasta\")\n",
    "\n",
    "filtered_records = list(filtered_records)\n",
    "filtered_records_unique = list(filtered_records_unique)"
   ]
  },
  {
   "cell_type": "markdown",
   "metadata": {},
   "source": [
    "Clean up the files (this could be moved to /src/ folder)"
   ]
  },
  {
   "cell_type": "code",
   "execution_count": 5,
   "metadata": {
    "collapsed": true
   },
   "outputs": [],
   "source": [
    "for record in filtered_records:\n",
    "    if any(n in record.description for n in taxonomyDict.keys()):\n",
    "        record.id += \"_\" + taxonomyDict[record.description.split(\"|\")[1]]\n",
    "        record.description = \"\"\n",
    "\n",
    "for record in filtered_records_unique:\n",
    "    if any(n in record.description for n in taxonomyDict.keys()):\n",
    "        record.id += \"_\" + taxonomyDict[record.description.split(\"|\")[1]]\n",
    "        record.description = \"\"\n"
   ]
  },
  {
   "cell_type": "markdown",
   "metadata": {},
   "source": [
    "Save the files with the newly added taxonomy information"
   ]
  },
  {
   "cell_type": "code",
   "execution_count": null,
   "metadata": {
    "collapsed": true
   },
   "outputs": [],
   "source": [
    "SeqIO.write(filtered_records, \"/Users/gabefoley/Dropbox/PhD/Projects/2U1/2U1_DECEMBER/2U1_BLAST_filtered_records_X_removed3.fasta\", \"fasta\")\n",
    "SeqIO.write(filtered_records_unique, \"/Users/gabefoley/Dropbox/PhD/Projects/2U1/2U1_DECEMBER/2U1_BLAST_filtered_records_unique_X_removed3.fasta\", \"fasta\")"
   ]
  }
 ],
 "metadata": {
  "kernelspec": {
   "display_name": "Python 3",
   "language": "python",
   "name": "python3"
  },
  "language_info": {
   "codemirror_mode": {
    "name": "ipython",
    "version": 3
   },
   "file_extension": ".py",
   "mimetype": "text/x-python",
   "name": "python",
   "nbconvert_exporter": "python",
   "pygments_lexer": "ipython3",
   "version": "3.6.3"
  }
 },
 "nbformat": 4,
 "nbformat_minor": 2
}
