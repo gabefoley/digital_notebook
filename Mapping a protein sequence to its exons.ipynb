{
 "cells": [
  {
   "cell_type": "code",
   "execution_count": 4,
   "metadata": {
    "collapsed": true
   },
   "outputs": [],
   "source": [
    "from fasta import *"
   ]
  },
  {
   "cell_type": "code",
   "execution_count": 5,
   "metadata": {},
   "outputs": [],
   "source": [
    "homo_sapiens = SeqIO.to_dict(SeqIO.parse(\"files/exons/homo_sapiens.fasta\", \"fasta\"))"
   ]
  },
  {
   "cell_type": "code",
   "execution_count": 6,
   "metadata": {},
   "outputs": [
    {
     "name": "stdout",
     "output_type": "stream",
     "text": [
      "{'NP_898898.1': SeqRecord(seq=Seq('MSSPGPSQPPAEDPPWPARLLRAPLGLLRLDPSGGALLLCGLVALLGWSWLRRR...SRR', SingleLetterAlphabet()), id='NP_898898.1', name='NP_898898.1', description='NP_898898.1 cytochrome P450 2U1 [Homo sapiens]', dbxrefs=[]), 'XP_005262774.1': SeqRecord(seq=Seq('MSSPGPSQPPAEDPPWPARLLRAPLGLLRLDPSGGALLLCGLVALLGWSWLRRR...SRR', SingleLetterAlphabet()), id='XP_005262774.1', name='XP_005262774.1', description='XP_005262774.1 PREDICTED: cytochrome P450 2U1 isoform X1 [Homo sapiens]', dbxrefs=[])}\n"
     ]
    }
   ],
   "source": [
    "print (homo_sapiens)"
   ]
  },
  {
   "cell_type": "code",
   "execution_count": null,
   "metadata": {
    "collapsed": true
   },
   "outputs": [],
   "source": []
  }
 ],
 "metadata": {
  "kernelspec": {
   "display_name": "Python 3",
   "language": "python",
   "name": "python3"
  },
  "language_info": {
   "codemirror_mode": {
    "name": "ipython",
    "version": 3
   },
   "file_extension": ".py",
   "mimetype": "text/x-python",
   "name": "python",
   "nbconvert_exporter": "python",
   "pygments_lexer": "ipython3",
   "version": "3.6.3"
  }
 },
 "nbformat": 4,
 "nbformat_minor": 2
}
