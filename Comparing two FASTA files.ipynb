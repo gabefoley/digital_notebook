{
 "cells": [
  {
   "cell_type": "code",
   "execution_count": 12,
   "metadata": {
    "collapsed": true
   },
   "outputs": [],
   "source": [
    "from fasta import *\n",
    "import utilities"
   ]
  },
  {
   "cell_type": "code",
   "execution_count": 13,
   "metadata": {
    "collapsed": true
   },
   "outputs": [],
   "source": [
    "latest2U1 = SeqIO.to_dict(SeqIO.parse(\"files/2U1_BLAST_filtered_records.fasta\", \"fasta\"))\n",
    "previous2U1 = SeqIO.to_dict(SeqIO.parse(\"files/filtered_records.fasta\", \"fasta\"))"
   ]
  },
  {
   "cell_type": "code",
   "execution_count": 14,
   "metadata": {},
   "outputs": [
    {
     "name": "stdout",
     "output_type": "stream",
     "text": [
      "XP_019652744.1\n",
      "XP_022370877.1\n",
      "XP_015340109.1\n",
      "AIC57535.1\n",
      "XP_022422796.1\n",
      "XP_019684690.1\n",
      "XP_017522418.1\n",
      "XP_019817893.1\n",
      "XP_008953609.1\n",
      "ELK06398.1\n",
      "OWK57154.1\n",
      "XP_003772968.2\n",
      "KQK74446.1\n",
      "XP_004010084.2\n",
      "XP_019389677.1\n",
      "KFV68671.1\n",
      "KGL85110.1\n",
      "KPP65943.1\n",
      "XP_022621190.1\n",
      "XP_005726920.1\n",
      "XP_012708187.2\n",
      "XP_020484540.1\n",
      "XP_019640071.1\n",
      "PIK62832.1\n",
      "PIK48289.1\n",
      "PIK49892.1\n",
      "PIK46998.1\n",
      "PIK51744.1\n",
      "PIK51743.1\n",
      "XP_013091316.1\n",
      "XP_022806511.1\n",
      "PIB02545.1\n"
     ]
    }
   ],
   "source": [
    "compare_fasta(latest2U1, previous2U1)"
   ]
  },
  {
   "cell_type": "code",
   "execution_count": 15,
   "metadata": {},
   "outputs": [
    {
     "name": "stdout",
     "output_type": "stream",
     "text": [
      "CUA78042.1\n",
      "KTF87224.1\n",
      "KTF79021.1\n",
      "KTF78368.1\n",
      "ETE67196.1\n",
      "OXB76790.1\n",
      "OXB68583.1\n",
      "XP_011662323.1\n",
      "OBS74422.1\n",
      "OKO94543.1\n",
      "OXA38861.1\n",
      "OXA45467.1\n",
      "OMJ18721.1\n",
      "XP_013922675.1\n",
      "OBZ66682.1\n"
     ]
    }
   ],
   "source": [
    "compare_fasta(previous2U1, latest2U1)"
   ]
  },
  {
   "cell_type": "code",
   "execution_count": null,
   "metadata": {
    "collapsed": true
   },
   "outputs": [],
   "source": []
  }
 ],
 "metadata": {
  "kernelspec": {
   "display_name": "Python 3",
   "language": "python",
   "name": "python3"
  },
  "language_info": {
   "codemirror_mode": {
    "name": "ipython",
    "version": 3
   },
   "file_extension": ".py",
   "mimetype": "text/x-python",
   "name": "python",
   "nbconvert_exporter": "python",
   "pygments_lexer": "ipython3",
   "version": "3.6.3"
  }
 },
 "nbformat": 4,
 "nbformat_minor": 2
}
