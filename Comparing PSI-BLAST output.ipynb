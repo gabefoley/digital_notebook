{
 "cells": [
  {
   "cell_type": "code",
   "execution_count": 1,
   "metadata": {
    "collapsed": true
   },
   "outputs": [],
   "source": [
    "from fasta import *"
   ]
  },
  {
   "cell_type": "code",
   "execution_count": 2,
   "metadata": {
    "collapsed": true
   },
   "outputs": [],
   "source": [
    "# Load the 2U1 files\n",
    "psi_blast_records = SeqIO.parse(\"files/candidates/2U1_BLAST.fasta\", \"fasta\")"
   ]
  },
  {
   "cell_type": "code",
   "execution_count": 3,
   "metadata": {},
   "outputs": [
    {
     "name": "stdout",
     "output_type": "stream",
     "text": [
      "Length of original 2U1 all candidates was 100000\n",
      "Length of unique records from 2U1 all candidates was 24665\n"
     ]
    }
   ],
   "source": [
    "# Getting unique records for the 2U1_all_candidates BLAST\n",
    "record_dict = {}\n",
    "count = 0\n",
    "for record in psi_blast_records:\n",
    "    record_dict[record.id] = record\n",
    "    count +=1\n",
    "print (\"Length of original 2U1 all candidates was\", count)\n",
    "record_list = record_dict.values()\n",
    "print (\"Length of unique records from 2U1 all candidates was\", len(record_list))"
   ]
  },
  {
   "cell_type": "code",
   "execution_count": 4,
   "metadata": {},
   "outputs": [
    {
     "data": {
      "text/plain": [
       "24665"
      ]
     },
     "execution_count": 4,
     "metadata": {},
     "output_type": "execute_result"
    }
   ],
   "source": [
    "SeqIO.write(record_list, \"files/candidates/2U1_BLAST_unique.fasta\", \"fasta\")"
   ]
  },
  {
   "cell_type": "code",
   "execution_count": 6,
   "metadata": {},
   "outputs": [
    {
     "ename": "ValueError",
     "evalue": "Duplicate key 'XP_009205588.1'",
     "output_type": "error",
     "traceback": [
      "\u001b[0;31m---------------------------------------------------------------------------\u001b[0m",
      "\u001b[0;31mValueError\u001b[0m                                Traceback (most recent call last)",
      "\u001b[0;32m<ipython-input-6-3a160cf06922>\u001b[0m in \u001b[0;36m<module>\u001b[0;34m()\u001b[0m\n\u001b[1;32m      1\u001b[0m \u001b[0;31m# Check to see if there are records we find in some of the PSI-BLAST results that we don't find in others\u001b[0m\u001b[0;34m\u001b[0m\u001b[0;34m\u001b[0m\u001b[0m\n\u001b[1;32m      2\u001b[0m \u001b[0;34m\u001b[0m\u001b[0m\n\u001b[0;32m----> 3\u001b[0;31m \u001b[0mmarmota_marmota\u001b[0m \u001b[0;34m=\u001b[0m \u001b[0mSeqIO\u001b[0m\u001b[0;34m.\u001b[0m\u001b[0mto_dict\u001b[0m\u001b[0;34m(\u001b[0m\u001b[0mSeqIO\u001b[0m\u001b[0;34m.\u001b[0m\u001b[0mparse\u001b[0m\u001b[0;34m(\u001b[0m\u001b[0;34m\"files/candidates/Marmota_marmota.fasta\"\u001b[0m\u001b[0;34m,\u001b[0m \u001b[0;34m\"fasta\"\u001b[0m\u001b[0;34m)\u001b[0m\u001b[0;34m)\u001b[0m\u001b[0;34m\u001b[0m\u001b[0m\n\u001b[0m\u001b[1;32m      4\u001b[0m \u001b[0mpoecillia_reticula\u001b[0m \u001b[0;34m=\u001b[0m \u001b[0mSeqIO\u001b[0m\u001b[0;34m.\u001b[0m\u001b[0mto_dict\u001b[0m\u001b[0;34m(\u001b[0m\u001b[0mSeqIO\u001b[0m\u001b[0;34m.\u001b[0m\u001b[0mparse\u001b[0m\u001b[0;34m(\u001b[0m\u001b[0;34m\"files/candidates/Poecilia_reticulata.fasta\"\u001b[0m\u001b[0;34m,\u001b[0m \u001b[0;34m\"fasta\"\u001b[0m\u001b[0;34m)\u001b[0m\u001b[0;34m)\u001b[0m\u001b[0;34m\u001b[0m\u001b[0m\n\u001b[1;32m      5\u001b[0m \u001b[0mpython_bivittatus\u001b[0m \u001b[0;34m=\u001b[0m \u001b[0mSeqIO\u001b[0m\u001b[0;34m.\u001b[0m\u001b[0mto_dict\u001b[0m\u001b[0;34m(\u001b[0m\u001b[0mSeqIO\u001b[0m\u001b[0;34m.\u001b[0m\u001b[0mparse\u001b[0m\u001b[0;34m(\u001b[0m\u001b[0;34m\"files/candidates/Python_bivittatus.fasta\"\u001b[0m\u001b[0;34m,\u001b[0m \u001b[0;34m\"fasta\"\u001b[0m\u001b[0;34m)\u001b[0m\u001b[0;34m)\u001b[0m\u001b[0;34m\u001b[0m\u001b[0m\n",
      "\u001b[0;32m/usr/local/lib/python3.6/site-packages/Bio/SeqIO/__init__.py\u001b[0m in \u001b[0;36mto_dict\u001b[0;34m(sequences, key_function)\u001b[0m\n\u001b[1;32m    732\u001b[0m         \u001b[0mkey\u001b[0m \u001b[0;34m=\u001b[0m \u001b[0mkey_function\u001b[0m\u001b[0;34m(\u001b[0m\u001b[0mrecord\u001b[0m\u001b[0;34m)\u001b[0m\u001b[0;34m\u001b[0m\u001b[0m\n\u001b[1;32m    733\u001b[0m         \u001b[0;32mif\u001b[0m \u001b[0mkey\u001b[0m \u001b[0;32min\u001b[0m \u001b[0md\u001b[0m\u001b[0;34m:\u001b[0m\u001b[0;34m\u001b[0m\u001b[0m\n\u001b[0;32m--> 734\u001b[0;31m             \u001b[0;32mraise\u001b[0m \u001b[0mValueError\u001b[0m\u001b[0;34m(\u001b[0m\u001b[0;34m\"Duplicate key '%s'\"\u001b[0m \u001b[0;34m%\u001b[0m \u001b[0mkey\u001b[0m\u001b[0;34m)\u001b[0m\u001b[0;34m\u001b[0m\u001b[0m\n\u001b[0m\u001b[1;32m    735\u001b[0m         \u001b[0md\u001b[0m\u001b[0;34m[\u001b[0m\u001b[0mkey\u001b[0m\u001b[0;34m]\u001b[0m \u001b[0;34m=\u001b[0m \u001b[0mrecord\u001b[0m\u001b[0;34m\u001b[0m\u001b[0m\n\u001b[1;32m    736\u001b[0m     \u001b[0;32mreturn\u001b[0m \u001b[0md\u001b[0m\u001b[0;34m\u001b[0m\u001b[0m\n",
      "\u001b[0;31mValueError\u001b[0m: Duplicate key 'XP_009205588.1'"
     ]
    }
   ],
   "source": [
    "# Check to see if there are records we find in some of the PSI-BLAST results that we don't find in others\n",
    "\n",
    "marmota_marmota = SeqIO.to_dict(SeqIO.parse(\"files/candidates/Marmota_marmota.fasta\", \"fasta\"))\n",
    "poecillia_reticula = SeqIO.to_dict(SeqIO.parse(\"files/candidates/Poecilia_reticulata.fasta\", \"fasta\"))\n",
    "python_bivittatus = SeqIO.to_dict(SeqIO.parse(\"files/candidates/Python_bivittatus.fasta\", \"fasta\"))\n",
    "amazona_aestiva = SeqIO.to_dict(SeqIO.parse(\"files/candidates/Amazona_aestiva.fasta\", \"fasta\"))\n",
    "andrias_davidianus = SeqIO.to_dict(SeqIO.parse(\"files/candidates/Andrias_davidianus.fasta\", \"fasta\"))\n",
    "\n",
    "def getSet(records):\n",
    "    id_set = set()\n",
    "    for record in records:\n",
    "        id_set.add(record)\n",
    "    return id_set\n",
    "\n",
    "mammal = getSet(marmota_marmota)\n",
    "fish = getSet(poecillia_reticula)\n",
    "amphibian = getSet(andrias_davidianus)\n",
    "bird = getSet(amazona_aestiva)\n",
    "reptile = getSet(python_bivittatus)\n"
   ]
  },
  {
   "cell_type": "code",
   "execution_count": 8,
   "metadata": {},
   "outputs": [
    {
     "name": "stdout",
     "output_type": "stream",
     "text": [
      "set()\n",
      "set()\n",
      "set()\n",
      "set()\n",
      "set()\n",
      "{'ETE55910.1'}\n",
      "{'ETE55910.1'}\n",
      "{'ETE55910.1'}\n",
      "There are 0 unique records not found if we start with fish\n",
      "There is 1 unique records found if we start with bird\n",
      "There are 0 unique records found if we start with amphibian\n",
      "There is 1 unique records found if we start with reptile\n",
      "There is 1 unique records not found if we start with mammal\n"
     ]
    }
   ],
   "source": [
    "print (bird - (amphibian | reptile | mammal | fish))\n",
    "print (amphibian - ( bird | reptile | mammal | fish))\n",
    "print (reptile - (amphibian | bird | mammal | fish))\n",
    "print (mammal - (amphibian | reptile | bird | fish))\n",
    "print (fish - (amphibian | reptile | mammal | bird))\n",
    "\n",
    "print (fish - mammal)\n",
    "print (fish - bird)\n",
    "print (fish - reptile)\n",
    "\n",
    "print ( \"There are %s unique records not found if we start with fish\" % ( len((mammal - fish) | (reptile - fish) | (bird - fish) | (amphibian - fish))))\n",
    "print (  \"There is %s unique records found if we start with bird\" % (len((mammal - bird) | (reptile - bird) | (fish - bird) | (amphibian - bird))))\n",
    "print (  \"There are %s unique records found if we start with amphibian\" % (len((mammal - amphibian) | (reptile - amphibian) | (bird - amphibian) | (fish - amphibian))))\n",
    "print ( \"There is %s unique records found if we start with reptile\" % ( len((mammal - reptile) | (fish - reptile) | (bird - reptile) | (amphibian - reptile))))\n",
    "print ( \"There is %s unique records not found if we start with mammal\" % (len((fish - mammal) | (reptile - mammal) | (bird - mammal) | (amphibian - mammal))))"
   ]
  },
  {
   "cell_type": "markdown",
   "metadata": {},
   "source": [
    "## Now lets check if the large PSI-BLAST has missing records from the smaller PSI-BLAST and my expanded BLAST search"
   ]
  },
  {
   "cell_type": "code",
   "execution_count": 45,
   "metadata": {
    "collapsed": true
   },
   "outputs": [],
   "source": [
    "# Check \n",
    "\n",
    "psi_blast_records = SeqIO.parse(\"files/2U1_all_candidates_PSI_BLAST.fasta\", \"fasta\")\n",
    "\n",
    "full_psi_blast_records = SeqIO.parse(\"files/full_PSI_filtered_records.fasta\", \"fasta\")\n",
    "\n",
    "expanded_blast_records = SeqIO.parse(\"files/filtered_records.fasta\", \"fasta\")\n"
   ]
  },
  {
   "cell_type": "code",
   "execution_count": 46,
   "metadata": {
    "collapsed": true
   },
   "outputs": [],
   "source": [
    "def getSetFromRecords(records):\n",
    "    id_set = set()\n",
    "    for record in records:\n",
    "        id_set.add(record.id)\n",
    "    return id_set\n",
    "\n",
    "# Made by doing \n",
    "psi_blast_set = getSetFromRecords(psi_blast_records)\n",
    "full_psi_blast_set = getSetFromRecords(full_psi_blast_records)\n",
    "expanded_blast_set = getSetFromRecords(expanded_blast_records)"
   ]
  },
  {
   "cell_type": "code",
   "execution_count": 60,
   "metadata": {},
   "outputs": [
    {
     "name": "stdout",
     "output_type": "stream",
     "text": [
      "Length of PSI BLAST search from difference candidates restricted to 2U1 and 2U1-like sequences: 399\n",
      "\n",
      "Length of full PSI_BLAST search from Python not restricted to 2U1 and 2U1-like sequences: 355\n",
      "\n",
      "Length of original expanded BLAST set made from 5 candidates and restricted to 2U1 and 2U1-like: 420\n"
     ]
    }
   ],
   "source": [
    "print (\"Length of PSI BLAST search from difference candidates restricted to 2U1 and 2U1-like sequences:\", len(psi_blast_set))\n",
    "print()\n",
    "print (\"Length of full PSI_BLAST search from Python not restricted to 2U1 and 2U1-like sequences:\", len(full_psi_blast_set))\n",
    "print()\n",
    "print (\"Length of original expanded BLAST set made from 5 candidates and restricted to 2U1 and 2U1-like:\", len(expanded_blast_set))"
   ]
  },
  {
   "cell_type": "code",
   "execution_count": 52,
   "metadata": {},
   "outputs": [
    {
     "name": "stdout",
     "output_type": "stream",
     "text": [
      "The following sequences are only in the PSI_BLAST search from different candidates restricted to 2U1 and 2U1-like sequences\n",
      "{'PIO25243.1', 'XP_007648453.1', 'KFU94516.1', 'KFP23895.1', 'XP_013914382.1', 'XP_013040816.1', 'KFP67630.1', 'XP_019783338.1', 'XP_012955331.1', 'XP_010002414.1', 'OWA52865.1', 'XP_014593439.1', 'XP_008936534.1', 'OWA52871.1', 'KFU98834.1', 'KFO07982.1', 'KDR06611.1', 'XP_014141091.1', 'OMJ26238.1', 'KFR08560.1', 'XP_013040818.1', 'KFQ27801.1', 'XP_012510559.1', 'XP_009068953.1', 'XP_009969653.1', 'PIK55290.1', 'OQV16873.1', 'KFO60610.1', 'CUA67356.1', 'XP_005418305.2', 'OQV17437.1', 'EHL00994.1', 'ETE55910.1', 'XP_013155162.1', 'PIK57040.1', 'KFZ45339.1', 'ODM94942.1', 'XP_009325342.1', 'ENH71300.1', 'OQV15857.1', 'XP_009491707.1', 'OWA50099.1', 'XP_014141090.1', 'PIK49892.1', 'KFW97279.1', 'XP_010143437.1', 'XP_009687679.1', 'KFV88821.1', 'KFP11414.1', 'KFP76326.1', 'XP_011669947.1', 'XP_009271908.1', 'KFP81921.1', 'PIK51743.1', 'KFV92898.1', 'KFQ07009.1', 'KFQ58424.1', 'KPI97401.1', 'PIA90370.1', 'KFO96999.1', 'XP_010311013.1', 'PIK49893.1', 'XP_009945244.1', 'OQV17435.1', 'XP_011683938.1', 'PIK51744.1', 'ODM86709.1', 'XP_008575090.1', 'XP_011683799.1', 'XP_016807466.1', 'KFM03695.1', 'XP_019272375.1', 'XP_011359763.1', 'KFW69234.1', 'OWK06964.1', 'ABQ44506.1', 'XP_021014503.1', 'XP_010295245.1', 'KFR07629.1', 'OMJ11248.1', 'CUA69922.1', 'PIK56908.1', 'OQV22978.1', 'KFQ05696.1', 'XP_022422797.1', 'XP_009990052.1', 'XP_010189345.1', 'ACN60275.1', 'KFQ46353.1', 'XP_010176195.1', 'ETE57560.1', 'KFQ86214.1', 'XP_008527601.1', 'PIK40053.1', 'KFV40747.1', 'KFO83102.1', 'KGL93681.1', 'KFW06366.1', 'KFP42197.1', 'KFZ68974.1', 'PIB02545.1', 'XP_013040817.1', 'XP_009473133.1', 'KFQ25322.1', 'XP_021052701.1', 'OXA47348.1', 'XP_016048626.1', 'OXA53998.1', 'XP_009820531.1', 'XP_014640090.1', 'XP_010208086.1', 'CRG89251.1', 'XP_010119229.1', 'KFM60152.1', 'XP_009703775.1', 'XP_009510274.1', 'KFP54588.1', 'EGW07350.1', 'KFV56905.1', 'EOB01154.1', 'XP_011677002.1', 'XP_005262777.1'}\n"
     ]
    }
   ],
   "source": [
    "print (\"The following sequences are only in the PSI_BLAST search from different candidates restricted to 2U1 and 2U1-like sequences\")\n",
    "print (psi_blast_set - full_psi_blast_set - expanded_blast_set)"
   ]
  },
  {
   "cell_type": "code",
   "execution_count": 62,
   "metadata": {},
   "outputs": [
    {
     "name": "stdout",
     "output_type": "stream",
     "text": [
      "The following sequences are only in the full PSI_BLAST search from Python not restricted to 2U1 and 2U1-like sequences\n",
      "{'XP_002594674.1', 'AIC57535.1', 'XP_002602578.1', 'AGN04330.1', 'XP_002604226.1', 'EFB15022.1', 'KQK74446.1', 'XP_020484540.1', 'EHH53889.1', 'OXB57021.1', 'NP_001186898.2', 'AGN04312.1', 'XP_002589623.1', 'AGN52902.1', 'XP_002605379.1', 'NP_001085963.1', 'XP_002601369.1', 'AGN04325.1', 'ELR59612.1', 'XP_002589617.1', 'AGN04309.1', 'XP_019936176.1', 'AGN04296.1', 'XP_002604856.1', 'KPP65943.1', 'XP_002601386.1', 'XP_002589622.1', 'EDL82214.1', 'XP_002603880.1', 'NP_001103192.1', 'XP_002590802.1', 'EPY81189.1', 'XP_002610285.1', 'NP_001070926.1', 'EFB16740.1', 'EHH49955.1', 'XP_002588060.1', 'XP_002594971.1', 'XP_002612185.1', 'XP_002590181.1', 'XP_002607601.1', 'OCA37567.1', 'XP_002613380.1', 'EHH26107.1', 'NP_001079789.1', 'OCT76966.1', 'XP_002587334.1', 'AGN04307.1', 'AGN04284.1', 'XP_002597633.1', 'XP_002585682.1', 'ARO89866.1', 'XP_002613379.1', 'XP_002602976.1', 'NP_001103171.2', 'XP_002587332.1', 'AEI16531.1', 'NP_001106471.1', 'AGN04277.1', 'XP_002609810.1', 'AAH56589.1', 'PIO29941.1', 'XP_002612370.1', 'XP_002594675.1', 'AGN04311.1', 'XP_002603729.1', 'AAI52007.1', 'XP_002587338.1'}\n"
     ]
    }
   ],
   "source": [
    "print (\"The following sequences are only in the full PSI_BLAST search from Python not restricted to 2U1 and 2U1-like sequences\")\n",
    "print (full_psi_blast_set - expanded_blast_set - psi_blast_set)"
   ]
  },
  {
   "cell_type": "code",
   "execution_count": 54,
   "metadata": {},
   "outputs": [
    {
     "name": "stdout",
     "output_type": "stream",
     "text": [
      "The following sequences are only in original expanded BLAST set made from 5 candidates and restricted to 2U1 and 2U1-like\n",
      "{'XP_019620665.1', 'XP_005111348.2', 'XP_014674645.1', 'XP_002738775.1', 'XP_002735731.1', 'XP_019624571.1', 'XP_009858778.2', 'XP_013091701.1', 'XP_019642956.1', 'XP_022081995.1', 'XP_786300.2', 'XP_022103600.1', 'XP_022098029.1', 'XP_019618599.1', 'XP_019631170.1', 'XP_022093163.1', 'XP_019641598.1', 'XP_019642928.1', 'XP_013065835.1', 'XP_019624239.1', 'XP_002740465.1', 'XP_019619827.1', 'XP_019628033.1', 'XP_019627490.1', 'XP_013922675.1', 'XP_018667429.1', 'XP_002739928.1', 'XP_013091704.1', 'XP_022094290.1', 'XP_019627491.1', 'XP_014674505.1', 'XP_022300688.1', 'XP_019615816.1', 'XP_013065833.1', 'XP_013420531.1', 'XP_014788787.1', 'XP_018667653.1', 'XP_019629979.1', 'XP_006821776.1', 'XP_022087533.1', 'XP_019615834.1', 'XP_006812435.1', 'XP_022099104.1', 'XP_006812434.1', 'XP_006823767.1', 'XP_019642618.1', 'XP_022103601.1', 'XP_022082638.1', 'XP_013774212.1', 'XP_022081701.1', 'XP_019643225.1', 'XP_014670237.1', 'XP_002123213.4', 'XP_019638039.1', 'XP_013774211.1', 'XP_019616829.1', 'XP_002120735.1', 'XP_013394794.1', 'XP_005102461.1', 'XP_002119454.1', 'XP_019619982.1', 'XP_019631181.1', 'XP_014677133.1', 'XP_012946208.1', 'XP_013420528.1', 'XP_021172324.1', 'XP_012941496.1', 'XP_015919907.1', 'XP_006825849.1', 'XP_013408665.1', 'XP_013065834.1', 'XP_013075120.1', 'XP_005101694.1', 'XP_019646677.1', 'XP_019635866.1', 'XP_019617750.1', 'XP_019617409.1', 'XP_014665616.1', 'XP_005111347.1', 'XP_019642635.1', 'XP_009858745.2', 'XP_022337038.1', 'XP_022099105.1', 'XP_022328975.1', 'XP_014674210.1', 'XP_002122620.1', 'XP_013091703.1', 'XP_002739929.1', 'XP_014667028.1', 'XP_006818209.1', 'XP_013408661.1', 'XP_002735624.2', 'XP_019624324.1', 'XP_019631171.1', 'XP_006813064.1', 'XP_002731713.1', 'XP_022083647.1', 'XP_022095211.1', 'XP_019623532.1', 'XP_019614668.1', 'XP_013091702.1', 'XP_019641886.1', 'XP_019630647.1', 'XP_019614409.1'}\n"
     ]
    }
   ],
   "source": [
    "print (\"The following sequences are only in original expanded BLAST set made from 5 candidates and restricted to 2U1 and 2U1-like\")\n",
    "print (expanded_blast_set - full_psi_blast_set - psi_blast_set)"
   ]
  },
  {
   "cell_type": "code",
   "execution_count": null,
   "metadata": {
    "collapsed": true
   },
   "outputs": [],
   "source": []
  }
 ],
 "metadata": {
  "kernelspec": {
   "display_name": "Python 3",
   "language": "python",
   "name": "python3"
  },
  "language_info": {
   "codemirror_mode": {
    "name": "ipython",
    "version": 3
   },
   "file_extension": ".py",
   "mimetype": "text/x-python",
   "name": "python",
   "nbconvert_exporter": "python",
   "pygments_lexer": "ipython3",
   "version": "3.6.3"
  }
 },
 "nbformat": 4,
 "nbformat_minor": 2
}
