{
 "cells": [
  {
   "cell_type": "code",
   "execution_count": 1,
   "metadata": {
    "collapsed": true
   },
   "outputs": [],
   "source": [
    "import utilities\n",
    "import fasta\n",
    "import alignment_curation"
   ]
  },
  {
   "cell_type": "code",
   "execution_count": 9,
   "metadata": {
    "collapsed": true
   },
   "outputs": [],
   "source": [
    "# Read in and collate the FASTA files\n",
    "cyp2U1_records = utilities.load_sequences(\"/Users/gabefoley/Dropbox/PhD/Projects/2U1/2U1_2018/Excluding plants fungi nematodes insects and bacteria/180312_fifty_percent_identity/2U1_50_percent.fasta\")"
   ]
  },
  {
   "cell_type": "code",
   "execution_count": 3,
   "metadata": {},
   "outputs": [
    {
     "name": "stdout",
     "output_type": "stream",
     "text": [
      "The total length of CYP2U1 hits before cleaning them up is 299 \n",
      "The total length of CYP2R1 hits before cleaning them up is 690 \n"
     ]
    }
   ],
   "source": [
    "print (\"The total length of CYP2U1 hits before cleaning them up is %d \" % len(cyp2U1_records))"
   ]
  },
  {
   "cell_type": "code",
   "execution_count": 4,
   "metadata": {
    "collapsed": true
   },
   "outputs": [],
   "source": [
    "# Only include records > 400 amino acids, with no X characters, and with the Cytochrome P450 motif\n",
    "\n",
    "# Cytochrome P450 motif from Guengerich, Waterman & Egli 2016 (doi: 10.1016/j.tips.2016.05.006) FXXGXbXXCXG\n",
    "cytochrome_p450_motif = \"F..G[HRK]..C.G\"\n",
    "\n"
   ]
  },
  {
   "cell_type": "code",
   "execution_count": 5,
   "metadata": {
    "collapsed": true
   },
   "outputs": [],
   "source": [
    "cyp2U1_reduced_records = fasta.subset_records(records=cyp2U1_records, length=400, mode='exclude')\n",
    "cyp2U1_reduced_records = fasta.exclude_character(cyp2U1_reduced_records, \"X\")\n",
    "cyp2U1_reduced_records = fasta.subset_on_motif(cyp2U1_reduced_records, cytochrome_p450_motif)\n",
    "cyp2U1_cleaned_records = fasta.map_dict_to_records(cyp2U1_reduced_records)"
   ]
  },
  {
   "cell_type": "code",
   "execution_count": 6,
   "metadata": {},
   "outputs": [
    {
     "name": "stdout",
     "output_type": "stream",
     "text": [
      "The total length of CYP2U1 hits after cleaning them up is 260 \n",
      "The total length of CYP2R1 hits after cleaning them up is 370 \n"
     ]
    }
   ],
   "source": [
    "print (\"The total length of CYP2U1 hits after cleaning them up is %d \" % len(cyp2U1_cleaned_records))\n",
    "print (\"The total length of CYP2R1 hits after cleaning them up is %d \" % len(cyp2R1_cleaned_records))"
   ]
  },
  {
   "cell_type": "code",
   "execution_count": null,
   "metadata": {
    "collapsed": true
   },
   "outputs": [],
   "source": [
    "# Write the cleaned sequence file to disk\n",
    "\n",
    "# fasta.write_fasta(cyp2U1_cleaned_records, \"/Users/gabefoley/Dropbox/PhD/Projects/2U1/2U1_2018/Excluding plants fungi nematodes insects and bacteria/180312_fifty_percent_identity/Further_exclusions/April_2018/CYP2U1_CYP2R1/cyp2U1_50_percent_identity.fasta\")\n",
    "\n",
    "# fasta.write_fasta(cyp2R1_cleaned_records, \"/Users/gabefoley/Dropbox/PhD/Projects/2U1/2U1_2018/Excluding plants fungi nematodes insects and bacteria/180312_fifty_percent_identity/Further_exclusions/April_2018/CYP2U1_CYP2R1/cyp2R1_50_percent_identity.fasta\")"
   ]
  }
 ],
 "metadata": {
  "kernelspec": {
   "display_name": "Python 3",
   "language": "python",
   "name": "python3"
  },
  "language_info": {
   "codemirror_mode": {
    "name": "ipython",
    "version": 3
   },
   "file_extension": ".py",
   "mimetype": "text/x-python",
   "name": "python",
   "nbconvert_exporter": "python",
   "pygments_lexer": "ipython3",
   "version": "3.6.3"
  }
 },
 "nbformat": 4,
 "nbformat_minor": 2
}
