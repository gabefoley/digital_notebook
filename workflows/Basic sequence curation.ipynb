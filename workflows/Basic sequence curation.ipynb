{
 "cells": [
  {
   "cell_type": "code",
   "execution_count": 1,
   "metadata": {
    "collapsed": true
   },
   "outputs": [],
   "source": [
    "import utilities\n",
    "import fasta\n",
    "import alignment_curation\n",
    "import glob"
   ]
  },
  {
   "cell_type": "code",
   "execution_count": 9,
   "metadata": {
    "collapsed": true
   },
   "outputs": [],
   "source": [
    "# Read in and collate the FASTA files\n",
    "cyp2U1_records = utilities.load_sequences(\"/Users/gabefoley/Dropbox/PhD/Projects/2U1/2U1_2018/Excluding plants fungi nematodes insects and bacteria/180312_fifty_percent_identity/2U1_50_percent.fasta\")\n",
    "\n",
    "fasta_files = glob.glob(\"/Users/gabefoley/Dropbox/PhD/Projects/2U1/2U1_2018/Excluding plants fungi nematodes insects and bacteria/180312_fifty_percent_identity/Further_exclusions/April_2018/CYP2R1/Candidates/Full_FASTA/*.fasta\")\n",
    "\n",
    "cyp2R1_records = utilities.load_sequences(*fasta_files)\n",
    "\n",
    "working_dir = \"/Users/gabefoley/Dropbox/PhD/Projects/2U1/2U1_2018/Excluding plants fungi nematodes insects and bacteria/180312_fifty_percent_identity/Further_exclusions/April_2018/CYP2U1_CYP2R1/\""
   ]
  },
  {
   "cell_type": "code",
   "execution_count": 3,
   "metadata": {},
   "outputs": [
    {
     "name": "stdout",
     "output_type": "stream",
     "text": [
      "The total length of CYP2U1 hits before cleaning them up is 299 \n",
      "The total length of CYP2R1 hits before cleaning them up is 690 \n"
     ]
    }
   ],
   "source": [
    "print (\"The total length of CYP2U1 hits before cleaning them up is %d \" % len(cyp2U1_records))\n",
    "print (\"The total length of CYP2R1 hits before cleaning them up is %d \" % len(cyp2R1_records))"
   ]
  },
  {
   "cell_type": "code",
   "execution_count": 4,
   "metadata": {
    "collapsed": true
   },
   "outputs": [],
   "source": [
    "# Only include records > 400 amino acids, with no X characters, and with the Cytochrome P450 motif\n",
    "\n",
    "# Cytochrome P450 motif from Guengerich, Waterman & Egli 2016 (doi: 10.1016/j.tips.2016.05.006) FXXGXbXXCXG\n",
    "cytochrome_p450_motif = \"F..G[HRK]..C.G\"\n",
    "\n"
   ]
  },
  {
   "cell_type": "code",
   "execution_count": 5,
   "metadata": {
    "collapsed": true
   },
   "outputs": [],
   "source": [
    "cyp2U1_reduced_records = fasta.subset_records(records=cyp2U1_records, length=400, mode='exclude')\n",
    "cyp2U1_reduced_records = fasta.exclude_character(cyp2U1_reduced_records, \"X\")\n",
    "cyp2U1_reduced_records = fasta.subset_on_motif(cyp2U1_reduced_records, cytochrome_p450_motif)\n",
    "cyp2U1_cleaned_records = fasta.map_dict_to_records(cyp2U1_reduced_records)\n",
    "\n",
    "\n",
    "cyp2R1_reduced_records = fasta.subset_records(records=cyp2R1_records, length=400, mode='exclude')\n",
    "cyp2R1_reduced_records = fasta.exclude_character(cyp2R1_reduced_records, \"X\")\n",
    "cyp2R1_reduced_records = fasta.subset_on_motif(cyp2R1_reduced_records, cytochrome_p450_motif)\n",
    "cyp2R1_cleaned_records = fasta.map_dict_to_records(cyp2R1_reduced_records)\n"
   ]
  },
  {
   "cell_type": "code",
   "execution_count": 6,
   "metadata": {},
   "outputs": [
    {
     "name": "stdout",
     "output_type": "stream",
     "text": [
      "The total length of CYP2U1 hits after cleaning them up is 260 \n",
      "The total length of CYP2R1 hits after cleaning them up is 370 \n"
     ]
    }
   ],
   "source": [
    "print (\"The total length of CYP2U1 hits after cleaning them up is %d \" % len(cyp2U1_cleaned_records))\n",
    "print (\"The total length of CYP2R1 hits after cleaning them up is %d \" % len(cyp2R1_cleaned_records))"
   ]
  },
  {
   "cell_type": "code",
   "execution_count": null,
   "metadata": {
    "collapsed": true
   },
   "outputs": [],
   "source": [
    "# Write the cleaned sequence file to disk\n",
    "\n",
    "# fasta.write_fasta(cyp2U1_cleaned_records, \"/Users/gabefoley/Dropbox/PhD/Projects/2U1/2U1_2018/Excluding plants fungi nematodes insects and bacteria/180312_fifty_percent_identity/Further_exclusions/April_2018/CYP2U1_CYP2R1/cyp2U1_50_percent_identity.fasta\")\n",
    "\n",
    "# fasta.write_fasta(cyp2R1_cleaned_records, \"/Users/gabefoley/Dropbox/PhD/Projects/2U1/2U1_2018/Excluding plants fungi nematodes insects and bacteria/180312_fifty_percent_identity/Further_exclusions/April_2018/CYP2U1_CYP2R1/cyp2R1_50_percent_identity.fasta\")"
   ]
  },
  {
   "cell_type": "markdown",
   "metadata": {},
   "source": [
    "## Now we manually removed sequences with long insertions - these are the sequences we remove"
   ]
  },
  {
   "cell_type": "code",
   "execution_count": 15,
   "metadata": {},
   "outputs": [
    {
     "name": "stdout",
     "output_type": "stream",
     "text": [
      "These are the sequences we removed from CYP2U1 for having insertions\n",
      "PIK38219.1\n",
      "XP_002605102.1\n",
      "PIO41157.1\n",
      "XP_014379039.1\n",
      "XP_023361104.1\n",
      "KKF09825.1\n",
      "KYO44822.1\n",
      "OCA35976.1\n",
      "None\n",
      "These are the sequences we removed from CYP2R1 for having insertions\n",
      "XP_015485136.1\n",
      "XP_018112723.1\n",
      "XP_018112722.1\n",
      "XP_018112721.1\n",
      "OWK58087.1\n",
      "XP_009688434.1\n",
      "PIO41157.1\n",
      "PIO29018.1\n",
      "XP_017660785.1\n",
      "OCA35976.1\n",
      "XP_014379039.1\n",
      "XP_002605102.1\n",
      "None\n"
     ]
    }
   ],
   "source": [
    "cyp2U1_insertions_removed = utilities.load_sequences(working_dir + \"/cyp2U1_50_percent_identity_I.fasta\")\n",
    "cyp2R1_insertions_removed = utilities.load_sequences(working_dir + \"/cyp2R1_50_percent_identity_I.fasta\")\n",
    "\n",
    "print (\"These are the sequences we removed from CYP2U1 for having insertions\")\n",
    "print (fasta.compare_fasta(cyp2U1_reduced_records, cyp2U1_insertions_removed))\n",
    "\n",
    "print (\"These are the sequences we removed from CYP2R1 for having insertions\")\n",
    "print (fasta.compare_fasta(cyp2R1_reduced_records, cyp2R1_insertions_removed))\n"
   ]
  },
  {
   "cell_type": "markdown",
   "metadata": {},
   "source": [
    "## Now we reduce the alignment down on the basis of internal deletions"
   ]
  },
  {
   "cell_type": "code",
   "execution_count": 16,
   "metadata": {},
   "outputs": [
    {
     "name": "stdout",
     "output_type": "stream",
     "text": [
      "defaultdict(<class 'list'>, {406: ['XP_015852825.1']})\n",
      "The candidate sequence is\n",
      "['XP_015852825.1']\n",
      "Count is  1\n",
      "defaultdict(<class 'list'>, {28: ['XP_015852823.1'], 30: ['AAI68986.1', 'XP_006507901.1'], 52: ['XP_005216116.1'], 302: ['POI34245.1'], 310: ['XP_023372804.1', 'XP_018880964.1', 'XP_017708555.1', 'XP_023051618.1', 'XP_017202860.1']})\n",
      "checking for most deletions\n",
      "The candidate sequence is\n",
      "['XP_023372804.1', 'XP_018880964.1', 'XP_017708555.1', 'XP_023051618.1', 'XP_017202860.1']\n",
      "Count is  2\n",
      "defaultdict(<class 'list'>, {28: ['XP_015852823.1'], 30: ['AAI68986.1', 'XP_006507901.1'], 52: ['XP_005216116.1'], 302: ['POI34245.1']})\n",
      "The candidate sequence is\n",
      "['POI34245.1']\n",
      "Count is  3\n",
      "defaultdict(<class 'list'>, {28: ['XP_015852823.1', 'AAI68986.1', 'XP_006507901.1'], 52: ['XP_005216116.1'], 221: ['XP_015852826.1']})\n",
      "The candidate sequence is\n",
      "['XP_015852826.1']\n",
      "Count is  4\n",
      "defaultdict(<class 'list'>, {28: ['XP_015852823.1', 'AAI68986.1', 'XP_006507901.1'], 52: ['XP_005216116.1'], 80: ['XP_006123186.1'], 120: ['XP_013766542.1'], 122: ['XP_007480613.1'], 158: ['XP_018929020.1'], 172: ['XP_017658800.1']})\n",
      "The candidate sequence is\n",
      "['XP_017658800.1']\n",
      "Count is  5\n",
      "defaultdict(<class 'list'>, {28: ['XP_015852823.1', 'AAI68986.1', 'XP_006507901.1'], 52: ['XP_005216116.1'], 80: ['XP_006123186.1'], 120: ['XP_013766542.1'], 122: ['XP_007480613.1'], 158: ['XP_018929020.1'], 159: ['KTF79201.1']})\n",
      "The candidate sequence is\n",
      "['KTF79201.1']\n",
      "Count is  6\n",
      "defaultdict(<class 'list'>, {28: ['XP_015852823.1', 'AAI68986.1', 'XP_006507901.1'], 52: ['XP_005216116.1'], 65: ['XP_006123186.1'], 111: ['XP_013766542.1'], 122: ['XP_007480613.1'], 160: ['XP_018929020.1']})\n",
      "The candidate sequence is\n",
      "['XP_018929020.1']\n",
      "Count is  7\n",
      "defaultdict(<class 'list'>, {28: ['XP_015852823.1', 'AAI68986.1', 'XP_006507901.1'], 52: ['XP_005216116.1'], 92: ['XP_006123186.1'], 138: ['XP_013766542.1'], 155: ['XP_015852824.1', 'EDL30916.1'], 156: ['XP_019615834.1']})\n",
      "The candidate sequence is\n",
      "['XP_019615834.1']\n",
      "Count is  8\n",
      "defaultdict(<class 'list'>, {28: ['XP_015852823.1', 'AAI68986.1', 'XP_006507901.1'], 52: ['XP_005216116.1'], 90: ['XP_006123186.1'], 136: ['XP_013766542.1'], 155: ['XP_015852824.1', 'EDL30916.1']})\n",
      "checking for most deletions\n",
      "The candidate sequence is\n",
      "['XP_015852824.1', 'EDL30916.1']\n",
      "Count is  9\n",
      "defaultdict(<class 'list'>, {28: ['XP_015852823.1', 'AAI68986.1', 'XP_006507901.1'], 52: ['XP_005216116.1'], 68: ['XP_006123186.1', 'EHB15020.1', 'XP_007644187.1', 'XP_006502783.1'], 121: ['XP_013766542.1'], 125: ['XP_007480613.1', 'XP_019508372.1'], 142: ['KTF87974.1', 'XP_021448165.1']})\n",
      "checking for most deletions\n",
      "The candidate sequence is\n",
      "['KTF87974.1', 'XP_021448165.1']\n",
      "Count is  10\n",
      "defaultdict(<class 'list'>, {28: ['XP_015852823.1', 'AAI68986.1', 'XP_006507901.1'], 52: ['XP_005216116.1'], 106: ['XP_013766542.1'], 112: ['XP_007480613.1'], 125: ['XP_019508372.1']})\n",
      "The candidate sequence is\n",
      "['XP_019508372.1']\n",
      "Count is  11\n",
      "defaultdict(<class 'list'>, {28: ['XP_015852823.1', 'AAI68986.1', 'XP_006507901.1'], 52: ['XP_005216116.1'], 106: ['XP_013766542.1'], 112: ['XP_007480613.1']})\n",
      "The candidate sequence is\n",
      "['XP_007480613.1']\n",
      "Count is  12\n",
      "defaultdict(<class 'list'>, {28: ['XP_015852823.1', 'AAI68986.1', 'XP_006507901.1'], 52: ['XP_005216116.1'], 106: ['XP_013766542.1']})\n",
      "The candidate sequence is\n",
      "['XP_013766542.1']\n",
      "Count is  13\n",
      "defaultdict(<class 'list'>, {28: ['XP_015852823.1', 'AAI68986.1', 'XP_006507901.1'], 52: ['XP_005216116.1'], 72: ['XP_023364820.1', 'XP_014382853.1', 'XP_019392695.1', 'ETE57857.1'], 73: ['XP_023486804.1', 'XP_021114517.1', 'XP_015670702.1'], 87: ['XP_018425904.1']})\n",
      "The candidate sequence is\n",
      "['XP_018425904.1']\n",
      "Count is  14\n",
      "defaultdict(<class 'list'>, {28: ['XP_015852823.1', 'AAI68986.1', 'XP_006507901.1'], 52: ['XP_005216116.1'], 58: ['XP_006123186.1'], 72: ['XP_023364820.1', 'XP_014382853.1', 'XP_019392695.1', 'ETE57857.1'], 73: ['XP_023486804.1', 'XP_021114517.1', 'XP_015670702.1']})\n",
      "checking for most deletions\n",
      "The candidate sequence is\n",
      "['XP_023486804.1', 'XP_021114517.1', 'XP_015670702.1']\n",
      "Count is  15\n",
      "defaultdict(<class 'list'>, {28: ['XP_015852823.1', 'AAI68986.1', 'XP_006507901.1'], 52: ['XP_005216116.1'], 68: ['XP_023364820.1', 'XP_014382853.1', 'XP_019392695.1', 'ETE57857.1'], 95: ['XP_010079303.1', 'XP_010292305.1', 'XP_012889780.1', 'PIO40987.1']})\n",
      "checking for most deletions\n",
      "The candidate sequence is\n",
      "['XP_010079303.1', 'XP_010292305.1', 'XP_012889780.1', 'PIO40987.1']\n",
      "Count is  16\n",
      "defaultdict(<class 'list'>, {28: ['XP_015852823.1', 'AAI68986.1', 'XP_006507901.1'], 52: ['XP_005216116.1'], 59: ['XP_006123186.1', 'EHB15020.1', 'XP_007644187.1', 'XP_006502783.1'], 89: ['XP_023364820.1', 'XP_014382853.1', 'XP_019392695.1', 'ETE57857.1'], 93: ['XP_008851744.1']})\n",
      "The candidate sequence is\n",
      "['XP_008851744.1']\n",
      "Count is  17\n",
      "defaultdict(<class 'list'>, {28: ['XP_015852823.1', 'AAI68986.1', 'XP_006507901.1'], 52: ['XP_005216116.1'], 59: ['XP_006123186.1', 'EHB15020.1', 'XP_007644187.1', 'XP_006502783.1'], 89: ['XP_023364820.1', 'XP_014382853.1', 'XP_019392695.1', 'ETE57857.1']})\n",
      "checking for most deletions\n",
      "The candidate sequence is\n",
      "['XP_023364820.1', 'XP_014382853.1', 'XP_019392695.1', 'ETE57857.1']\n",
      "Count is  18\n",
      "defaultdict(<class 'list'>, {28: ['XP_015852823.1', 'AAI68986.1', 'XP_006507901.1'], 52: ['XP_005216116.1']})\n",
      "The candidate sequence is\n",
      "['XP_005216116.1']\n",
      "Count is  19\n",
      "defaultdict(<class 'list'>, {28: ['XP_015852823.1', 'AAI68986.1', 'XP_006507901.1', 'XP_005216114.1', 'XP_010828870.1', 'XP_011951097.1']})\n",
      "checking for most deletions\n",
      "The candidate sequence is\n",
      "['XP_015852823.1', 'AAI68986.1', 'XP_006507901.1', 'XP_005216114.1', 'XP_010828870.1', 'XP_011951097.1']\n",
      "Count is  20\n",
      "The candidate sequence is\n",
      "None\n",
      "Count is  21\n",
      "We are finished\n"
     ]
    }
   ],
   "source": [
    "# alignment_curation.automated_curation(\"/Users/gabefoley/Dropbox/PhD/Projects/2U1/2U1_2018/Excluding plants fungi nematodes insects and bacteria/180312_fifty_percent_identity/Further_exclusions/April_2018/CYP2U1_CYP2R1/cyp2U1_50_percent_identity_I.aln\", 0.1, 20, outpath=\"/Users/gabefoley/Dropbox/PhD/Projects/2U1/2U1_2018/Excluding plants fungi nematodes insects and bacteria/180312_fifty_percent_identity/Further_exclusions/April_2018/CYP2U1_CYP2R1/cyp2U1_50_percent_I_D\")\n",
    "\n",
    "alignment_curation.automated_curation(\"/Users/gabefoley/Dropbox/PhD/Projects/2U1/2U1_2018/Excluding plants fungi nematodes insects and bacteria/180312_fifty_percent_identity/Further_exclusions/April_2018/CYP2U1_CYP2R1/cyp2R1_50_percent_identity_I.aln\", 0.1, 20, outpath=\"/Users/gabefoley/Dropbox/PhD/Projects/2U1/2U1_2018/Excluding plants fungi nematodes insects and bacteria/180312_fifty_percent_identity/Further_exclusions/April_2018/CYP2U1_CYP2R1/cyp2R1_50_percent_I_D\")"
   ]
  },
  {
   "cell_type": "code",
   "execution_count": null,
   "metadata": {
    "collapsed": true
   },
   "outputs": [],
   "source": [
    "Now we check the exon counts of the sequences in CYP2U1 and CYP2R1\n"
   ]
  }
 ],
 "metadata": {
  "kernelspec": {
   "display_name": "Python 3",
   "language": "python",
   "name": "python3"
  },
  "language_info": {
   "codemirror_mode": {
    "name": "ipython",
    "version": 3
   },
   "file_extension": ".py",
   "mimetype": "text/x-python",
   "name": "python",
   "nbconvert_exporter": "python",
   "pygments_lexer": "ipython3",
   "version": "3.6.3"
  }
 },
 "nbformat": 4,
 "nbformat_minor": 2
}
