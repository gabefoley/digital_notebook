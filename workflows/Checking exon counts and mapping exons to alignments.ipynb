{
 "cells": [
  {
   "cell_type": "code",
   "execution_count": 1,
   "metadata": {},
   "outputs": [
    {
     "data": {
      "text/html": [
       "<style>.container { width:100% !important; }</style>"
      ],
      "text/plain": [
       "<IPython.core.display.HTML object>"
      ]
     },
     "metadata": {},
     "output_type": "display_data"
    }
   ],
   "source": [
    "import utilities\n",
    "import fasta\n",
    "import exons\n",
    "from Bio import SeqIO\n",
    "# Change the width of the \n",
    "from IPython.core.display import display, HTML\n",
    "display(HTML(\"<style>.container { width:100% !important; }</style>\"))"
   ]
  },
  {
   "cell_type": "markdown",
   "metadata": {},
   "source": [
    "Define the path on disk where the alignment we want to map exon structure to is sitting"
   ]
  },
  {
   "cell_type": "code",
   "execution_count": 2,
   "metadata": {},
   "outputs": [],
   "source": [
    "# Load in the file and define a filepath that we'll save the object into, and filepaths we'll save the output and skipped records into (csv files) \n",
    "aln = utilities.load_sequences(\"Files/Exons/exon_small.aln\") \n",
    "object_path = \"Files/Exons/Objects/output.obj\"\n",
    "out_path = \"Files/Exons/exon_records.csv\"\n",
    "skip_path = \"Files/Exons/skipped_records.csv\""
   ]
  },
  {
   "cell_type": "markdown",
   "metadata": {},
   "source": [
    "If this is the first time reading in this alignment we can save the object to the filepath (so that next time we don't have to go online to pull the exon structure')"
   ]
  },
  {
   "cell_type": "code",
   "execution_count": 3,
   "metadata": {},
   "outputs": [
    {
     "name": "stdout",
     "output_type": "stream",
     "text": [
      "Search id is \n",
      "CAG11477.1\n",
      "Mapping from UniProt\n",
      "Couldn't access a Uniprot record for CAG11477.1\n",
      "Checking in alternative databases\n",
      "['CAAE01015038.1:<188106..188281', 'CAAE01015038.1:188364..188531', 'CAAE01015038.1:188596..188757', 'CAAE01015038.1:188950..189600', 'CAAE01015038.1:189876..190284))']\n",
      "Search id is \n",
      "KTF87224.1\n",
      "Mapping from UniProt\n",
      "Couldn't access a Uniprot record for KTF87224.1\n",
      "Checking in alternative databases\n",
      "['LHQP01025832.1:92622..93063', 'LHQP01025832.1:94399..95052', 'LHQP01025832.1:95142..95303', 'LHQP01025832.1:96369..96536', 'LHQP01025832.1:96644..96822)']\n",
      "Search id is \n",
      "EFB16740.1\n",
      "Mapping from UniProt\n",
      "Couldn't access a Uniprot record for EFB16740.1\n",
      "Checking in alternative databases\n",
      "['GL192504.1:<1303270..1303445', 'GL192504.1:1304423..1304590', 'GL192504.1:1306014..1306175', 'GL192504.1:1307945..1308580', 'GL192504.1:1320858..>1321164))']\n",
      "Search id is \n",
      "KFW75712.1\n",
      "Mapping from UniProt\n",
      "Couldn't access a Uniprot record for KFW75712.1\n",
      "Checking in alternative databases\n",
      "['KL669211.1:<9153766..9153941', 'KL669211.1:9154452..9154619', 'KL669211.1:9155514..9155675', 'KL669211.1:9158928..9159560', 'KL669211.1:9164414..>9164579))']\n"
     ]
    }
   ],
   "source": [
    "# Save the files \n",
    "exons.save_genomic_records(aln, object_path, skipped_records_path=skip_path)"
   ]
  },
  {
   "cell_type": "markdown",
   "metadata": {},
   "source": [
    "Otherwise if we previously saved the exon structure we can just open the object from the filepath and visualise the exon structure"
   ]
  },
  {
   "cell_type": "code",
   "execution_count": 4,
   "metadata": {},
   "outputs": [
    {
     "name": "stdout",
     "output_type": "stream",
     "text": [
      "writing to  Files/Exons/exon_records.csv\n"
     ]
    }
   ],
   "source": [
    "# Open the file\n",
    "exon_records = exons.open_genomic_records(object_path)\n",
    "if exon_records:\n",
    "    exons.write_exon_counts_to_csv(exon_records, out_path)\n",
    "    exon_array = exons.get_exon_array(exon_records)"
   ]
  },
  {
   "cell_type": "code",
   "execution_count": 5,
   "metadata": {},
   "outputs": [
    {
     "name": "stdout",
     "output_type": "stream",
     "text": [
      "\u001b[1;25;4mCAG11477.1 \u001b[1;35;4mPPGPKPWPVVGNFGGFLIPSVIRR-----RFGPEAD--GSSKNAASVLTELAKLYGPVYSIYAGRQLIVILNGYKVVKEALSSHPEVFSDRPDIPAISIMTKRKGIVFAPYGPVWREHRKFCHTTLRSFGLGRLSLEPCIMDG\u001b[1;34;4mLSNVKTELLRLDAESGGTGVNPAPVISNAVSNVICSLVLGHRFDHRDQEFRSMLRLMDRGLEICVNSPAVLINVFPLLYHLPFGVFSELRQVERDITAFLKRFIANHLETLDPDNPRDLTDMYLME-ISARRA-AGEVDGGFTEDYLFYIIGDLFIAGTDTTANSVLWIILYMASFPDIQDKVQAEIDEVVGTLRTPSLSDKGKLPFTEAAIMEVQRLT\u001b[1;32;4mAVVPLAIPHMTSETIEFGGYTIPKGTVVLPNLWSVHRDPNEWDDPDSFDPTRFL\u001b[1;33;4mDEAGKLLRKECFIPFGIGRRVCMGEQLAKMELFLTTTTLLQAFEVRLPEGVPAPPL\u001b[1;37;4mHGRFGLTLAPCPYTVCINPR\n",
      "\u001b[1;25;4mKTF87224.1 \u001b[1;35;4mPPGPKPWPIVGNFGVFLVPSFILR-----RLAKNRKMISNPLSPQAGLMEMSKLYGNIFSIFVGPQLMVVLTGYDTVRDAMVNHPEVFSDRPHIPLVTIITKRKGIVFAPYGPLWRTNRKFCHSTLRSFGFGKLSLEPCIYEGLTMIKTELQ\u001b[1;34;4mILIEKAGPSGIDLTPLISNAVSNVISSMSLGQRFHHQDQEFRTMLDLMSHGLEISVNTSILLVNVFPWLYYLPCGVFKELRRAEIDITAFLKKIIMRHRATLDPENPRDFIDMYLVEMLSQQKS-ENSELSLFSEDDLFYIIGDLFIAGTDTTTNSVLWSILYMSLYPDVQEKVQQEIDAVVGSERVPSLTDKGNLPYTEATIMEVQRMTVVVPLSIPH\u001b[1;32;4mMASETTEFRGYTIPKGTVIIPNLWSVHRDPTVWENPDDFNPGRFLDEQGKLLRK\u001b[1;33;4mDCFIPFGIGRRVCMGEQLAKMELFLMFTSLMQAFTFRLPEGKSAPSMHGRFGLTLA\u001b[1;37;4mPCPFTVCVKAR\n",
      "\u001b[1;25;4mEFB16740.1 --\u001b[1;35;4mGPTPWPVVGNFGFVLLPPFLRRKSWLHRRARAAGMEPSALGPQLLLADLARVYGNVFSFFIGHYLVVVLSDFHSVREALVQQAEIFSDRPRVPLVSLVTKEK\u001b[1;34;4mGIVFAHYGPVWRQQRKFSHSTLRHFGLGKLSLEPKIIEEFKYVKEEMQ----KHGENPFDPFPIVNNAVSNIICSLCFGQRFDYTNSEFKKMLNLMSRALEICLNTQLLLVNICSWLYYLPFGPFKELRQIEKDITTFLKKIIKDHRESLDVENPQDFIDMYLLH---VEEERKNNSNSSFNEDYLFYIIGDLFIAGTDTTTNSLLWCLLYMSLNPDIQ\u001b[1;32;4mEKVQEEIERVIGADRVPSLTDKARMPYTEATIMEVQRLTVVVPLAIPHMTSEKT\u001b[1;33;4mVLQGYTIPKGTVVLPNLWSVHRDPAIWEKPDDFYPNRFLDDQGQLIKKETFIPFGI\u001b[1;37;4mGKRVCMGEQLAKMELFLMFVSLMQSFTFALPEDSKKPLLTGRYGLTLAPHPFSIIISKR\n",
      "\u001b[1;25;4mKFW75712.1 -------------------------------------------------\u001b[1;35;4mSLTKMYGSVFRLFVGSRPFIVLNTFEAVREALVQKAEVFSDRPSVPIVLMITHNK\u001b[1;34;4mGVIFAPYGPVWKQQRKFSLSTLRHFGVGRHSLEPKIIEELNFIKEEML----KHGKDSFNPFPIIRNAVSNVICSMAFGKRFNYEDVEFKTMLKNMARALELSVNSYMILVNICPWLYYLPFGPFRELRQTELDITAFLKKIIAQHRDTLDAANPRDFIDMYFIH---AEEE-KNNKESSFNDDYLFFIIGDLFIAGTDTTSNTILWCLLYMSLYPEVQ\u001b[1;32;4mEKVHAEVEAVLGRDKVPSLAHKAQMPFTEATIMEVQRMTAVVPLSIPRMASETA\u001b[1;33;4mVLQGYTIPKGSVIVPNLWSVHRDPNIWEKPDEFQPSRFLDENGQLIKKESFIPFGM\u001b[1;37;4mGKRVCMGEQLAKMELFLIFTSLMQSFTFLYPENAAKPSMEGRFGLTLAPCPFNIIALKR\n"
     ]
    }
   ],
   "source": [
    "# Map the exon boundaries to the alignment \n",
    "exons.map_exon_boundaries_to_alignment(aln, exon_records)"
   ]
  },
  {
   "cell_type": "code",
   "execution_count": null,
   "metadata": {
    "collapsed": true
   },
   "outputs": [],
   "source": []
  }
 ],
 "metadata": {
  "kernelspec": {
   "display_name": "Python 3",
   "language": "python",
   "name": "python3"
  },
  "language_info": {
   "codemirror_mode": {
    "name": "ipython",
    "version": 3
   },
   "file_extension": ".py",
   "mimetype": "text/x-python",
   "name": "python",
   "nbconvert_exporter": "python",
   "pygments_lexer": "ipython3",
   "version": "3.6.3"
  }
 },
 "nbformat": 4,
 "nbformat_minor": 2
}
