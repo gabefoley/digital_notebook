{
 "cells": [
  {
   "cell_type": "code",
   "execution_count": 1,
   "metadata": {
    "collapsed": true
   },
   "outputs": [],
   "source": [
    "import utilities\n",
    "import fasta\n",
    "import alignment_curation"
   ]
  },
  {
   "cell_type": "code",
   "execution_count": 2,
   "metadata": {
    "collapsed": true
   },
   "outputs": [],
   "source": [
    "# Read in the FASTA file\n",
    "seqs = utilities.load_sequences(\"files/example.fasta\")"
   ]
  },
  {
   "cell_type": "code",
   "execution_count": 3,
   "metadata": {},
   "outputs": [
    {
     "name": "stdout",
     "output_type": "stream",
     "text": [
      "The total length of CYP2U1 hits before cleaning them up is 5 \n",
      " \n",
      "And the sequences are - \n",
      "ARO89866.1 cytochrome P450 Cyp2u1 [Andrias davidianus]\n",
      "NP_001106471.1 cytochrome P450 family 2 subfamily U member 1 [Xenopus tropicalis]\n",
      "XP_018106696.1 PREDICTED: cytochrome P450 2U1-like [Xenopus laevis]\n",
      "XP_018409984.1 PREDICTED: cytochrome P450 2U1 [Nanorana parkeri]\n",
      "XP_006787161.1 PREDICTED: cytochrome P450 2U1-like [Neolamprologus brichardi]\n"
     ]
    }
   ],
   "source": [
    "print (\"The total length of CYP2U1 hits before cleaning them up is %d \\n \" % len(seqs))\n",
    "\n",
    "print (\"And the sequences are\")\n",
    "\n",
    "for seq in seqs.values():\n",
    "    print (seq.description)"
   ]
  },
  {
   "cell_type": "markdown",
   "metadata": {},
   "source": [
    "## Let's try cleaning up the sequences a bit.\n",
    "### We can specify certain header terms that we don't want to include in the headers."
   ]
  },
  {
   "cell_type": "code",
   "execution_count": null,
   "metadata": {
    "collapsed": true
   },
   "outputs": [],
   "source": []
  },
  {
   "cell_type": "code",
   "execution_count": 4,
   "metadata": {
    "collapsed": true
   },
   "outputs": [],
   "source": [
    "# Cytochrome P450 motif from Guengerich, Waterman & Egli 2016 (doi: 10.1016/j.tips.2016.05.006) FXXGXbXXCXG\n",
    "cytochrome_p450_motif = \"F..G[HRK]..C.G\"\n",
    "\n"
   ]
  },
  {
   "cell_type": "code",
   "execution_count": 5,
   "metadata": {},
   "outputs": [],
   "source": [
    "reduced_records = fasta.subset_records(records=seqs, length=500)\n",
    "cleaned_records = fasta.map_dict_to_records(reduced_records)"
   ]
  },
  {
   "cell_type": "code",
   "execution_count": 6,
   "metadata": {},
   "outputs": [
    {
     "name": "stdout",
     "output_type": "stream",
     "text": [
      "The total length of CYP2U1 hits after cleaning them up is 4 \n"
     ]
    }
   ],
   "source": [
    "print (\"The total length of CYP2U1 hits after cleaning them up is %d \" % len(cleaned_records))"
   ]
  },
  {
   "cell_type": "code",
   "execution_count": 9,
   "metadata": {},
   "outputs": [
    {
     "name": "stdout",
     "output_type": "stream",
     "text": [
      "The total length of CYP2U1 hits after cleaning them up is 2 \n"
     ]
    }
   ],
   "source": [
    "reduced_records = fasta.subset_records(\"2U1-like\", records=seqs, mode='include')\n",
    "cleaned_records = fasta.map_dict_to_records(reduced_records)\n",
    "print (\"The total length of CYP2U1 hits after cleaning them up is %d \" % len(cleaned_records))\n",
    "\n",
    "# reduced_records = fasta.exclude_character(reduced_records, \"X\")\n",
    "# reduced_records = fasta.subset_on_motif(reduced_records, cytochrome_p450_motif)"
   ]
  },
  {
   "cell_type": "code",
   "execution_count": 8,
   "metadata": {
    "collapsed": true
   },
   "outputs": [],
   "source": [
    "# Write the cleaned sequence file to disk\n",
    "\n",
    "# fasta.write_fasta(cyp2U1_cleaned_records, \"/Users/gabefoley/Dropbox/PhD/Projects/2U1/2U1_2018/Excluding plants fungi nematodes insects and bacteria/180312_fifty_percent_identity/Further_exclusions/April_2018/CYP2U1_CYP2R1/cyp2U1_50_percent_identity.fasta\")\n",
    "\n",
    "# fasta.write_fasta(cyp2R1_cleaned_records, \"/Users/gabefoley/Dropbox/PhD/Projects/2U1/2U1_2018/Excluding plants fungi nematodes insects and bacteria/180312_fifty_percent_identity/Further_exclusions/April_2018/CYP2U1_CYP2R1/cyp2R1_50_percent_identity.fasta\")"
   ]
  }
 ],
 "metadata": {
  "kernelspec": {
   "display_name": "Python 3",
   "language": "python",
   "name": "python3"
  },
  "language_info": {
   "codemirror_mode": {
    "name": "ipython",
    "version": 3
   },
   "file_extension": ".py",
   "mimetype": "text/x-python",
   "name": "python",
   "nbconvert_exporter": "python",
   "pygments_lexer": "ipython3",
   "version": "3.6.3"
  }
 },
 "nbformat": 4,
 "nbformat_minor": 2
}
