{
 "cells": [
  {
   "cell_type": "markdown",
   "metadata": {},
   "source": [
    "# This notebook shows the kinds of operations we can perform on FASTA files"
   ]
  },
  {
   "cell_type": "code",
   "execution_count": 3,
   "metadata": {},
   "outputs": [],
   "source": [
    "import fasta\n",
    "import utilities"
   ]
  },
  {
   "cell_type": "code",
   "execution_count": 5,
   "metadata": {},
   "outputs": [],
   "source": [
    "seqs = utilities.load_sequences(\"files/example.fasta\")"
   ]
  },
  {
   "cell_type": "markdown",
   "metadata": {},
   "source": [
    "### The function `load_sequences` takes a FASTA file and reads it into a dictionary with sequence IDs as the keys and the full Sequence objects as the values"
   ]
  },
  {
   "cell_type": "code",
   "execution_count": 17,
   "metadata": {},
   "outputs": [
    {
     "name": "stdout",
     "output_type": "stream",
     "text": [
      "The sequence ID is  ARO89866.1\n",
      "And the full record is ID: ARO89866.1\n",
      "Name: ARO89866.1\n",
      "Description: ARO89866.1 cytochrome P450 Cyp2u1 [Andrias davidianus]\n",
      "Number of features: 0\n",
      "/Database=Unknown\n",
      "Seq('MEAARLDAGLLLAMLPSPGAALLLGTLLLLGALLLQRRFGRVPAGCFPPGPRPW...TTR', SingleLetterAlphabet()) \n",
      "\n",
      "The sequence ID is  NP_001106471.1\n",
      "And the full record is ID: NP_001106471.1\n",
      "Name: NP_001106471.1\n",
      "Description: NP_001106471.1 cytochrome P450 family 2 subfamily U member 1 [Xenopus tropicalis]\n",
      "Number of features: 0\n",
      "/Database=NCBI\n",
      "Seq('MSGTLDWKQMGYASWSLLGDCASVSALLLYIALFLGLYLLMGSLWRYYQIIHSN...TKR', SingleLetterAlphabet()) \n",
      "\n",
      "The sequence ID is  XP_018106696.1\n",
      "And the full record is ID: XP_018106696.1\n",
      "Name: XP_018106696.1\n",
      "Description: XP_018106696.1 PREDICTED: cytochrome P450 2U1-like [Xenopus laevis]\n",
      "Number of features: 0\n",
      "/Database=NCBI\n",
      "Seq('MSGPGEDSMSGTLDWKQMYYASWSQMSNSASLSTMLLYIVLFLGLYLLMGCLWR...KER', SingleLetterAlphabet()) \n",
      "\n",
      "The sequence ID is  XP_018409984.1\n",
      "And the full record is ID: XP_018409984.1\n",
      "Name: XP_018409984.1\n",
      "Description: XP_018409984.1 PREDICTED: cytochrome P450 2U1 [Nanorana parkeri]\n",
      "Number of features: 0\n",
      "/Database=NCBI\n",
      "Seq('MDALTGSMFWKEYISTWVPHSYNVSWAVLLPYTFLFLGVCWLISSLWAYFQIIT...KKR', SingleLetterAlphabet()) \n",
      "\n"
     ]
    }
   ],
   "source": [
    "for seq_id, seq_record in seqs.items():\n",
    "    print (\"The sequence ID is \", seq_id)\n",
    "    print (\"And the full record is %s \\n\" % (seq_record))"
   ]
  },
  {
   "cell_type": "markdown",
   "metadata": {},
   "source": [
    "## There are some basic functions we can use to get some quick information on the FAST file"
   ]
  },
  {
   "cell_type": "code",
   "execution_count": 13,
   "metadata": {},
   "outputs": [
    {
     "name": "stdout",
     "output_type": "stream",
     "text": [
      "There are 4 sequences and the average length of sequence is 545\n"
     ]
    }
   ],
   "source": [
    "fasta.print_record_overview(seqs)"
   ]
  },
  {
   "cell_type": "markdown",
   "metadata": {},
   "source": []
  },
  {
   "cell_type": "code",
   "execution_count": null,
   "metadata": {
    "collapsed": true
   },
   "outputs": [],
   "source": [
    "for seq_id, seq_record in seqs.items():\n",
    "    print (\"The sequence ID is \", seq_id)\n",
    "    print (\"And the full record is %s \\n\" % (len(seq_record.seq)))"
   ]
  }
 ],
 "metadata": {
  "kernelspec": {
   "display_name": "Python 3",
   "language": "python",
   "name": "python3"
  },
  "language_info": {
   "codemirror_mode": {
    "name": "ipython",
    "version": 3
   },
   "file_extension": ".py",
   "mimetype": "text/x-python",
   "name": "python",
   "nbconvert_exporter": "python",
   "pygments_lexer": "ipython3",
   "version": "3.6.3"
  }
 },
 "nbformat": 4,
 "nbformat_minor": 2
}
