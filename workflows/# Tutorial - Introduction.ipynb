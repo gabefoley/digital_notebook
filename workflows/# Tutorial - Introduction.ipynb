{
 "cells": [
  {
   "cell_type": "markdown",
   "metadata": {},
   "source": [
    "# Tutorial for using Digital Notebooks\n",
    "\n",
    "### What are these Digital Notebooks?\n",
    "\n",
    "Digital Notebooks are a set of online Jupyter notebooks that allow users to run Python code, primarily for bioinformatic sequence analysis - including sequence alignment and phylogenetic analysis. \n",
    "\n",
    "They heavily rely on the BioPython and ete3 modules to run a lot of the code.\n",
    "\n",
    "## How do I use them?\n",
    "\n",
    "### File directory structure\n",
    "\n",
    "### Running the notebooks in the workflow folder\n",
    "\n",
    "### Running more personalised analysis in the notebooks folder\n",
    "\n",
    "### Importing and using the modules in src directly\n",
    "\n",
    "## How do I upload my own files?\n",
    "\n",
    "### Using the upload widget\n",
    "\n",
    "### Uploading directly to upload folders\n",
    "\n",
    "### Running \n",
    "\n",
    "## How do I download my results?\n",
    "\n",
    "## Do I have to run these online?\n",
    "\n",
    "## How can I contribute to the Digital Notebooks?"
   ]
  },
  {
   "cell_type": "code",
   "execution_count": null,
   "metadata": {
    "collapsed": true
   },
   "outputs": [],
   "source": []
  }
 ],
 "metadata": {
  "kernelspec": {
   "display_name": "Python 3",
   "language": "python",
   "name": "python3"
  },
  "language_info": {
   "codemirror_mode": {
    "name": "ipython",
    "version": 3
   },
   "file_extension": ".py",
   "mimetype": "text/x-python",
   "name": "python",
   "nbconvert_exporter": "python",
   "pygments_lexer": "ipython3",
   "version": "3.6.3"
  }
 },
 "nbformat": 4,
 "nbformat_minor": 2
}
