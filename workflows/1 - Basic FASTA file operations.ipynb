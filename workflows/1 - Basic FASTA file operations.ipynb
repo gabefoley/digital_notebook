{
 "cells": [
  {
   "cell_type": "markdown",
   "metadata": {},
   "source": [
    "# This notebook shows the kinds of operations we can perform on FASTA files"
   ]
  },
  {
   "cell_type": "code",
   "execution_count": 2,
   "metadata": {
    "collapsed": true
   },
   "outputs": [],
   "source": [
    "import fasta\n",
    "import utilities"
   ]
  },
  {
   "cell_type": "code",
   "execution_count": 3,
   "metadata": {
    "collapsed": true
   },
   "outputs": [],
   "source": [
    "seqs = utilities.load_sequences(\"files/example.fasta\")"
   ]
  },
  {
   "cell_type": "markdown",
   "metadata": {},
   "source": [
    "### The function `load_sequences` takes a FASTA file and reads it into a dictionary with sequence IDs as the keys and the full Sequence objects as the values"
   ]
  },
  {
   "cell_type": "code",
   "execution_count": 4,
   "metadata": {},
   "outputs": [
    {
     "name": "stdout",
     "output_type": "stream",
     "text": [
      "The sequence ID is  ARO89866.1\n",
      "And the full record is ID: ARO89866.1\n",
      "Name: ARO89866.1\n",
      "Description: ARO89866.1 cytochrome P450 Cyp2u1 [Andrias davidianus]\n",
      "Number of features: 0\n",
      "/Database=Unknown\n",
      "Seq('MEAARLDAGLLLAMLPSPGAALLLGTLLLLGALLLQRRFGRVPAGCFPPGPRPW...TTR', SingleLetterAlphabet()) \n",
      "\n",
      "The sequence ID is  NP_001106471.1\n",
      "And the full record is ID: NP_001106471.1\n",
      "Name: NP_001106471.1\n",
      "Description: NP_001106471.1 cytochrome P450 family 2 subfamily U member 1 [Xenopus tropicalis]\n",
      "Number of features: 0\n",
      "/Database=NCBI\n",
      "Seq('MSGTLDWKQMGYASWSLLGDCASVSALLLYIALFLGLYLLMGSLWRYYQIIHSN...TKR', SingleLetterAlphabet()) \n",
      "\n",
      "The sequence ID is  XP_018106696.1\n",
      "And the full record is ID: XP_018106696.1\n",
      "Name: XP_018106696.1\n",
      "Description: XP_018106696.1 PREDICTED: cytochrome P450 2U1-like [Xenopus laevis]\n",
      "Number of features: 0\n",
      "/Database=NCBI\n",
      "Seq('MSGPGEDSMSGTLDWKQMYYASWSQMSNSASLSTMLLYIVLFLGLYLLMGCLWR...KER', SingleLetterAlphabet()) \n",
      "\n",
      "The sequence ID is  XP_018409984.1\n",
      "And the full record is ID: XP_018409984.1\n",
      "Name: XP_018409984.1\n",
      "Description: XP_018409984.1 PREDICTED: cytochrome P450 2U1 [Nanorana parkeri]\n",
      "Number of features: 0\n",
      "/Database=NCBI\n",
      "Seq('MDALTGSMFWKEYISTWVPHSYNVSWAVLLPYTFLFLGVCWLISSLWAYFQIIT...KKR', SingleLetterAlphabet()) \n",
      "\n",
      "The sequence ID is  XP_006787161.1\n",
      "And the full record is ID: XP_006787161.1\n",
      "Name: XP_006787161.1\n",
      "Description: XP_006787161.1 PREDICTED: cytochrome P450 2U1-like [Neolamprologus brichardi]\n",
      "Number of features: 0\n",
      "/Database=NCBI\n",
      "Seq('MVSLSGLNDFVLLNANVAALIIIALALVALYQKQRNLRYKNIPPGPKPWPVVGN...HKK', SingleLetterAlphabet()) \n",
      "\n"
     ]
    }
   ],
   "source": [
    "for seq_id, seq_record in seqs.items():\n",
    "    print (\"The sequence ID is \", seq_id)\n",
    "    print (\"And the full record is %s \\n\" % (seq_record))"
   ]
  },
  {
   "cell_type": "markdown",
   "metadata": {},
   "source": [
    "## There are some basic functions we can use to get some quick information on the FASTA file"
   ]
  },
  {
   "cell_type": "code",
   "execution_count": 5,
   "metadata": {},
   "outputs": [
    {
     "name": "stdout",
     "output_type": "stream",
     "text": [
      "There are 5 sequences and the average length of sequence is 532\n"
     ]
    }
   ],
   "source": [
    "fasta.print_record_overview(seqs)"
   ]
  },
  {
   "cell_type": "code",
   "execution_count": 6,
   "metadata": {},
   "outputs": [
    {
     "name": "stdout",
     "output_type": "stream",
     "text": [
      "The sequence ID is  ARO89866.1\n",
      "And the full record is 531 amino acids long \n",
      "\n",
      "The sequence ID is  NP_001106471.1\n",
      "And the full record is 547 amino acids long \n",
      "\n",
      "The sequence ID is  XP_018106696.1\n",
      "And the full record is 555 amino acids long \n",
      "\n",
      "The sequence ID is  XP_018409984.1\n",
      "And the full record is 549 amino acids long \n",
      "\n",
      "The sequence ID is  XP_006787161.1\n",
      "And the full record is 481 amino acids long \n",
      "\n"
     ]
    }
   ],
   "source": [
    "for seq_id, seq_record in seqs.items():\n",
    "    print (\"The sequence ID is \", seq_id)\n",
    "    print (\"And the full record is %s amino acids long \\n\" % (len(seq_record.seq)))"
   ]
  },
  {
   "cell_type": "markdown",
   "metadata": {},
   "source": [
    "## We can also save out our new records at anytime "
   ]
  },
  {
   "cell_type": "code",
   "execution_count": 10,
   "metadata": {},
   "outputs": [],
   "source": [
    "# Remember that seqs is a dictionary of SeqRecords, so we have to convert it into just a collection of SeqRecords\n",
    "\n",
    "records = fasta.map_dict_to_records(seqs)\n",
    "\n",
    "fasta.write_fasta(records=records, filename=\"files/new_file.fasta\")"
   ]
  },
  {
   "cell_type": "markdown",
   "metadata": {
    "collapsed": true
   },
   "source": [
    "## And comparing between two FASTA files is simple, too"
   ]
  },
  {
   "cell_type": "code",
   "execution_count": 13,
   "metadata": {},
   "outputs": [
    {
     "ename": "TypeError",
     "evalue": "not enough arguments for format string",
     "output_type": "error",
     "traceback": [
      "\u001b[0;31m---------------------------------------------------------------------------\u001b[0m",
      "\u001b[0;31mTypeError\u001b[0m                                 Traceback (most recent call last)",
      "\u001b[0;32m<ipython-input-13-995e456ac409>\u001b[0m in \u001b[0;36m<module>\u001b[0;34m()\u001b[0m\n\u001b[1;32m      1\u001b[0m \u001b[0mseqs_missing\u001b[0m \u001b[0;34m=\u001b[0m \u001b[0mutilities\u001b[0m\u001b[0;34m.\u001b[0m\u001b[0mload_sequences\u001b[0m\u001b[0;34m(\u001b[0m\u001b[0;34m\"files/example_missing.fasta\"\u001b[0m\u001b[0;34m)\u001b[0m \u001b[0;31m# File that is missing the ARO89866.1 sequence\u001b[0m\u001b[0;34m\u001b[0m\u001b[0m\n\u001b[1;32m      2\u001b[0m \u001b[0;34m\u001b[0m\u001b[0m\n\u001b[0;32m----> 3\u001b[0;31m \u001b[0mprint\u001b[0m \u001b[0;34m(\u001b[0m\u001b[0;34m\"This file is in %s but not in %s - %s \"\u001b[0m\u001b[0;34m%\u001b[0m \u001b[0;34m(\u001b[0m\u001b[0mfasta\u001b[0m\u001b[0;34m.\u001b[0m\u001b[0mcompare_fasta\u001b[0m\u001b[0;34m(\u001b[0m\u001b[0mseqs\u001b[0m\u001b[0;34m,\u001b[0m \u001b[0mseqs_missing\u001b[0m\u001b[0;34m)\u001b[0m\u001b[0;34m)\u001b[0m\u001b[0;34m)\u001b[0m\u001b[0;34m\u001b[0m\u001b[0m\n\u001b[0m",
      "\u001b[0;31mTypeError\u001b[0m: not enough arguments for format string"
     ]
    }
   ],
   "source": [
    "seqs_missing = utilities.load_sequences(\"files/example_missing.fasta\") # File that is missing the ARO89866.1 sequence\n",
    "\n",
    "print (\"This file is in %s but not in %s - %s \"% (fasta.compare_fasta(seqs, seqs_missing)))"
   ]
  },
  {
   "cell_type": "code",
   "execution_count": null,
   "metadata": {
    "collapsed": true
   },
   "outputs": [],
   "source": []
  }
 ],
 "metadata": {
  "kernelspec": {
   "display_name": "Python 3",
   "language": "python",
   "name": "python3"
  },
  "language_info": {
   "codemirror_mode": {
    "name": "ipython",
    "version": 3
   },
   "file_extension": ".py",
   "mimetype": "text/x-python",
   "name": "python",
   "nbconvert_exporter": "python",
   "pygments_lexer": "ipython3",
   "version": "3.6.3"
  }
 },
 "nbformat": 4,
 "nbformat_minor": 2
}
