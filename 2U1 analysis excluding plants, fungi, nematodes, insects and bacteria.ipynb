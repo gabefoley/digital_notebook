{
 "cells": [
  {
   "cell_type": "code",
   "execution_count": 1,
   "metadata": {},
   "outputs": [],
   "source": [
    "from fasta import *\n",
    "import alignment\n",
    "import utilities\n",
    "import annotations\n",
    "from checkGenome import *\n",
    "from ipywidgets import widgets\n",
    "from ipywidgets import *\n",
    "from traitlets import *\n",
    "from IPython.display import display"
   ]
  },
  {
   "cell_type": "markdown",
   "metadata": {},
   "source": [
    "# Loading the files\n",
    "\n",
    "The first thing we want to do is load in our files. Loading them in this way actually loads them into a dictionary where the keys are the record IDs and the values are the full records."
   ]
  },
  {
   "cell_type": "code",
   "execution_count": 2,
   "metadata": {
    "collapsed": true
   },
   "outputs": [],
   "source": [
    "# Load the 2U1 files\n",
    "records = SeqIO.to_dict(SeqIO.parse(\"/Users/gabefoley/Dropbox/PhD/Projects/2U1/2U1_2018/Excluding plants fungi nematodes insects and bacteria/concatenated_output.fasta\", \"fasta\"))\n",
    "records_40 = SeqIO.to_dict(SeqIO.parse(\"/Users/gabefoley/Dropbox/PhD/Projects/2U1/2U1_2018/Excluding plants fungi nematodes insects and bacteria/40_percent_concatenated_output.fasta\", \"fasta\"))\n",
    "records_50 = SeqIO.to_dict(SeqIO.parse(\"/Users/gabefoley/Dropbox/PhD/Projects/2U1/2U1_2018/Excluding plants fungi nematodes insects and bacteria/50_percent_concatenated_output.fasta\", \"fasta\"))\n",
    "records_55 = SeqIO.to_dict(SeqIO.parse(\"/Users/gabefoley/Dropbox/PhD/Projects/2U1/2U1_2018/Excluding plants fungi nematodes insects and bacteria/55_percent_concatenated_output.fasta\", \"fasta\"))\n"
   ]
  },
  {
   "cell_type": "markdown",
   "metadata": {},
   "source": [
    "#### How many sequences do we have in the full records?"
   ]
  },
  {
   "cell_type": "code",
   "execution_count": 3,
   "metadata": {},
   "outputs": [
    {
     "name": "stdout",
     "output_type": "stream",
     "text": [
      "19998\n",
      "4686\n",
      "622\n",
      "421\n"
     ]
    }
   ],
   "source": [
    "print (len(records))\n",
    "print (len(records_40))\n",
    "print (len(records_50))\n",
    "print (len(records_55))\n"
   ]
  },
  {
   "cell_type": "markdown",
   "metadata": {},
   "source": [
    "# Creating subsets of the records\n",
    "### Including / excluding based on header annotations\n",
    "\n",
    "Now the workflow moves to including and excluding certain sequences. `subset_records` allows us to provide a list of terms which we either want or don't want in the header description. We can also give a minimum length for sequences to meet for inclusion.\n",
    "\n",
    "We don't ever alter the original `full_record`, we just create new dictionary objects that are subsets.\n",
    "\n",
    "We can either provide arguments directly to the function or we can pass in a list variable, such as `header_terms`.\n",
    "\n",
    "In the example below `only_2U1_records` is set to only include sequences which have either '2U1' or '2U1-like' in the header. And `filtered_records` will contain the full set of sequences as we are not providing a length minimum (and the default is 0) and we are passing in the currently empty `header_terms`."
   ]
  },
  {
   "cell_type": "code",
   "execution_count": 4,
   "metadata": {
    "collapsed": true
   },
   "outputs": [],
   "source": [
    "# A blank list to hold terms we want to exclude or include\n",
    "header_terms = []"
   ]
  },
  {
   "cell_type": "code",
   "execution_count": 5,
   "metadata": {},
   "outputs": [
    {
     "name": "stdout",
     "output_type": "stream",
     "text": [
      "The number of sequences without filtering for identity to the original candidates is 15739\n",
      "The number of sequences with 40% identity to the original candidates is 3047\n",
      "The number of sequences with 50% identity to the original candidates is 299\n",
      "The number of sequences with 55% identity to the original candidates is 275\n"
     ]
    }
   ],
   "source": [
    "records = subset_records(records=records, length=400, mode='exclude')\n",
    "records = exclude_character(records, \"X\")\n",
    "\n",
    "records_40 = subset_records(records=records_40, length=400, mode='exclude')\n",
    "records_40 = exclude_character(records_40, \"X\")\n",
    "\n",
    "records_50 = subset_records(records=records_50, length=400, mode='exclude')\n",
    "records_50 = exclude_character(records_50, \"X\")\n",
    "\n",
    "records_55 = subset_records(records=records_55, length=400, mode='exclude')\n",
    "records_55 = exclude_character(records_55, \"X\")\n",
    "\n",
    "print (\"The number of sequences without filtering for identity to the original candidates is %s\" % (len(records)))\n",
    "print (\"The number of sequences with 40%% identity to the original candidates is %s\" % (len(records_40)))\n",
    "print (\"The number of sequences with 50%% identity to the original candidates is %s\" % (len(records_50)))\n",
    "print (\"The number of sequences with 55%% identity to the original candidates is %s\" % (len(records_55)))\n",
    "\n"
   ]
  },
  {
   "cell_type": "code",
   "execution_count": null,
   "metadata": {
    "collapsed": true
   },
   "outputs": [],
   "source": []
  },
  {
   "cell_type": "code",
   "execution_count": 7,
   "metadata": {},
   "outputs": [
    {
     "name": "stdout",
     "output_type": "stream",
     "text": [
      "24\n",
      "PIO41157.1 hypothetical protein AB205_0089410 [Rana catesbeiana]\n",
      "XP_006768464.1 PREDICTED: cytochrome P450 2J2 [Myotis davidii]\n",
      "XP_014379039.1 PREDICTED: cytochrome P450 2A13-like isoform X1 [Alligator sinensis]\n",
      "XP_016404253.1 PREDICTED: cytochrome P450 2J3-like isoform X2 [Sinocyclocheilus rhinocerous]\n",
      "XP_021107397.1 cytochrome P450 2B4 isoform X2 [Heterocephalus glaber]\n",
      "XP_004941452.1 PREDICTED: vitamin D 25-hydroxylase isoform X2 [Gallus gallus]\n",
      "ELW64418.1 Cytochrome P450 2D17 [Tupaia chinensis]\n",
      "XP_014801266.1 PREDICTED: cytochrome P450 2D1-like [Calidris pugnax]\n",
      "KYO44822.1 hypothetical protein Y1Q_0006987 [Alligator mississippiensis]\n",
      "OCA35976.1 hypothetical protein XENTR_v90015294mg [Xenopus tropicalis]\n",
      "XP_006123186.1 PREDICTED: cytochrome P450 2J2-like, partial [Pelodiscus sinensis]\n",
      "XP_013766542.1 PREDICTED: cytochrome P450 2J6-like [Pundamilia nyererei]\n",
      "EPY88763.1 cytochrome P450 2C26-like isoform 2 [Camelus ferus]\n",
      "XP_013865517.1 PREDICTED: cytochrome P450 2K4-like isoform X2 [Austrofundulus limnaeus]\n",
      "KTF79201.1 hypothetical protein cypCar_00047955 [Cyprinus carpio]\n",
      "XP_002605102.1 hypothetical protein BRAFLDRAFT_123772 [Branchiostoma floridae]\n",
      "EDL30916.1 mCG15468 [Mus musculus]\n",
      "XP_006825012.1 PREDICTED: cytochrome P450 2D6-like [Saccoglossus kowalevskii]\n",
      "XP_023361104.1 uncharacterized protein LOC100926939 [Sarcophilus harrisii]\n",
      "XP_006520454.1 PREDICTED: cytochrome P450 2D10 isoform X1 [Mus musculus]\n",
      "PIK38219.1 putative steroid 17-alpha-hydroxylase/17,20 lyase [Apostichopus japonicus]\n",
      "PIK57532.1 putative steroid 17-alpha-hydroxylase/17,20 lyase [Apostichopus japonicus]\n",
      "XP_021107396.1 cytochrome P450 2B4 isoform X1 [Heterocephalus glaber]\n",
      "XP_016094679.1 PREDICTED: cytochrome P450 2J3-like isoform X2 [Sinocyclocheilus grahami]\n"
     ]
    }
   ],
   "source": [
    "differentRecords = getDifferentRecords(records_50, records_55)\n",
    "\n",
    "print (len(differentRecords))\n",
    "    \n",
    "for record_id, record in differentRecords.items():\n",
    "    print (record.description)\n",
    "#     annotations.getCommonNameFromID(record_id)\n",
    "\n",
    "    "
   ]
  },
  {
   "cell_type": "code",
   "execution_count": null,
   "metadata": {},
   "outputs": [],
   "source": [
    "exclude_list = [\"2U1\"]\n",
    "exclude_records = subset_records_with_regex(\"2U1\", records=records, mode=\"exclude\")\n",
    "exclude_records_40 = subset_records_with_regex(\"2U1\", records=records_40, mode=\"exclude\")\n",
    "exclude_records_55 = subset_records_with_regex(\"grab\",records=records_55, mode=\"exclude\")\n",
    "\n",
    "print (len(exclude_records)) \n",
    "print (len(exclude_records_40)) \n",
    "print (len(exclude_records_55)) \n"
   ]
  },
  {
   "cell_type": "code",
   "execution_count": null,
   "metadata": {
    "collapsed": true
   },
   "outputs": [],
   "source": [
    "for item in exclude_records_55:\n",
    "    print (exclude_records_55[item].description)"
   ]
  },
  {
   "cell_type": "code",
   "execution_count": null,
   "metadata": {
    "collapsed": true
   },
   "outputs": [],
   "source": [
    "for item in exclude_records_40:\n",
    "    print (exclude_records_40[item].description)"
   ]
  },
  {
   "cell_type": "code",
   "execution_count": null,
   "metadata": {
    "collapsed": true
   },
   "outputs": [],
   "source": [
    "species_counts = build_species_count(records=records_40)\n"
   ]
  },
  {
   "cell_type": "code",
   "execution_count": null,
   "metadata": {
    "collapsed": true,
    "scrolled": true
   },
   "outputs": [],
   "source": [
    "species_names = get_species_names(species_counts, min=1)\n",
    "for name in species_names:\n",
    "    print (name)"
   ]
  },
  {
   "cell_type": "markdown",
   "metadata": {},
   "source": [
    "### Plotting the frequency of proteins per species\n",
    "`plot_record_number` is a function that plots the numbers of IDs per species. We can set a minimum number of IDs that a species must have in order to be plotted."
   ]
  },
  {
   "cell_type": "code",
   "execution_count": null,
   "metadata": {
    "collapsed": true
   },
   "outputs": [],
   "source": [
    "plotthis = plot_record_number(species_counts, \"Bar\", min=3)\n",
    "py.iplot(plotthis, filename='inline_bar')"
   ]
  },
  {
   "cell_type": "code",
   "execution_count": null,
   "metadata": {
    "collapsed": true
   },
   "outputs": [],
   "source": [
    "plotthis = plot_record_number(species_counts, \"Bar\", min=2)\n",
    "py.iplot(plotthis, filename='inline_bar')"
   ]
  },
  {
   "cell_type": "code",
   "execution_count": null,
   "metadata": {
    "collapsed": true
   },
   "outputs": [],
   "source": [
    "plotthis = plot_record_number(species_counts, \"Bar\", min=5)\n",
    "py.iplot(plotthis, filename='inline_bar')"
   ]
  },
  {
   "cell_type": "markdown",
   "metadata": {},
   "source": [
    "#### We can also just extract the names using `get_species_name`, which also accepts a minimum number of IDs required and can print out the number of counts per each species"
   ]
  },
  {
   "cell_type": "code",
   "execution_count": null,
   "metadata": {
    "collapsed": true
   },
   "outputs": [],
   "source": [
    "species_names_with_counts = get_species_names(species_counts, min=3, counts=True)\n",
    "for name in species_names_with_counts:\n",
    "    print (name)"
   ]
  },
  {
   "cell_type": "markdown",
   "metadata": {},
   "source": [
    "### Counting the total number of sequences with multiple hits\n",
    "`count_ids` is a function that counts the total number of sequences in a species count dictionary, not just the number of unique species.\n",
    "\n",
    "As before, it can also take a minimum number of IDs required"
   ]
  },
  {
   "cell_type": "code",
   "execution_count": null,
   "metadata": {
    "collapsed": true
   },
   "outputs": [],
   "source": [
    "min_num = 5\n",
    "print (\"There are %s total sequences in our filtered dataset.\" % (count_ids(species_counts)))\n",
    "print (\"There are %s total sequences in our filtered dataset that have %d or more IDs per species.\" % (count_ids(species_counts, min=min_num), min_num))"
   ]
  },
  {
   "cell_type": "markdown",
   "metadata": {
    "collapsed": true
   },
   "source": [
    "# Generating datasets containing information about species with multiple hits\n",
    "For each species that has more than the given number of hits, we create \n",
    "1. A FASTA file of the protein sequences from that species\n",
    "2. An alignment of the protein sequences\n",
    "3. An information file telling use where in the genome the protein maps to\n",
    "4. A visual diagram of the genome mapping the proteins to the genome"
   ]
  },
  {
   "cell_type": "code",
   "execution_count": null,
   "metadata": {
    "collapsed": true
   },
   "outputs": [],
   "source": [
    "def generate_multiple_hit_data(species_names, species_counts, full_record, file_path):\n",
    "    id_dict = {}\n",
    "#     for name in species_names:\n",
    "#         seqs = map_species_to_records(species_counts[name], full_record)\n",
    "#         write_fasta(seqs, file_path + name + \" sequences\")\n",
    "#         alignmentFile = alignment.alignWithMAFFT(file_path + name + \" sequences\")\n",
    "#         alignment.writeAlignment(alignmentFile, file_path + name + \".aln\", \"fasta\")\n",
    "        \n",
    "\n",
    "    check_genomic_location(species_counts, min=1, file_path=file_path +\" gene locations \")\n",
    "    check_genomic_location(species_counts, min=1, visualise=\"linear\")\n",
    "\n",
    "\n",
    "species_names = get_species_names(species_counts, min=1)\n",
    "generate_multiple_hit_data(species_names, species_counts, full_record, \"files/multiple_hits/\")"
   ]
  },
  {
   "cell_type": "markdown",
   "metadata": {},
   "source": [
    "Or we could just use parts of this function. The cell below will just print out the locations of the proteins in the genome. We could save this to disk by providing an argument to the `file_path` variable or visualise it by providing either 'linear' or 'circular' to the `visualise` variable."
   ]
  },
  {
   "cell_type": "code",
   "execution_count": null,
   "metadata": {
    "collapsed": true
   },
   "outputs": [],
   "source": [
    "check_genomic_location(species_counts, min=5)"
   ]
  },
  {
   "cell_type": "markdown",
   "metadata": {},
   "source": [
    "# Saving the records to FASTA files\n",
    "Because `filtered_records` just contains the species name and IDs of these species, we need to map these IDs back to their full records. We can use the function `map_ids_to_records` which allows for us to select all the records in `filtered_ids` or just the unique species."
   ]
  },
  {
   "cell_type": "code",
   "execution_count": null,
   "metadata": {
    "collapsed": true,
    "scrolled": true
   },
   "outputs": [],
   "source": [
    "filtered_records = map_ids_to_records(species_counts, records_55)\n",
    "filtered_records_unique = map_ids_to_records(species_counts, records_55, unique=True)\n",
    "\n",
    "# Check that the numbers are correct\n",
    "print (len(filtered_records))\n",
    "print (len(filtered_records_unique))"
   ]
  },
  {
   "cell_type": "markdown",
   "metadata": {},
   "source": [
    "And now we can save these records to a new FASTA file using `write_fasta`"
   ]
  },
  {
   "cell_type": "code",
   "execution_count": null,
   "metadata": {
    "collapsed": true
   },
   "outputs": [],
   "source": [
    "write_fasta(filtered_records, \"/Users/gabefoley/Dropbox/PhD/Projects/2U1/2U1_2018/Excluding plants fungi nematodes insects and bacteria/2U1_40_percent.fasta\")\n",
    "write_fasta(filtered_records_unique, \"/Users/gabefoley/Dropbox/PhD/Projects/2U1/2U1_2018/Excluding plants fungi nematodes insects and bacteria/2U1_40_percent_unique.fasta\")\n",
    "# write_fasta(filtered_records_unique, \"files/2U1_BLAST_filtered_records_unique.fasta\")"
   ]
  },
  {
   "cell_type": "markdown",
   "metadata": {},
   "source": [
    "We can also use the function `map_species_to_records` to just map a particular species to a FASTA file."
   ]
  },
  {
   "cell_type": "code",
   "execution_count": null,
   "metadata": {
    "collapsed": true
   },
   "outputs": [],
   "source": [
    "priapulus_caudatus = map_species_to_records(species_counts['Priapulus caudatus'], full_record)\n",
    "write_fasta(priapulus_caudatus, \"files/priapulus_caudatus.fasta\")"
   ]
  }
 ],
 "metadata": {
  "kernelspec": {
   "display_name": "Python 3",
   "language": "python",
   "name": "python3"
  },
  "language_info": {
   "codemirror_mode": {
    "name": "ipython",
    "version": 3
   },
   "file_extension": ".py",
   "mimetype": "text/x-python",
   "name": "python",
   "nbconvert_exporter": "python",
   "pygments_lexer": "ipython3",
   "version": "3.6.3"
  }
 },
 "nbformat": 4,
 "nbformat_minor": 2
}
