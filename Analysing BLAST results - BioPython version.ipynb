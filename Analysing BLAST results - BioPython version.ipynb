{
 "cells": [
  {
   "cell_type": "code",
   "execution_count": 1,
   "metadata": {
    "collapsed": true
   },
   "outputs": [],
   "source": [
    "from fasta import *\n",
    "from checkGenome import *"
   ]
  },
  {
   "cell_type": "markdown",
   "metadata": {},
   "source": [
    "## The first thing to do is to perform a BLAST search"
   ]
  },
  {
   "cell_type": "code",
   "execution_count": 69,
   "metadata": {
    "collapsed": true
   },
   "outputs": [],
   "source": [
    "# Load the 2U1 files\n",
    "# full_record = SeqIO.to_dict(SeqIO.parse(\"files/2U1_all_candidates_PSI_BLAST_unique.fasta\", \"fasta\"))\n",
    "# full_record = SeqIO.to_dict(SeqIO.parse(\"files/Python_bivittaus_full_PSI.fasta\", \"fasta\"))\n",
    "full_record = SeqIO.to_dict(SeqIO.parse(\"files/2U1_and_2U1_like_candidates_BLAST_results_unique_X_seqs_removed.fasta\", \"fasta\"))"
   ]
  },
  {
   "cell_type": "markdown",
   "metadata": {},
   "source": [
    "#### How many sequences do we have in the full records?"
   ]
  },
  {
   "cell_type": "code",
   "execution_count": 70,
   "metadata": {},
   "outputs": [
    {
     "name": "stdout",
     "output_type": "stream",
     "text": [
      "577\n"
     ]
    }
   ],
   "source": [
    "print (len(full_record))"
   ]
  },
  {
   "cell_type": "markdown",
   "metadata": {},
   "source": [
    "#### Now we can chose to exclude sequences with certain words appearing in the header and set a minimum length"
   ]
  },
  {
   "cell_type": "code",
   "execution_count": 71,
   "metadata": {
    "collapsed": true
   },
   "outputs": [],
   "source": [
    "filtered_ids = build_species_count('unnamed protein product', '2J2-like', '2J2', '2J', '2D17', '2J6', '2J6-like', '2P3', '2P3-like', '2B4-like', '2B4', '2D15', '2D15-like', 'CYP2N', 'vitamin D', '2B15', '2B15-like', '2D14', '2D14-like', '2D20', '2C31-like', '2C20-like', '2C31', '2C20', '2B19-like', '2D3', '2C15-like', '2H2-like', '2C5-like', '2D49', '2B12-like', 'subfamily J', 'subfamily j', 'subfamily V', '2H1', '2H1-like', '2D6', '2D6-like', '2D26', '2D26-like', 'Cyp2v1', '2C1-like', '2V1', records=full_record, length=400)"
   ]
  },
  {
   "cell_type": "markdown",
   "metadata": {},
   "source": [
    "#### `filtered_ids` is actually a list that maps Species name to the IDs that come from that species. So we can use it to easily see how many unique species we have and which species are over represented."
   ]
  },
  {
   "cell_type": "code",
   "execution_count": 72,
   "metadata": {},
   "outputs": [
    {
     "name": "stdout",
     "output_type": "stream",
     "text": [
      "There are 202 unique species in our dataset.\n"
     ]
    }
   ],
   "source": [
    "print(\"There are %s unique species in our dataset.\" % (len(filtered_ids)))"
   ]
  },
  {
   "cell_type": "markdown",
   "metadata": {},
   "source": [
    "#### `plot_record_number` is a function that plots the numbers of IDs per species. We can set a minimum number of IDs that a species must have in order to be plotted."
   ]
  },
  {
   "cell_type": "code",
   "execution_count": 6,
   "metadata": {},
   "outputs": [
    {
     "data": {
      "text/html": [
       "<iframe id=\"igraph\" scrolling=\"no\" style=\"border:none;\" seamless=\"seamless\" src=\"https://plot.ly/~gabefoley/3.embed\" height=\"525px\" width=\"100%\"></iframe>"
      ],
      "text/plain": [
       "<plotly.tools.PlotlyDisplay object>"
      ]
     },
     "execution_count": 6,
     "metadata": {},
     "output_type": "execute_result"
    }
   ],
   "source": [
    "plotthis = plot_record_number(filtered_ids, min=0)\n",
    "py.iplot(plotthis, filename='inline_bar')"
   ]
  },
  {
   "cell_type": "code",
   "execution_count": null,
   "metadata": {
    "collapsed": true
   },
   "outputs": [],
   "source": [
    "plotthis = plot_record_number(filtered_ids, min=4)\n",
    "py.iplot(plotthis, filename='inline_bar')"
   ]
  },
  {
   "cell_type": "code",
   "execution_count": null,
   "metadata": {
    "collapsed": true
   },
   "outputs": [],
   "source": [
    "plotthis = plot_record_number(filtered_ids, min=5)\n",
    "py.iplot(plotthis, filename='inline_bar')"
   ]
  },
  {
   "cell_type": "markdown",
   "metadata": {},
   "source": [
    "#### We can also just extract the names using `get_species_name`, which also accepts a minimum number of IDs required and can print out the number of counts per each species"
   ]
  },
  {
   "cell_type": "code",
   "execution_count": 58,
   "metadata": {
    "scrolled": true
   },
   "outputs": [
    {
     "name": "stdout",
     "output_type": "stream",
     "text": [
      "Danio rerio\n",
      "Oryzias melastigma\n",
      "Branchiostoma floridae\n",
      "Branchiostoma belcheri\n"
     ]
    }
   ],
   "source": [
    "get_species_names(filtered_ids, min=5)"
   ]
  },
  {
   "cell_type": "code",
   "execution_count": 59,
   "metadata": {},
   "outputs": [
    {
     "name": "stdout",
     "output_type": "stream",
     "text": [
      "Danio rerio 9\n",
      "Oryzias melastigma 9\n",
      "Branchiostoma floridae 20\n",
      "Branchiostoma belcheri 20\n"
     ]
    }
   ],
   "source": [
    "get_species_names(filtered_ids, min=5, counts=True)"
   ]
  },
  {
   "cell_type": "markdown",
   "metadata": {},
   "source": [
    "#### `count_ids` is a function that counts the total number of sequences in filtered_ids, not just the number of unique species."
   ]
  },
  {
   "cell_type": "code",
   "execution_count": 60,
   "metadata": {},
   "outputs": [
    {
     "name": "stdout",
     "output_type": "stream",
     "text": [
      "There are 295 total sequences in our filtered dataset.\n"
     ]
    }
   ],
   "source": [
    "print (\"There are %s total sequences in our filtered dataset.\" % (count_ids(filtered_ids)))"
   ]
  },
  {
   "cell_type": "markdown",
   "metadata": {},
   "source": [
    "#### As before, it can also take a minimum number of IDs required"
   ]
  },
  {
   "cell_type": "code",
   "execution_count": 61,
   "metadata": {},
   "outputs": [
    {
     "name": "stdout",
     "output_type": "stream",
     "text": [
      "There are 162 total sequences in our filtered dataset that have 1 or more IDs per species.\n"
     ]
    }
   ],
   "source": [
    "min_num = 1\n",
    "print (\"There are %s total sequences in our filtered dataset that have %d or more IDs per species.\" % (count_ids(filtered_ids, min=min_num), min_num))"
   ]
  },
  {
   "cell_type": "code",
   "execution_count": 11,
   "metadata": {},
   "outputs": [
    {
     "name": "stdout",
     "output_type": "stream",
     "text": [
      "Pygocentrus nattereri\n",
      "['108440017', '108440016', '108440015', '108440014', '108440013', '108440010', '108429574']\n",
      "7\n",
      "Danio rerio\n",
      "['494153', '768294', '555510', '492484', '101882126', '324212', '556280', '792207', '414933']\n",
      "9\n",
      "Oryzias melastigma\n",
      "[]\n",
      "0\n",
      "Branchiostoma floridae\n",
      "['7255781', '7253488', '7252428', '7251670', '7250689', '7246431', '7238522', '7238246', '7232835', '7231615', '7231442', '7230529', '7228756', '7228733', '7224336', '7215875', '7215870', '7214905', '7214642', '7208936']\n",
      "20\n",
      "Branchiostoma belcheri\n",
      "['109487178', '109486409', '109483948', '109483947', '109483946', '109481879', '109481878', '109481830', '109477107', '109477038', '109475266', '109474037', '109472880', '109472128', '109471849', '109470627', '109467919', '109467880', '109461727', '109461725']\n",
      "20\n"
     ]
    }
   ],
   "source": [
    "check_genomic_location(filtered_ids, min=5, visualise=\"linear\")"
   ]
  },
  {
   "cell_type": "code",
   "execution_count": null,
   "metadata": {
    "collapsed": true
   },
   "outputs": [],
   "source": []
  },
  {
   "cell_type": "markdown",
   "metadata": {},
   "source": [
    "#### Because `filtered_ids` just contains the species name and IDs of these species, we need to map these IDs back to their full records. We can use the function `map_ids_to_records` which allows for us to select all the records in `filtered_ids` or just the unique species."
   ]
  },
  {
   "cell_type": "code",
   "execution_count": 73,
   "metadata": {
    "scrolled": true
   },
   "outputs": [
    {
     "name": "stdout",
     "output_type": "stream",
     "text": [
      "420\n",
      "202\n"
     ]
    }
   ],
   "source": [
    "filtered_records = map_ids_to_records(filtered_ids, full_record)\n",
    "filtered_records_unique = map_ids_to_records(filtered_ids, full_record, unique=True)\n",
    "\n",
    "# Check that the numbers are correct\n",
    "print (len(filtered_records))\n",
    "print (len(filtered_records_unique))"
   ]
  },
  {
   "cell_type": "markdown",
   "metadata": {},
   "source": [
    "#### And now we can save these records to a new FASTA file using `write_fasta`"
   ]
  },
  {
   "cell_type": "code",
   "execution_count": 74,
   "metadata": {
    "collapsed": true
   },
   "outputs": [],
   "source": [
    "write_fasta(filtered_records, \"files/filtered_records.fasta\")\n",
    "write_fasta(filtered_records_unique, \"files/filtered_records_unique.fasta\")"
   ]
  },
  {
   "cell_type": "code",
   "execution_count": null,
   "metadata": {
    "collapsed": true
   },
   "outputs": [],
   "source": []
  }
 ],
 "metadata": {
  "kernelspec": {
   "display_name": "Python 3",
   "language": "python",
   "name": "python3"
  },
  "language_info": {
   "codemirror_mode": {
    "name": "ipython",
    "version": 3
   },
   "file_extension": ".py",
   "mimetype": "text/x-python",
   "name": "python",
   "nbconvert_exporter": "python",
   "pygments_lexer": "ipython3",
   "version": "3.6.3"
  }
 },
 "nbformat": 4,
 "nbformat_minor": 2
}
